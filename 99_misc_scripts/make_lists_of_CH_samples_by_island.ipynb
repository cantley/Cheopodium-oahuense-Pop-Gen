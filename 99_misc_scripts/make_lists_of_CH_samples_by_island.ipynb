{
 "cells": [
  {
   "cell_type": "code",
   "execution_count": 6,
   "metadata": {},
   "outputs": [
    {
     "name": "stdout",
     "output_type": "stream",
     "text": [
      "Written to Big_Island_samples.txt: CO-CH-4,CO-CH-5,CO-CH-3,CO-CH-6,CO-CH-7,CO-CH-8,CO-CH-9,CO-CH-10,CO-CH-11,CO-CH-12,CO-CH-46\n",
      "Written to FFS_samples.txt: CO-CH-36,CO-CH-37\n",
      "Written to Kauai_samples.txt: CO-CH-28,CO-CH-27\n",
      "Written to Kaula_samples.txt: CO-CH-29\n",
      "Written to Lisianski_samples.txt: CO-CH-38\n",
      "Written to Maui_samples.txt: CO-CH-14,CO-CH-13,CO-CH-15\n",
      "Written to Molokai_samples.txt: CO-CH-16,CO-CH-18,CO-CH-39,CO-CH-40,CO-CH-44,CO-CH-45\n",
      "Written to Necker_samples.txt: CO-CH-32,CO-CH-33,CO-CH-34,CO-CH-35\n",
      "Written to Nihoa_samples.txt: CO-CH-30,CO-CH-31\n",
      "Written to Oahu_samples.txt: CO-CH-25,CO-CH-1,CO-CH-2,CO-CH-20,CO-CH-21,CO-CH-22,CO-CH-23,CO-CH-24,CO-CH-26\n",
      "Written to Big_Island-exclusive_samples.txt: CO-CH-36,CO-CH-37,CO-CH-28,CO-CH-27,CO-CH-29,CO-CH-38,CO-CH-14,CO-CH-13,CO-CH-15,CO-CH-16,CO-CH-18,CO-CH-39,CO-CH-40,CO-CH-44,CO-CH-45,CO-CH-32,CO-CH-33,CO-CH-34,CO-CH-35,CO-CH-30,CO-CH-31,CO-CH-25,CO-CH-1,CO-CH-2,CO-CH-20,CO-CH-21,CO-CH-22,CO-CH-23,CO-CH-24,CO-CH-26\n",
      "Written to FFS-exclusive_samples.txt: CO-CH-4,CO-CH-5,CO-CH-3,CO-CH-6,CO-CH-7,CO-CH-8,CO-CH-9,CO-CH-10,CO-CH-11,CO-CH-12,CO-CH-46,CO-CH-28,CO-CH-27,CO-CH-29,CO-CH-38,CO-CH-14,CO-CH-13,CO-CH-15,CO-CH-16,CO-CH-18,CO-CH-39,CO-CH-40,CO-CH-44,CO-CH-45,CO-CH-32,CO-CH-33,CO-CH-34,CO-CH-35,CO-CH-30,CO-CH-31,CO-CH-25,CO-CH-1,CO-CH-2,CO-CH-20,CO-CH-21,CO-CH-22,CO-CH-23,CO-CH-24,CO-CH-26\n",
      "Written to Kauai-exclusive_samples.txt: CO-CH-4,CO-CH-5,CO-CH-3,CO-CH-6,CO-CH-7,CO-CH-8,CO-CH-9,CO-CH-10,CO-CH-11,CO-CH-12,CO-CH-46,CO-CH-36,CO-CH-37,CO-CH-29,CO-CH-38,CO-CH-14,CO-CH-13,CO-CH-15,CO-CH-16,CO-CH-18,CO-CH-39,CO-CH-40,CO-CH-44,CO-CH-45,CO-CH-32,CO-CH-33,CO-CH-34,CO-CH-35,CO-CH-30,CO-CH-31,CO-CH-25,CO-CH-1,CO-CH-2,CO-CH-20,CO-CH-21,CO-CH-22,CO-CH-23,CO-CH-24,CO-CH-26\n",
      "Written to Kaula-exclusive_samples.txt: CO-CH-4,CO-CH-5,CO-CH-3,CO-CH-6,CO-CH-7,CO-CH-8,CO-CH-9,CO-CH-10,CO-CH-11,CO-CH-12,CO-CH-46,CO-CH-36,CO-CH-37,CO-CH-28,CO-CH-27,CO-CH-38,CO-CH-14,CO-CH-13,CO-CH-15,CO-CH-16,CO-CH-18,CO-CH-39,CO-CH-40,CO-CH-44,CO-CH-45,CO-CH-32,CO-CH-33,CO-CH-34,CO-CH-35,CO-CH-30,CO-CH-31,CO-CH-25,CO-CH-1,CO-CH-2,CO-CH-20,CO-CH-21,CO-CH-22,CO-CH-23,CO-CH-24,CO-CH-26\n",
      "Written to Lisianski-exclusive_samples.txt: CO-CH-4,CO-CH-5,CO-CH-3,CO-CH-6,CO-CH-7,CO-CH-8,CO-CH-9,CO-CH-10,CO-CH-11,CO-CH-12,CO-CH-46,CO-CH-36,CO-CH-37,CO-CH-28,CO-CH-27,CO-CH-29,CO-CH-14,CO-CH-13,CO-CH-15,CO-CH-16,CO-CH-18,CO-CH-39,CO-CH-40,CO-CH-44,CO-CH-45,CO-CH-32,CO-CH-33,CO-CH-34,CO-CH-35,CO-CH-30,CO-CH-31,CO-CH-25,CO-CH-1,CO-CH-2,CO-CH-20,CO-CH-21,CO-CH-22,CO-CH-23,CO-CH-24,CO-CH-26\n",
      "Written to Maui-exclusive_samples.txt: CO-CH-4,CO-CH-5,CO-CH-3,CO-CH-6,CO-CH-7,CO-CH-8,CO-CH-9,CO-CH-10,CO-CH-11,CO-CH-12,CO-CH-46,CO-CH-36,CO-CH-37,CO-CH-28,CO-CH-27,CO-CH-29,CO-CH-38,CO-CH-16,CO-CH-18,CO-CH-39,CO-CH-40,CO-CH-44,CO-CH-45,CO-CH-32,CO-CH-33,CO-CH-34,CO-CH-35,CO-CH-30,CO-CH-31,CO-CH-25,CO-CH-1,CO-CH-2,CO-CH-20,CO-CH-21,CO-CH-22,CO-CH-23,CO-CH-24,CO-CH-26\n",
      "Written to Molokai-exclusive_samples.txt: CO-CH-4,CO-CH-5,CO-CH-3,CO-CH-6,CO-CH-7,CO-CH-8,CO-CH-9,CO-CH-10,CO-CH-11,CO-CH-12,CO-CH-46,CO-CH-36,CO-CH-37,CO-CH-28,CO-CH-27,CO-CH-29,CO-CH-38,CO-CH-14,CO-CH-13,CO-CH-15,CO-CH-32,CO-CH-33,CO-CH-34,CO-CH-35,CO-CH-30,CO-CH-31,CO-CH-25,CO-CH-1,CO-CH-2,CO-CH-20,CO-CH-21,CO-CH-22,CO-CH-23,CO-CH-24,CO-CH-26\n",
      "Written to Necker-exclusive_samples.txt: CO-CH-4,CO-CH-5,CO-CH-3,CO-CH-6,CO-CH-7,CO-CH-8,CO-CH-9,CO-CH-10,CO-CH-11,CO-CH-12,CO-CH-46,CO-CH-36,CO-CH-37,CO-CH-28,CO-CH-27,CO-CH-29,CO-CH-38,CO-CH-14,CO-CH-13,CO-CH-15,CO-CH-16,CO-CH-18,CO-CH-39,CO-CH-40,CO-CH-44,CO-CH-45,CO-CH-30,CO-CH-31,CO-CH-25,CO-CH-1,CO-CH-2,CO-CH-20,CO-CH-21,CO-CH-22,CO-CH-23,CO-CH-24,CO-CH-26\n",
      "Written to Nihoa-exclusive_samples.txt: CO-CH-4,CO-CH-5,CO-CH-3,CO-CH-6,CO-CH-7,CO-CH-8,CO-CH-9,CO-CH-10,CO-CH-11,CO-CH-12,CO-CH-46,CO-CH-36,CO-CH-37,CO-CH-28,CO-CH-27,CO-CH-29,CO-CH-38,CO-CH-14,CO-CH-13,CO-CH-15,CO-CH-16,CO-CH-18,CO-CH-39,CO-CH-40,CO-CH-44,CO-CH-45,CO-CH-32,CO-CH-33,CO-CH-34,CO-CH-35,CO-CH-25,CO-CH-1,CO-CH-2,CO-CH-20,CO-CH-21,CO-CH-22,CO-CH-23,CO-CH-24,CO-CH-26\n",
      "Written to Oahu-exclusive_samples.txt: CO-CH-4,CO-CH-5,CO-CH-3,CO-CH-6,CO-CH-7,CO-CH-8,CO-CH-9,CO-CH-10,CO-CH-11,CO-CH-12,CO-CH-46,CO-CH-36,CO-CH-37,CO-CH-28,CO-CH-27,CO-CH-29,CO-CH-38,CO-CH-14,CO-CH-13,CO-CH-15,CO-CH-16,CO-CH-18,CO-CH-39,CO-CH-40,CO-CH-44,CO-CH-45,CO-CH-32,CO-CH-33,CO-CH-34,CO-CH-35,CO-CH-30,CO-CH-31\n"
     ]
    }
   ],
   "source": [
    "import pandas as pd\n",
    "\n",
    "# path of the rename file, which contains lists of samples and their islands of origin\n",
    "names_in_file = \"../00_data/Chenopodium DNA Extraction CH population - Martine 2017 - Renaming for R.csv\"\n",
    "\n",
    "#import the CSV\n",
    "names = pd.read_csv(names_in_file)\n",
    "\n",
    "# This section of the script...\n",
    "# imports the renaming file for all follow-on applications; and\n",
    "# makes text files with strings of CH sample names from each island\n",
    "\n",
    "islands = []                   # empty list of islands\n",
    "for island in names['Island']: # cycle through the list\n",
    "    if island not in islands:  # is it in the list? if not...\n",
    "        islands.append(island) # makes a list of islands, with no duplicates\n",
    "        filename = f\"{island}_samples.txt\"\n",
    "        # makes empty text files for each island\n",
    "        with open(f\"../00_data/CH_pop_lists/{filename}\", \"w\") as file_handle: \n",
    "            subset = names[names['Island']==island] # makes a subset from the specific island we're looking at\n",
    "            sample_list = f'' # makes an empty string\n",
    "            for sample in subset['Old Name']: # iterates over the samples in the island subset\n",
    "                sample_list+=f'{sample},'     # adds samples as we go\n",
    "            sample_list_trimmed=f'{sample_list[:-1]}'\n",
    "            file_handle.write(sample_list_trimmed) # adds the carat, slices off the last comma, writes the list\n",
    "            print(f'Written to {filename}: {sample_list_trimmed}')\n",
    "\n",
    "\n",
    "# this portion of the script is for building EXCLUSIVE strings; e.g., all herbarium samples not from Oahu.\n",
    "# this is for subsetting using the exclusive feature of VCFtools, \n",
    "#    which excludes samples based on a string list.\n",
    "#    so if we give it a string of samples not from (e.g.) Oahu,\n",
    "#    we will retain only Oahu samples.\n",
    "\n",
    "for is_island in islands:\n",
    "    not_islands = []\n",
    "    for not_island in islands: \n",
    "        if not_island is not is_island:\n",
    "            not_islands.append(not_island)\n",
    "    not_island_str=''                  #this is the empty string we'll be building in the format CO-CH-XX,CO-CH-XY,CO-CH-XZ\n",
    "    for not_island in not_islands:\n",
    "        with open(f\"../00_data/CH_pop_lists/{not_island}_samples.txt\", \"r\") as not_island_file:\n",
    "            not_island_str+=f'{not_island_file.read()},'\n",
    "    filename = f'{is_island}-exclusive_samples.txt'\n",
    "    not_island_str_trimmed = not_island_str[:-1]\n",
    "    with open(f\"../00_data/CH_pop_lists/{filename}\", \"w\") as except_is_island_file:\n",
    "        print(f'Written to {filename}: {not_island_str_trimmed}')\n",
    "        except_is_island_file.write(not_island_str_trimmed)"
   ]
  }
 ],
 "metadata": {
  "kernelspec": {
   "display_name": "Python 3 (ipykernel)",
   "language": "python",
   "name": "python3"
  },
  "language_info": {
   "codemirror_mode": {
    "name": "ipython",
    "version": 3
   },
   "file_extension": ".py",
   "mimetype": "text/x-python",
   "name": "python",
   "nbconvert_exporter": "python",
   "pygments_lexer": "ipython3",
   "version": "3.11.9"
  }
 },
 "nbformat": 4,
 "nbformat_minor": 4
}
