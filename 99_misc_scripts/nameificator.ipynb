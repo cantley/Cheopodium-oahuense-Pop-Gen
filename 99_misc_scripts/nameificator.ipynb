{
 "cells": [
  {
   "cell_type": "code",
   "execution_count": 1,
   "id": "f5e84c66",
   "metadata": {},
   "outputs": [],
   "source": [
    "import os\n",
    "import pandas as pd"
   ]
  },
  {
   "cell_type": "code",
   "execution_count": 2,
   "id": "5b013bf4",
   "metadata": {},
   "outputs": [],
   "source": [
    "!mkdir -p \"../00_data/CH_pop_lists\""
   ]
  },
  {
   "cell_type": "code",
   "execution_count": 3,
   "id": "944afd76-92dc-4342-a132-df986fcd5d74",
   "metadata": {},
   "outputs": [],
   "source": [
    "# This cell...\n",
    "# imports the renaming file for all follow-on applications\n",
    "\n",
    "# path of the rename file\n",
    "names_in_file = \"../00_data/Chenopodium DNA Extraction CH population - Martine 2017 - Renaming for R.csv\"\n",
    "\n",
    "#import the CSV\n",
    "names = pd.read_csv(names_in_file)"
   ]
  },
  {
   "cell_type": "code",
   "execution_count": 20,
   "id": "f2f01250",
   "metadata": {
    "collapsed": true,
    "jupyter": {
     "outputs_hidden": true
    }
   },
   "outputs": [
    {
     "ename": "NameError",
     "evalue": "name 'names' is not defined",
     "output_type": "error",
     "traceback": [
      "\u001b[31m---------------------------------------------------------------------------\u001b[39m",
      "\u001b[31mNameError\u001b[39m                                 Traceback (most recent call last)",
      "\u001b[36mCell\u001b[39m\u001b[36m \u001b[39m\u001b[32mIn[20]\u001b[39m\u001b[32m, line 3\u001b[39m\n\u001b[32m      1\u001b[39m \u001b[38;5;66;03m# This cell makes text files with strings of sample names from each island\u001b[39;00m\n\u001b[32m      2\u001b[39m islands = []                   \u001b[38;5;66;03m# empty list of islands\u001b[39;00m\n\u001b[32m----> \u001b[39m\u001b[32m3\u001b[39m \u001b[38;5;28;01mfor\u001b[39;00m island \u001b[38;5;129;01min\u001b[39;00m \u001b[43mnames\u001b[49m[\u001b[33m'\u001b[39m\u001b[33mIsland\u001b[39m\u001b[33m'\u001b[39m]: \u001b[38;5;66;03m# cycle through the list\u001b[39;00m\n\u001b[32m      4\u001b[39m     \u001b[38;5;28;01mif\u001b[39;00m island \u001b[38;5;129;01mnot\u001b[39;00m \u001b[38;5;129;01min\u001b[39;00m islands:  \u001b[38;5;66;03m# is it in the list? if not...\u001b[39;00m\n\u001b[32m      5\u001b[39m         islands.append(island) \u001b[38;5;66;03m# makes a list of islands, with no duplicates\u001b[39;00m\n",
      "\u001b[31mNameError\u001b[39m: name 'names' is not defined"
     ]
    }
   ],
   "source": [
    "# This cell makes text files with strings of sample names from each island\n",
    "islands = []                   # empty list of islands\n",
    "for island in names['Island']: # cycle through the list\n",
    "    if island not in islands:  # is it in the list? if not...\n",
    "        islands.append(island) # makes a list of islands, with no duplicates\n",
    "        filename = f\"{island}_samples.txt\" # makes empty text files for each island\n",
    "        with open(f\"../00_data/CH_pop_lists/{filename}\", \"w\") as file_handle: \n",
    "            subset = names[names['Island']==island] # makes a subset from the specific island we're looking at\n",
    "            sample_list = f'' # makes an empty string\n",
    "            for sample in subset['Old Name']: # iterates over the samples in the island subset\n",
    "                sample_list+=f'{sample},'     # adds samples as we go\n",
    "            file_handle.write(f'^{sample_list[:-1]}')           # slices off the last comma\n",
    "            #islands_list.write(\"\") # clears the file in case it exists already\n",
    "        #with open(f\"../00_data/CH_pop_lists/{filename}\", \"a\") as islands_list: #\n",
    "        #    islands_list.write(island) # add it"
   ]
  },
  {
   "cell_type": "code",
   "execution_count": 4,
   "id": "f74a5b3e",
   "metadata": {},
   "outputs": [],
   "source": [
    "# this cell renames the \"CO-CH\" type samples in a Newick file to be more descriptive by including the island of origin.\n",
    "\n",
    "# path of the newick file to be renamed\n",
    "newick_in_file = \"../06_phylos/analysis-iqtree/chenopodium_20250304b-tetraploid.indivmiss60.locimiss50.thin10.maf0.01.LD0.8-1000.min4.phy.contree\"\n",
    "\n",
    "with open(newick_in_file, \"r\") as newick_file: # opens the old file\n",
    "    # create a dictionary for old and new values\n",
    "    namedict = dict(zip(names[\"Old Name\"], names[\"New Name\"]))\n",
    "    # making filenames and pathnames\n",
    "    newick_out_file = os.path.basename(newick_in_file)+\".renamed\"\n",
    "    newick_out_dir  = os.path.dirname(newick_in_file)+\"/\"\n",
    "    newick_out = newick_file.read()            # saves its string as a variable\n",
    "    for name in namedict:                      # iterates over the dictionary of names\n",
    "        old_str = f\"{str(name)}:\"              # attaches a \":\" character to the end of the old name to prevent issues with similar names, e.g., CH-1 and CH-11 \n",
    "        new_str = f\"{str(namedict.get(name))}:\"# same as above but for the new values; the \":\" is at the end of every name in Newick format\n",
    "        newick_out = newick_out.replace(old_str, new_str) # does the replacing\n",
    "with open(newick_out_dir+newick_out_file, \"w\") as out_handle: out_handle.write(newick_out) # writes the file"
   ]
  },
  {
   "cell_type": "code",
   "execution_count": 29,
   "id": "981d0abc-de76-4ac4-85fa-450626bf7aa7",
   "metadata": {},
   "outputs": [
    {
     "data": {
      "text/plain": [
       "['05_make_phy_and_nex_files.ipynb',\n",
       " 'chenopodium_20250304b-tetraploid.indivmiss60.locimiss50.thin10.maf0.01.LD0.8-1000.no-CH-AR.min4.phy',\n",
       " 'chenopodium_20250304b-tetraploid.indivmiss20.locimiss50.thin10.maf0.01.LD0.8-1000.min4.nexus',\n",
       " '05_vcf2phylip.sh',\n",
       " 'chenopodium_20250304b-tetraploid.indivmiss40.locimiss50.thin10.maf0.01.LD0.8-1000.min4.nexus',\n",
       " 'chenopodium_20250304b-tetraploid.indivmiss60.locimiss50.thin10.maf0.01.LD0.8-1000.no-AR.no-CH-except-OA.min4.phy',\n",
       " 'chenopodium_20250304b-tetraploid.indivmiss20.locimiss50.thin10.maf0.01.LD0.8-1000.min4.phy',\n",
       " 'chenopodium_20250304b-tetraploid.indivmiss60.locimiss50.thin10.maf0.01.LD0.8-1000.min4.phy',\n",
       " 'chenopodium_20250304b-tetraploid.indivmiss60.locimiss50.thin10.maf0.01.LD0.8-1000.min4.nexus',\n",
       " 'chenopodium_20250304b-tetraploid.indivmiss60.locimiss50.thin10.maf0.01.LD0.8-1000.no-AR.no-CH-except-OA.min4.nexus.renamed',\n",
       " 'chenopodium_20250304b-tetraploid.indivmiss60.locimiss50.thin10.maf0.01.LD0.8-1000.no-AR.no-CH-except-OA.min4.nexus',\n",
       " 'chenopodium_20250304b-tetraploid.indivmiss60.locimiss50.thin10.maf0.01.LD0.8-1000.no-CH-AR.min4.nexus',\n",
       " '.ipynb_checkpoints',\n",
       " 'chenopodium_20250304b-tetraploid.indivmiss40.locimiss50.thin10.maf0.01.LD0.8-1000.min4.phy']"
      ]
     },
     "execution_count": 29,
     "metadata": {},
     "output_type": "execute_result"
    }
   ],
   "source": [
    "os.listdir(\"../05_vcf2phylip\")"
   ]
  },
  {
   "cell_type": "code",
   "execution_count": 31,
   "id": "09598298-13d9-4bfc-beb2-4c9d726b7a54",
   "metadata": {},
   "outputs": [],
   "source": [
    "# this cell renames the \"CO-CH\" type samples in a Newick or Nexus file to be more descriptive by including the island of origin.\n",
    "\n",
    "# path of the newick file to be renamed\n",
    "in_file = \"/home/923643692/cheno_pop_gen/05_vcf2phylip/chenopodium_20250304b-tetraploid.indivmiss60.locimiss50.thin10.maf0.01.LD0.8-1000.min4.nexus\"\n",
    "\n",
    "if  os.path.splitext(in_file)[1] in [\".raxml\", \".contree\"]:\n",
    "    endchar=':'\n",
    "elif os.path.splitext(in_file)[1] in [\".nexus\", \".phy\"]:\n",
    "    endchar=' '\n",
    "else: \n",
    "    print (\"Filetype undetected. BREAK\")\n",
    "    exit()\n",
    "\n",
    "with open(in_file, \"r\") as file: # opens the old file\n",
    "    # create a dictionary for old and new values\n",
    "    namedict = dict(zip(names[\"Old Name\"], names[\"New Name\"]))\n",
    "    # making filenames and pathnames\n",
    "    out_file = os.path.basename(in_file)+\".renamed\"\n",
    "    out_dir  = os.path.dirname(in_file)+\"/\"\n",
    "    out = file.read()            # saves its string as a variable\n",
    "    for name in namedict:                      # iterates over the dictionary of names\n",
    "        old_str = f\"{str(name)}{endchar}\"              # attaches a \":\" character to the end of the old name to prevent issues with similar names, e.g., CH-1 and CH-11 \n",
    "        new_str = f\"{str(namedict.get(name))}{endchar}\"# same as above but for the new values; the \":\" is at the end of every name in Newick format\n",
    "        out = out.replace(old_str, new_str) # does the replacing\n",
    "with open(out_dir+out_file, \"w\") as out_handle: out_handle.write(out) # writes the file"
   ]
  }
 ],
 "metadata": {
  "kernelspec": {
   "display_name": "Python 3 (ipykernel)",
   "language": "python",
   "name": "python3"
  },
  "language_info": {
   "codemirror_mode": {
    "name": "ipython",
    "version": 3
   },
   "file_extension": ".py",
   "mimetype": "text/x-python",
   "name": "python",
   "nbconvert_exporter": "python",
   "pygments_lexer": "ipython3",
   "version": "3.11.9"
  }
 },
 "nbformat": 4,
 "nbformat_minor": 5
}
