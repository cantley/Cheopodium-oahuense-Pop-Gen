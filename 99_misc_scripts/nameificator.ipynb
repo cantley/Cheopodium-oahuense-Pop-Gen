{
 "cells": [
  {
   "cell_type": "code",
   "execution_count": 6,
   "metadata": {},
   "outputs": [],
   "source": [
    "import os\n",
    "import pandas as pd"
   ]
  },
  {
   "cell_type": "code",
   "execution_count": 7,
   "metadata": {},
   "outputs": [
    {
     "name": "stdout",
     "output_type": "stream",
     "text": [
      "mkdir: cannot create directory ‘../00_data/CH_pop_lists’: File exists\n"
     ]
    }
   ],
   "source": [
    "!mkdir \"../00_data/CH_pop_lists\""
   ]
  },
  {
   "cell_type": "code",
   "execution_count": 8,
   "metadata": {},
   "outputs": [],
   "source": [
    "# This cell...\n",
    "# imports the renaming file for all follow-on applications; and\n",
    "# makes text files with strings of sample names from each island\n",
    "\n",
    "# path of the rename file\n",
    "names_in_file = \"../00_data/Chenopodium DNA Extraction CH population - Martine 2017 - Renaming for R.csv\"\n",
    "\n",
    "#import the CSV\n",
    "names = pd.read_csv(names_in_file)\n",
    "islands = []                   # empty list of islands\n",
    "for island in names['Island']: # cycle through the list\n",
    "    if island not in islands:  # is it in the list? if not...\n",
    "        islands.append(island) # makes a list of islands, with no duplicates\n",
    "        filename = f\"{island}_samples.txt\" # makes empty text files for each island\n",
    "        with open(f\"../00_data/CH_pop_lists/{filename}\", \"w\") as file_handle: \n",
    "            subset = names[names['Island']==island] # makes a subset from the specific island we're looking at\n",
    "            sample_list = f'' # makes an empty string\n",
    "            for sample in subset['Old Name']: # iterates over the samples in the island subset\n",
    "                sample_list+=f'{sample},'     # adds samples as we go\n",
    "            file_handle.write(f'^{sample_list[:-1]}')           # slices off the last comma\n",
    "            #islands_list.write(\"\") # clears the file in case it exists already\n",
    "        #with open(f\"../00_data/CH_pop_lists/{filename}\", \"a\") as islands_list: #\n",
    "        #    islands_list.write(island) # add it"
   ]
  },
  {
   "cell_type": "code",
   "execution_count": 9,
   "metadata": {},
   "outputs": [
    {
     "data": {
      "text/plain": [
       "'((CO-IP-6:0.00296900097556334090,((CO-AR-15:0.00020623649156270216,(CO-AR-14:0.00038836868041002622,CO-AR-20:0.00006738783888057146):0.00026201066986617530):0.00286325666856899466,CO-AR-5:0.00013870881961352752):0.00114655418379429829):0.00720708193509710798,(((CO-AR-7:0.00000100000050002909,(CO-IP-4:0.00019542987144443812,(CO-IP-5:0.00012591458294390368,(CO-IP-3:0.00000100000050002909,(CO-AR-16:0.00038708482398630757,CO-AR-12:0.00039817173316952889):0.00204421228893065946):0.00352638703813749378):0.00211312034607121293):0.00160736311669786090):0.00420575171396945103,CO-AR-3:0.00012784384954503427):0.00203200977426541522,(CO-AR-17:0.00397483374333423237,((((CO-AR-4:0.00413213510765025101,CO-IP-8:0.02845645969667782299):0.01879014413111678231,((((CO-MO-7:0.01526366209772811282,(((((CO-MO-9:0.00461133282752205012,CO-MO-20:0.01723869418472257289):0.01038221207801465380,((CO-MO-13:0.01001668092185402370,(CO-MO-10:0.00098288521083638369,(CO-MO-11:0.00155622433006504597,CO-MO-16:0.00098905969693713651):0.00176420636276287414):0.00264513427912998903):0.04185243129816568902,(CO-MO-4:0.00052689089755582656,(CO-MO-3:0.00716526575811416485,CO-MO-1:0.00272634148680346100):0.00109699736042821370):0.02949609164664223834):0.01108366752719089875):0.00868632034498539700,CO-MO-5:0.01555438925801686835):0.00800266712451235679,(CO-MO-17:0.00223338843823247786,(CO-MO-8:0.00093811970764555333,CO-MO-19:0.00046556771754534992):0.02117136738134769297):0.01466450167243328433):0.01414612462984424397,((CO-MO-18:0.01378124215776778579,CO-MO-14:0.01571139907521694468):0.01856772220546886246,(CO-MO-6:0.00267998111339320597,(CO-MO-15:0.00379702628446919582,Big_Island-10H:0.01012529355253711898):0.02804215243714130307):0.00587273849734118274):0.01755655130811549156):0.01134538561139770453):0.01790269203440725265,((Molokai-Kamilolou-39H:0.04738178252638759053,((CO-PB-13:0.01704040088193628510,CO-PB-20:0.01326473146742229541):0.00939139893674219642,((((CO-PB-5:0.01170962357638526130,(CO-PB-7:0.01767881732348981078,CO-PB-8:0.01106989720368328420):0.01165673464966345690):0.00633448840989649271,((CO-PB-11:0.00178632156736332104,CO-PB-12:0.00398070023297826710):0.02053997358396994835,CO-PB-4:0.01689915745711062164):0.00702032463273468115):0.00829625158195708944,(CO-PB-9:0.02022457990403475278,((CO-PB-18:0.01330430785243778488,CO-PB-6:0.00984475360649433688):0.01771584811074754240,(CO-PB-19:0.00944110989597019348,CO-PB-3:0.01481421906648703636):0.01176321782037141779):0.00667296683819148910):0.00603968764465707703):0.00553823240110047112,(((CO-PB-16:0.00748159157387028213,(CO-PB-17:0.00508016898192973493,CO-PB-15:0.00686240265616110991):0.00553911663726647328):0.01270351523078934453,(CO-PB-2:0.00847427351326836623,CO-PB-1:0.00771294710526375209):0.01217378848702622106):0.00751230687120347292,(CO-PB-14:0.01339424775720844153,CO-PB-10:0.01510637052267027429):0.00465011034696955795):0.00664330303810332749):0.00564977388302963322):0.01185694612359088941):0.00851750152772505313,(((((((CO-PK-9:0.00015256244968094688,CO-PK-6:0.00014161040945953881):0.00487599186415338653,(CO-PK-19:0.02280244729694567291,(Molokai-PK-45H:0.01064347500689028295,(CO-PK-17:0.00014848541455385184,CO-PK-16:0.00173146107219387078):0.03225760923077057585):0.00963094551755644748):0.01369706870279505280):0.01188203690753785770,(CO-PK-4:0.00939455759725250222,CO-PK-5:0.04258166786620584676):0.00534829691870994470):0.01930363485584204314,(CO-PK-3:0.01706088224286260793,(((CO-PK-18:0.02546107329413189319,CO-PK-20:0.00403416821862288225):0.01924026414024023954,(CO-PK-12:0.00012722012289871791,(((CO-PK-10:0.00015018850798670575,CO-PK-13:0.00376313926838165716):0.00028732395680765782,CO-PK-14:0.00000100000050002909):0.00017605806498308666,(CO-PK-15:0.00015146308191155670,CO-PK-11:0.00046308178796990531):0.00028179815104943656):0.00022264984739419374):0.02645574580509657200):0.00785069812675456835,CO-PK-2:0.02526199467833767018):0.00523603149552304917):0.00781943962644390117):0.02747493203624518446,(Molokai-Mokapu-18H:0.02237052477815083817,Molokai-Huelo_Islet-40H:0.04659006256792090628):0.00779591456911140398):0.01191386134447320819,((Kaula-29H:0.06119184072205790387,((Big_Island-06H:0.01407609602431393082,(Big_Island-09H:0.01800974684807592555,(Big_Island-11H:0.01377237622773842991,(Big_Island-05H:0.02583704660504575548,Big_Island-12H:0.01291618768435544989):0.02702789347949810517):0.00626501356776599030):0.00486032502010767462):0.01563403259053158106,((Oahu-01H:0.00022041088531936425,Oahu-02H:0.00066577131493901238):0.06900983699826154782,Big_Island-08H:0.01870507670047179272):0.00560472052291299816):0.01061899730369126119):0.00583326656170875344,(Oahu-23H:0.07126007063422602761,((Oahu-21H:0.04115858379616187113,Oahu-24H:0.04565094088583815379):0.02484430020745301976,(Kauai-28H:0.05630641878889303814,Oahu-22H:0.02393259172138742161):0.00768166786237069361):0.00404589826784696339):0.00500105330605993183):0.00426512336796791309):0.00204036650274655321,Big_Island-46H:0.01331151608484227450):0.00357618407774577254):0.01384158149295522215):0.02134818067260477528,((CO-IP-2:0.00048778844217580759,CO-IP-1:0.00012760737214270089):0.01461199887714161733,((CO-AR-13:0.00042818285653601105,((CO-AR-11:0.00019981122116928345,CO-AR-18:0.00182939038942334401):0.00041050677895488041,CO-AR-19:0.00020945267121190176):0.00045625885743831086):0.02298805032381656677,((CO-AR-10:0.00013806096957596768,CO-AR-9:0.00156395663218196718):0.01977041153770899354,CO-AR-8:0.00775344461016445712):0.01181900546095295164):0.01377393028577534283):0.01424144745707077615):0.00883804738718873585,CO-IP-7:0.02212488614005394399):0.00566144676881808525):0.01347135235728865246,(CO-IP-10:0.00129606940522340166,(CO-AR-6:0.00205930789078647390,CO-AR-2:0.00125487398799832518):0.00127036920905647150):0.01519079923550460155):0.02274272328575985963,CO-IP-9:0.00317828113837700281):0.00676887358502712040):0.01873857638170797410):0.00347658677709963100,CO-AR-1:0.00004829334113651051):0.0;\\n'"
      ]
     },
     "execution_count": 9,
     "metadata": {},
     "output_type": "execute_result"
    }
   ],
   "source": [
    "# this cell renames the \"CO-CH\" type samples in a Newick file to be more descriptive by including the island of origin.\n",
    "\n",
    "# path of the newick file to be renamed\n",
    "newick_in_file = \"../06_phylos/analysis-raxml/RAxML_bestTree.chenopodium_20250304b-tetraploid.indivmiss60.locimiss50.thin10.maf0.01.LD0.8-1000.min4.raxml\"\n",
    "\n",
    "with open(newick_in_file, \"r\") as newick_file: # opens the old file\n",
    "    # create a dictionary for old and new values\n",
    "    namedict = dict(zip(names[\"Old Name\"], names[\"New Name\"]))\n",
    "    # making filenames and pathnames\n",
    "    newick_out_file = os.path.basename(newick_in_file)+\".renamed\"\n",
    "    newick_out_dir  = os.path.dirname(newick_in_file)+\"/\"\n",
    "    newick_out = newick_file.read()            # saves its string as a variable\n",
    "    for name in namedict:                      # iterates over the dictionary of names\n",
    "        old_str = f\"{str(name)}:\"              # attaches a \":\" character to the end of the old name to prevent issues with similar names, e.g., CH-1 and CH-11 \n",
    "        new_str = f\"{str(namedict.get(name))}:\"# same as above but for the new values; the \":\" is at the end of every name in Newick format\n",
    "        newick_out = newick_out.replace(old_str, new_str) # does the replacing\n",
    "with open(newick_out_dir+newick_out_file, \"w\") as out_handle: out_handle.write(newick_out) # writes the file\n",
    "newick_out # sends to standard output for giggles"
   ]
  }
 ],
 "metadata": {
  "kernelspec": {
   "display_name": "Python 2",
   "language": "python",
   "name": "python2"
  },
  "language_info": {
   "codemirror_mode": {
    "name": "ipython",
    "version": 2
   },
   "file_extension": ".py",
   "mimetype": "text/x-python",
   "name": "python",
   "nbconvert_exporter": "python",
   "pygments_lexer": "ipython2",
   "version": "2.7.18"
  }
 },
 "nbformat": 4,
 "nbformat_minor": 5
}
