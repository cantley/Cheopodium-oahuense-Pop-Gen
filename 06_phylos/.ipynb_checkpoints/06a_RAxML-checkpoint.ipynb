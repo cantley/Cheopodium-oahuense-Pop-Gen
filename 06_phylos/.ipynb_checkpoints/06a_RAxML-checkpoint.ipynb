{
 "cells": [
  {
   "cell_type": "code",
   "execution_count": 18,
   "id": "54502b2e-7470-4085-aefc-4b1cc9911657",
   "metadata": {
    "scrolled": true
   },
   "outputs": [
    {
     "name": "stdout",
     "output_type": "stream",
     "text": [
      "\u001b[31mERROR: Could not find a version that satisfies the requirement ipyrad==0.7.30 (from versions: none)\u001b[0m\u001b[31m\n",
      "\u001b[0m\u001b[31mERROR: No matching distribution found for ipyrad==0.7.30\u001b[0m\u001b[31m\n",
      "\u001b[0m"
     ]
    }
   ],
   "source": [
    "# importing an old version of Toytree for MRBayes\n",
    "#!conda install conda-forge::toytree toytree=1.1.5 -c eaton-lab -y\n",
    "!pip install  ipyrad==0.7.30\n",
    "#!pip install toytree==1.0.0"
   ]
  },
  {
   "cell_type": "code",
   "execution_count": 1,
   "id": "d46b554b-0bf2-460b-8f50-e493426ea442",
   "metadata": {},
   "outputs": [],
   "source": [
    "import ipyrad.analysis as ipa\n",
    "import os\n",
    "import toyplot\n",
    "import toytree"
   ]
  },
  {
   "cell_type": "code",
   "execution_count": 2,
   "id": "3cfb411e-3550-4792-8ca4-b0873a97b739",
   "metadata": {},
   "outputs": [
    {
     "name": "stdout",
     "output_type": "stream",
     "text": [
      "ipyrad 0.9.105\n",
      "toyplot 2.0.0\n",
      "toytree 1.1.2\n",
      "MrBayes, Bayesian Analysis of Phylogeny\n",
      "\n",
      "Version:   3.2.7\n",
      "Features:  SSE AVX FMA Beagle readline\n",
      "Host type: x86_64-conda-linux-gnu (CPU: x86_64)\n",
      "Compiler:  gnu 10.3.0\n"
     ]
    }
   ],
   "source": [
    "print ('ipyrad', ipa.__version__)\n",
    "print ('toyplot', toyplot.__version__)\n",
    "print ('toytree', toytree.__version__)\n",
    "! mb -v"
   ]
  },
  {
   "cell_type": "code",
   "execution_count": 27,
   "id": "eac11a17-58a6-4785-bdea-2dfbdb92fbde",
   "metadata": {},
   "outputs": [
    {
     "data": {
      "text/plain": [
       "'/home/923643692/cheno_pop_tests/06_phylos/'"
      ]
     },
     "execution_count": 27,
     "metadata": {},
     "output_type": "execute_result"
    }
   ],
   "source": [
    "!cd ../05_vcf2phylip/\n",
    "VCF2PHYLIP_PATH=!pwd\n",
    "VCF2PHYLIP_PATH=str(VCF2PHYLIP_PATH)[2:-2]+'/'\n",
    "VCF2PHYLIP_PATH"
   ]
  },
  {
   "cell_type": "code",
   "execution_count": 28,
   "id": "22a0512d-3012-4103-ae67-0dcffc7d0a0c",
   "metadata": {},
   "outputs": [],
   "source": [
    "# the path to your NEXUS formatted file. RAxML doesn't like relative directories.\n",
    "miss60_full_NEX = VCF2PHYLIP_PATH+'chenopodium_20250304b-tetraploid.indivmiss60.locimiss50.thin10.maf0.01.LD0.8-1000.min4.nexus'\n",
    "miss60_full_PHY = VCF2PHYLIP_PATH+'chenopodium_20250304b-tetraploid.indivmiss60.locimiss50.thin10.maf0.01.LD0.8-1000.min4.phy'\n",
    "miss60_OAM_NEX  = VCF2PHYLIP_PATH+'chenopodium_20250304b-tetraploid.indivmiss60.locimiss50.thin10.maf0.01.LD0.8-1000.no-CH-AR.min4.nexus'\n",
    "miss60_OAM_PHY  = VCF2PHYLIP_PATH+'chenopodium_20250304b-tetraploid.indivmiss60.locimiss50.thin10.maf0.01.LD0.8-1000.no-CH-AR.min4.phy'\n",
    "nex_files = [miss60_full_NEX, miss60_OAM_NEX]\n",
    "phy_files = [miss60_full_PHY, miss60_OAM_PHY]"
   ]
  },
  {
   "cell_type": "code",
   "execution_count": null,
   "id": "4a93b03e-fcc1-4309-b524-9370502e410b",
   "metadata": {},
   "outputs": [
    {
     "name": "stdout",
     "output_type": "stream",
     "text": [
      "/home/923643692/miniconda3/bin/raxmlHPC-PTHREADS-AVX2 -f a -T 10 -m GTRGAMMA -n chenopodium_20250304b-tetraploid.indivmiss60.locimiss50.thin10.maf0.01.LD0.8-1000.min4.raxml -w /home/923643692/cheno_pop_tests/06_phylos/analysis-raxml -s /home/923643692/cheno_pop_tests/06_phylos/chenopodium_20250304b-tetraploid.indivmiss60.locimiss50.thin10.maf0.01.LD0.8-1000.min4.phy -p 54321 -N 1000 -x 12345\n"
     ]
    }
   ],
   "source": [
    "for file in phy_files: \n",
    "    file_prefix = os.path.basename(file).replace(\".phy\", \".raxml\") # uses the file basename (changing .nexus → .mrbayes)\n",
    "    # init raxml object with input data and (optional) parameter options\n",
    "    rax = ipa.raxml(data=file, \n",
    "                    name=file_prefix,\n",
    "                    T=10,         # threads\n",
    "                    f=\"a\",        # follow bootstrap with ML search\n",
    "                    m=\"GTRGAMMA\", # substitution model\n",
    "                    N=1000        # bootstraps\n",
    "                    )\n",
    "\n",
    "    # print the raxml command string for posterity\n",
    "    print(rax.command)\n",
    "\n",
    "    # run the command, (options: block until finishes; overwrite existing)\n",
    "    rax.run(block=True, force=True)\n",
    "\n",
    "    # load from the .trees attribute of the raxml object, or from the saved tree file\n",
    "    tre = toytree.tree(rax.trees.bipartitions)\n",
    "\n",
    "    # draw the tree\n",
    "    rtre = tre.root(wildcard=\"prz\")\n",
    "    rtre.draw(tip_labels_align=True, node_labels=\"support\");"
   ]
  },
  {
   "cell_type": "code",
   "execution_count": null,
   "id": "975c3d52-bfdf-4f99-9cc2-10954122e337",
   "metadata": {},
   "outputs": [],
   "source": [
    "awk 'c&&!--c {print $NF} /Best model according to BIC/{c=2}' chenopodium_20250304b-tetraploid.indivmiss60.locimiss50.thin10.maf0.01.LD0.8-1000.min4.phy.out"
   ]
  },
  {
   "cell_type": "code",
   "execution_count": 16,
   "id": "3f0c375b-f474-47b6-a77d-0cd454a2502e",
   "metadata": {},
   "outputs": [
    {
     "ename": "NameError",
     "evalue": "name 'toytree' is not defined",
     "output_type": "error",
     "traceback": [
      "\u001b[31m---------------------------------------------------------------------------\u001b[39m",
      "\u001b[31mNameError\u001b[39m                                 Traceback (most recent call last)",
      "\u001b[36mCell\u001b[39m\u001b[36m \u001b[39m\u001b[32mIn[16]\u001b[39m\u001b[32m, line 2\u001b[39m\n\u001b[32m      1\u001b[39m \u001b[38;5;66;03m#filename = os.path.basename(file).replace(\".nexus\", \".mrbayes\") # uses the file basename (changing .nexus → .mrbayes\u001b[39;00m\n\u001b[32m----> \u001b[39m\u001b[32m2\u001b[39m mb = \u001b[43mipa\u001b[49m\u001b[43m.\u001b[49m\u001b[43mmrbayes\u001b[49m\u001b[43m(\u001b[49m\n\u001b[32m      3\u001b[39m \u001b[43m    \u001b[49m\u001b[43mname\u001b[49m\u001b[43m       \u001b[49m\u001b[43m=\u001b[49m\u001b[43m \u001b[49m\u001b[33;43m\"\u001b[39;49m\u001b[33;43mtest\u001b[39;49m\u001b[33;43m\"\u001b[39;49m\u001b[43m,\u001b[49m\n\u001b[32m      4\u001b[39m \u001b[43m    \u001b[49m\u001b[43mdata\u001b[49m\u001b[43m       \u001b[49m\u001b[43m=\u001b[49m\u001b[43m \u001b[49m\u001b[43mmiss60_full_NEX\u001b[49m\u001b[43m,\u001b[49m\n\u001b[32m      5\u001b[39m \u001b[43m    \u001b[49m\u001b[38;5;66;43;03m#clock      = True,\u001b[39;49;00m\n\u001b[32m      6\u001b[39m \u001b[43m    \u001b[49m\u001b[43mngen\u001b[49m\u001b[43m       \u001b[49m\u001b[43m=\u001b[49m\u001b[43m \u001b[49m\u001b[32;43m5000000\u001b[39;49m\u001b[43m,\u001b[49m\n\u001b[32m      7\u001b[39m \u001b[43m    \u001b[49m\u001b[43msamplefreq\u001b[49m\u001b[43m \u001b[49m\u001b[43m=\u001b[49m\u001b[43m   \u001b[49m\u001b[32;43m10000\u001b[39;49m\u001b[43m,\u001b[49m\n\u001b[32m      8\u001b[39m \u001b[43m    \u001b[49m\u001b[43mprintfreq\u001b[49m\u001b[43m  \u001b[49m\u001b[43m=\u001b[49m\u001b[43m    \u001b[49m\u001b[32;43m1000\u001b[39;49m\u001b[43m,\u001b[49m\n\u001b[32m      9\u001b[39m \u001b[43m    \u001b[49m\u001b[43mnruns\u001b[49m\u001b[43m=\u001b[49m\u001b[32;43m1\u001b[39;49m\u001b[43m,\u001b[49m\n\u001b[32m     10\u001b[39m \u001b[43m    \u001b[49m\u001b[43m)\u001b[49m\n",
      "\u001b[36mFile \u001b[39m\u001b[32m~/miniconda3/lib/python3.11/site-packages/ipyrad/analysis/mrbayes.py:258\u001b[39m, in \u001b[36mMrBayes.__init__\u001b[39m\u001b[34m(self, data, name, workdir, clock_model, constraints, **kwargs)\u001b[39m\n\u001b[32m    254\u001b[39m \u001b[38;5;28mself\u001b[39m.trees.posttre = os.path.join(\n\u001b[32m    255\u001b[39m     \u001b[38;5;28mself\u001b[39m.workdir, \u001b[33m\"\u001b[39m\u001b[38;5;132;01m{}\u001b[39;00m\u001b[33m.nex.\u001b[39m\u001b[38;5;132;01m{}\u001b[39;00m\u001b[33mt\u001b[39m\u001b[33m\"\u001b[39m.format(\u001b[38;5;28mself\u001b[39m.name, runs))\n\u001b[32m    256\u001b[39m \u001b[38;5;28mself\u001b[39m.trees.pstat = os.path.join(\n\u001b[32m    257\u001b[39m     \u001b[38;5;28mself\u001b[39m.workdir, \u001b[33m\"\u001b[39m\u001b[38;5;132;01m{}\u001b[39;00m\u001b[33m.nex.pstat\u001b[39m\u001b[33m\"\u001b[39m.format(\u001b[38;5;28mself\u001b[39m.name))\n\u001b[32m--> \u001b[39m\u001b[32m258\u001b[39m \u001b[38;5;28;43mself\u001b[39;49m\u001b[43m.\u001b[49m\u001b[43m_write_nexus_file\u001b[49m\u001b[43m(\u001b[49m\u001b[43m)\u001b[49m\n\u001b[32m    260\u001b[39m \u001b[38;5;66;03m# check attribute for existing results at this name.\u001b[39;00m\n\u001b[32m    261\u001b[39m \u001b[38;5;28;01mif\u001b[39;00m \u001b[38;5;28mself\u001b[39m.result_files:\n",
      "\u001b[36mFile \u001b[39m\u001b[32m~/miniconda3/lib/python3.11/site-packages/ipyrad/analysis/mrbayes.py:280\u001b[39m, in \u001b[36mMrBayes._write_nexus_file\u001b[39m\u001b[34m(self, write)\u001b[39m\n\u001b[32m    277\u001b[39m cwargs[\u001b[33m\"\u001b[39m\u001b[33moutname\u001b[39m\u001b[33m\"\u001b[39m] = \u001b[38;5;28mself\u001b[39m.nexus\n\u001b[32m    279\u001b[39m \u001b[38;5;66;03m# is the tree topology fixed?\u001b[39;00m\n\u001b[32m--> \u001b[39m\u001b[32m280\u001b[39m \u001b[38;5;28;01mif\u001b[39;00m \u001b[38;5;28misinstance\u001b[39m(\u001b[38;5;28mself\u001b[39m.constraints, \u001b[43mtoytree\u001b[49m.Toytree.ToyTree):\n\u001b[32m    281\u001b[39m     \u001b[38;5;28mself\u001b[39m._fixed_tree()\n\u001b[32m    282\u001b[39m     cwargs[\u001b[33m\"\u001b[39m\u001b[33mtreeblock\u001b[39m\u001b[33m\"\u001b[39m] = \u001b[38;5;28mself\u001b[39m.treeblock\n",
      "\u001b[31mNameError\u001b[39m: name 'toytree' is not defined"
     ]
    }
   ],
   "source": [
    "#filename = os.path.basename(file).replace(\".nexus\", \".mrbayes\") # uses the file basename (changing .nexus → .mrbayes\n",
    "mb = ipa.mrbayes(\n",
    "    name       = \"test\",\n",
    "    data       = miss60_full_NEX,\n",
    "    #clock      = True,\n",
    "    ngen       = 5000000,\n",
    "    samplefreq =   10000,\n",
    "    printfreq  =    1000,\n",
    "    nruns=1,\n",
    "    )"
   ]
  },
  {
   "cell_type": "code",
   "execution_count": 15,
   "id": "9a998a8a-3e0f-4114-9a18-3976e899de3f",
   "metadata": {},
   "outputs": [
    {
     "name": "stdout",
     "output_type": "stream",
     "text": [
      "Loading data for chenopodium_20250304b-tetraploid.indivmiss60.locimiss50.thin10.maf0.01.LD0.8-1000.min4.nexus...\n"
     ]
    },
    {
     "ename": "NameError",
     "evalue": "name 'toytree' is not defined",
     "output_type": "error",
     "traceback": [
      "\u001b[31m---------------------------------------------------------------------------\u001b[39m",
      "\u001b[31mNameError\u001b[39m                                 Traceback (most recent call last)",
      "\u001b[36mCell\u001b[39m\u001b[36m \u001b[39m\u001b[32mIn[15]\u001b[39m\u001b[32m, line 5\u001b[39m\n\u001b[32m      3\u001b[39m \u001b[38;5;28mprint\u001b[39m(\u001b[33mf\u001b[39m\u001b[33m'\u001b[39m\u001b[33mLoading data for \u001b[39m\u001b[38;5;132;01m{\u001b[39;00mos.path.basename(file)\u001b[38;5;132;01m}\u001b[39;00m\u001b[33m...\u001b[39m\u001b[33m'\u001b[39m)\n\u001b[32m      4\u001b[39m filename = os.path.basename(file).replace(\u001b[33m\"\u001b[39m\u001b[33m.nexus\u001b[39m\u001b[33m\"\u001b[39m, \u001b[33m\"\u001b[39m\u001b[33m.mrbayes\u001b[39m\u001b[33m\"\u001b[39m) \u001b[38;5;66;03m# uses the file basename (changing .nexus → .mrbayes)\u001b[39;00m\n\u001b[32m----> \u001b[39m\u001b[32m5\u001b[39m mb = \u001b[43mipa\u001b[49m\u001b[43m.\u001b[49m\u001b[43mmrbayes\u001b[49m\u001b[43m(\u001b[49m\n\u001b[32m      6\u001b[39m \u001b[43m    \u001b[49m\u001b[43mname\u001b[49m\u001b[43m       \u001b[49m\u001b[43m=\u001b[49m\u001b[43m \u001b[49m\u001b[43mfilename\u001b[49m\u001b[43m,\u001b[49m\n\u001b[32m      7\u001b[39m \u001b[43m    \u001b[49m\u001b[43mdata\u001b[49m\u001b[43m       \u001b[49m\u001b[43m=\u001b[49m\u001b[43m \u001b[49m\u001b[43mfile\u001b[49m\u001b[43m,\u001b[49m\n\u001b[32m      8\u001b[39m \u001b[43m    \u001b[49m\u001b[43mclock\u001b[49m\u001b[43m      \u001b[49m\u001b[43m=\u001b[49m\u001b[43m \u001b[49m\u001b[38;5;28;43;01mTrue\u001b[39;49;00m\u001b[43m,\u001b[49m\n\u001b[32m      9\u001b[39m \u001b[43m    \u001b[49m\u001b[43mngen\u001b[49m\u001b[43m       \u001b[49m\u001b[43m=\u001b[49m\u001b[43m \u001b[49m\u001b[32;43m5000000\u001b[39;49m\u001b[43m,\u001b[49m\n\u001b[32m     10\u001b[39m \u001b[43m    \u001b[49m\u001b[43msamplefreq\u001b[49m\u001b[43m \u001b[49m\u001b[43m=\u001b[49m\u001b[43m   \u001b[49m\u001b[32;43m10000\u001b[39;49m\u001b[43m,\u001b[49m\n\u001b[32m     11\u001b[39m \u001b[43m    \u001b[49m\u001b[43mprintfreq\u001b[49m\u001b[43m  \u001b[49m\u001b[43m=\u001b[49m\u001b[43m    \u001b[49m\u001b[32;43m1000\u001b[39;49m\u001b[43m,\u001b[49m\n\u001b[32m     12\u001b[39m \u001b[43m    \u001b[49m\u001b[43mnruns\u001b[49m\u001b[43m=\u001b[49m\u001b[32;43m1\u001b[39;49m\u001b[43m,\u001b[49m\n\u001b[32m     13\u001b[39m \u001b[43m    \u001b[49m\u001b[43m)\u001b[49m\n\u001b[32m     14\u001b[39m \u001b[38;5;28mprint\u001b[39m(\u001b[33mf\u001b[39m\u001b[33m'\u001b[39m\u001b[33mMB nexus string for \u001b[39m\u001b[38;5;132;01m{\u001b[39;00mfilename\u001b[38;5;132;01m}\u001b[39;00m\u001b[33m:\u001b[39m\u001b[33m'\u001b[39m)\n\u001b[32m     15\u001b[39m \u001b[38;5;28mprint\u001b[39m(mb.nexus_string)\n",
      "\u001b[36mFile \u001b[39m\u001b[32m~/miniconda3/lib/python3.11/site-packages/ipyrad/analysis/mrbayes.py:258\u001b[39m, in \u001b[36mMrBayes.__init__\u001b[39m\u001b[34m(self, data, name, workdir, clock_model, constraints, **kwargs)\u001b[39m\n\u001b[32m    254\u001b[39m \u001b[38;5;28mself\u001b[39m.trees.posttre = os.path.join(\n\u001b[32m    255\u001b[39m     \u001b[38;5;28mself\u001b[39m.workdir, \u001b[33m\"\u001b[39m\u001b[38;5;132;01m{}\u001b[39;00m\u001b[33m.nex.\u001b[39m\u001b[38;5;132;01m{}\u001b[39;00m\u001b[33mt\u001b[39m\u001b[33m\"\u001b[39m.format(\u001b[38;5;28mself\u001b[39m.name, runs))\n\u001b[32m    256\u001b[39m \u001b[38;5;28mself\u001b[39m.trees.pstat = os.path.join(\n\u001b[32m    257\u001b[39m     \u001b[38;5;28mself\u001b[39m.workdir, \u001b[33m\"\u001b[39m\u001b[38;5;132;01m{}\u001b[39;00m\u001b[33m.nex.pstat\u001b[39m\u001b[33m\"\u001b[39m.format(\u001b[38;5;28mself\u001b[39m.name))\n\u001b[32m--> \u001b[39m\u001b[32m258\u001b[39m \u001b[38;5;28;43mself\u001b[39;49m\u001b[43m.\u001b[49m\u001b[43m_write_nexus_file\u001b[49m\u001b[43m(\u001b[49m\u001b[43m)\u001b[49m\n\u001b[32m    260\u001b[39m \u001b[38;5;66;03m# check attribute for existing results at this name.\u001b[39;00m\n\u001b[32m    261\u001b[39m \u001b[38;5;28;01mif\u001b[39;00m \u001b[38;5;28mself\u001b[39m.result_files:\n",
      "\u001b[36mFile \u001b[39m\u001b[32m~/miniconda3/lib/python3.11/site-packages/ipyrad/analysis/mrbayes.py:280\u001b[39m, in \u001b[36mMrBayes._write_nexus_file\u001b[39m\u001b[34m(self, write)\u001b[39m\n\u001b[32m    277\u001b[39m cwargs[\u001b[33m\"\u001b[39m\u001b[33moutname\u001b[39m\u001b[33m\"\u001b[39m] = \u001b[38;5;28mself\u001b[39m.nexus\n\u001b[32m    279\u001b[39m \u001b[38;5;66;03m# is the tree topology fixed?\u001b[39;00m\n\u001b[32m--> \u001b[39m\u001b[32m280\u001b[39m \u001b[38;5;28;01mif\u001b[39;00m \u001b[38;5;28misinstance\u001b[39m(\u001b[38;5;28mself\u001b[39m.constraints, \u001b[43mtoytree\u001b[49m.Toytree.ToyTree):\n\u001b[32m    281\u001b[39m     \u001b[38;5;28mself\u001b[39m._fixed_tree()\n\u001b[32m    282\u001b[39m     cwargs[\u001b[33m\"\u001b[39m\u001b[33mtreeblock\u001b[39m\u001b[33m\"\u001b[39m] = \u001b[38;5;28mself\u001b[39m.treeblock\n",
      "\u001b[31mNameError\u001b[39m: name 'toytree' is not defined"
     ]
    }
   ],
   "source": [
    "# init mrbayes object with input data and (optional) parameter options\n",
    "for file in files:\n",
    "    print(f'Loading data for {os.path.basename(file)}...')\n",
    "    filename = os.path.basename(file).replace(\".nexus\", \".mrbayes\") # uses the file basename (changing .nexus → .mrbayes)\n",
    "    mb = ipa.mrbayes(\n",
    "        name       = filename,\n",
    "        data       = file,\n",
    "        clock      = True,\n",
    "        ngen       = 5000000,\n",
    "        samplefreq =   10000,\n",
    "        printfreq  =    1000,\n",
    "        nruns=1,\n",
    "        )\n",
    "    print(f'MB nexus string for {filename}:')\n",
    "    print(mb.nexus_string)\n",
    "    print(f'Running MB for {filename}...')\n",
    "    mb.run(block=True, force=True)\n",
    "    print(f'MB run for {filename} complete.')\n",
    "    mb.trees\n",
    "    mb.convergence_stats.round(3)\n",
    "    print(f'Drawing trees for {filename}...')\n",
    "    tre = toytree.tree(mb.trees.constre, tree_format=10)\n",
    "    tre.draw(\n",
    "        tip_labels_align=True,\n",
    "        scalebar=True,\n",
    "        node_labels=\"support\",\n",
    "        )\n",
    "    # load from the .trees attribute or from the saved tree file\n",
    "    mtre = toytree.mtree(mb.trees.posttre)\n",
    "\n",
    "    # remove the burnin manually\n",
    "    mtre.treelist = mtre.treelist[10:]\n",
    "\n",
    "    # draw a few trees on a shared axis\n",
    "    mtre.draw_tree_grid(\n",
    "        nrows=1, ncols=4, start=20, shared_axis=True,\n",
    "        height=400,\n",
    "        )\n",
    "    mtre.treelist = [i.mod.node_scale_root_height(1.0) for i in mtre.treelist]\n",
    "    # draw the posterior of trees overlapping\n",
    "    mtre.draw_cloud_tree(\n",
    "        width=400, height=300,\n",
    "        html=True,\n",
    "        edge_colors=\"red\",\n",
    "        edge_style={\"stroke-opacity\": 0.02},\n",
    "        tip_labels={i: i.rsplit(\"_\", 1)[0] for i in mtre.treelist[0].get_tip_labels()},\n",
    "        )\n",
    "    #Saving trees\n",
    "    canvas, axes = mtre.draw_cloud_tree(\n",
    "        width=400, height=300,\n",
    "        html=True,\n",
    "        edge_colors=\"red\",\n",
    "        tip_labels={i: i.rsplit(\"_\", 1)[0] for i in mtre.treelist[0].get_tip_labels()}\n",
    "        )\n",
    "    toyplot.pdf.render(canvas, filename+'.pdf')\n",
    "\n",
    "print('Done!')"
   ]
  },
  {
   "cell_type": "code",
   "execution_count": null,
   "id": "998617f8-e929-4c97-9d46-fe309ceb3b74",
   "metadata": {},
   "outputs": [],
   "source": []
  },
  {
   "cell_type": "code",
   "execution_count": null,
   "id": "cd68475c-c515-487b-87ab-5033f953e48d",
   "metadata": {},
   "outputs": [],
   "source": []
  },
  {
   "cell_type": "code",
   "execution_count": null,
   "id": "f867e88e-6a35-4a08-aeec-408dd075ca8a",
   "metadata": {},
   "outputs": [],
   "source": [
    "# init raxml object with input data and (optional) parameter options\n",
    "rax = ipa.raxml(data=phyfile, T=4, N=10)\n",
    "\n",
    "# print the raxml command string for prosperity\n",
    "print(rax.command)\n",
    "\n",
    "# run the command, (options: block until finishes; overwrite existing)\n",
    "rax.run(block=True, force=True)"
   ]
  },
  {
   "cell_type": "code",
   "execution_count": 72,
   "id": "170f9628-d71d-46c7-94d9-899e0d596ba4",
   "metadata": {},
   "outputs": [
    {
     "ename": "AttributeError",
     "evalue": "module 'toytree' has no attribute 'Toytree'",
     "output_type": "error",
     "traceback": [
      "\u001b[31m---------------------------------------------------------------------------\u001b[39m",
      "\u001b[31mAttributeError\u001b[39m                            Traceback (most recent call last)",
      "\u001b[36mCell\u001b[39m\u001b[36m \u001b[39m\u001b[32mIn[72]\u001b[39m\u001b[32m, line 2\u001b[39m\n\u001b[32m      1\u001b[39m \u001b[38;5;66;03m#filename = os.path.basename(file).replace(\".nexus\", \".mrbayes\") # uses the file basename (changing .nexus → .mrbayes\u001b[39;00m\n\u001b[32m----> \u001b[39m\u001b[32m2\u001b[39m mb = \u001b[43mipa\u001b[49m\u001b[43m.\u001b[49m\u001b[43mmrbayes\u001b[49m\u001b[43m(\u001b[49m\n\u001b[32m      3\u001b[39m \u001b[43m    \u001b[49m\u001b[38;5;66;43;03m#name       = \"test\",\u001b[39;49;00m\n\u001b[32m      4\u001b[39m \u001b[43m    \u001b[49m\u001b[43mdata\u001b[49m\u001b[43m       \u001b[49m\u001b[43m=\u001b[49m\u001b[43m \u001b[49m\u001b[43mfile\u001b[49m\u001b[43m,\u001b[49m\n\u001b[32m      5\u001b[39m \u001b[43m    \u001b[49m\u001b[38;5;66;43;03m#clock      = True,\u001b[39;49;00m\n\u001b[32m      6\u001b[39m \u001b[43m    \u001b[49m\u001b[38;5;66;43;03m#ngen       = 5000000,\u001b[39;49;00m\n\u001b[32m      7\u001b[39m \u001b[43m    \u001b[49m\u001b[43msamplefreq\u001b[49m\u001b[43m \u001b[49m\u001b[43m=\u001b[49m\u001b[43m   \u001b[49m\u001b[32;43m10000\u001b[39;49m\u001b[43m,\u001b[49m\n\u001b[32m      8\u001b[39m \u001b[43m    \u001b[49m\u001b[43mprintfreq\u001b[49m\u001b[43m  \u001b[49m\u001b[43m=\u001b[49m\u001b[43m    \u001b[49m\u001b[32;43m1000\u001b[39;49m\u001b[43m,\u001b[49m\n\u001b[32m      9\u001b[39m \u001b[43m    \u001b[49m\u001b[43mnruns\u001b[49m\u001b[43m=\u001b[49m\u001b[32;43m1\u001b[39;49m\u001b[43m,\u001b[49m\n\u001b[32m     10\u001b[39m \u001b[43m    \u001b[49m\u001b[43m)\u001b[49m\n",
      "\u001b[36mFile \u001b[39m\u001b[32m~/miniconda3/lib/python3.11/site-packages/ipyrad/analysis/mrbayes.py:258\u001b[39m, in \u001b[36mMrBayes.__init__\u001b[39m\u001b[34m(self, data, name, workdir, clock_model, constraints, **kwargs)\u001b[39m\n\u001b[32m    254\u001b[39m \u001b[38;5;28mself\u001b[39m.trees.posttre = os.path.join(\n\u001b[32m    255\u001b[39m     \u001b[38;5;28mself\u001b[39m.workdir, \u001b[33m\"\u001b[39m\u001b[38;5;132;01m{}\u001b[39;00m\u001b[33m.nex.\u001b[39m\u001b[38;5;132;01m{}\u001b[39;00m\u001b[33mt\u001b[39m\u001b[33m\"\u001b[39m.format(\u001b[38;5;28mself\u001b[39m.name, runs))\n\u001b[32m    256\u001b[39m \u001b[38;5;28mself\u001b[39m.trees.pstat = os.path.join(\n\u001b[32m    257\u001b[39m     \u001b[38;5;28mself\u001b[39m.workdir, \u001b[33m\"\u001b[39m\u001b[38;5;132;01m{}\u001b[39;00m\u001b[33m.nex.pstat\u001b[39m\u001b[33m\"\u001b[39m.format(\u001b[38;5;28mself\u001b[39m.name))\n\u001b[32m--> \u001b[39m\u001b[32m258\u001b[39m \u001b[38;5;28;43mself\u001b[39;49m\u001b[43m.\u001b[49m\u001b[43m_write_nexus_file\u001b[49m\u001b[43m(\u001b[49m\u001b[43m)\u001b[49m\n\u001b[32m    260\u001b[39m \u001b[38;5;66;03m# check attribute for existing results at this name.\u001b[39;00m\n\u001b[32m    261\u001b[39m \u001b[38;5;28;01mif\u001b[39;00m \u001b[38;5;28mself\u001b[39m.result_files:\n",
      "\u001b[36mFile \u001b[39m\u001b[32m~/miniconda3/lib/python3.11/site-packages/ipyrad/analysis/mrbayes.py:280\u001b[39m, in \u001b[36mMrBayes._write_nexus_file\u001b[39m\u001b[34m(self, write)\u001b[39m\n\u001b[32m    277\u001b[39m cwargs[\u001b[33m\"\u001b[39m\u001b[33moutname\u001b[39m\u001b[33m\"\u001b[39m] = \u001b[38;5;28mself\u001b[39m.nexus\n\u001b[32m    279\u001b[39m \u001b[38;5;66;03m# is the tree topology fixed?\u001b[39;00m\n\u001b[32m--> \u001b[39m\u001b[32m280\u001b[39m \u001b[38;5;28;01mif\u001b[39;00m \u001b[38;5;28misinstance\u001b[39m(\u001b[38;5;28mself\u001b[39m.constraints, \u001b[43mtoytree\u001b[49m\u001b[43m.\u001b[49m\u001b[43mToytree\u001b[49m.ToyTree):\n\u001b[32m    281\u001b[39m     \u001b[38;5;28mself\u001b[39m._fixed_tree()\n\u001b[32m    282\u001b[39m     cwargs[\u001b[33m\"\u001b[39m\u001b[33mtreeblock\u001b[39m\u001b[33m\"\u001b[39m] = \u001b[38;5;28mself\u001b[39m.treeblock\n",
      "\u001b[31mAttributeError\u001b[39m: module 'toytree' has no attribute 'Toytree'"
     ]
    }
   ],
   "source": [
    "#filename = os.path.basename(file).replace(\".nexus\", \".mrbayes\") # uses the file basename (changing .nexus → .mrbayes\n",
    "mb = ipa.mrbayes(\n",
    "    #name       = \"test\",\n",
    "    data       = file,\n",
    "    #clock      = True,\n",
    "    #ngen       = 5000000,\n",
    "    samplefreq =   10000,\n",
    "    printfreq  =    1000,\n",
    "    nruns=1,\n",
    "    )"
   ]
  }
 ],
 "metadata": {
  "kernelspec": {
   "display_name": "Python 3 (ipykernel)",
   "language": "python",
   "name": "python3"
  },
  "language_info": {
   "codemirror_mode": {
    "name": "ipython",
    "version": 3
   },
   "file_extension": ".py",
   "mimetype": "text/x-python",
   "name": "python",
   "nbconvert_exporter": "python",
   "pygments_lexer": "ipython3",
   "version": "3.11.9"
  }
 },
 "nbformat": 4,
 "nbformat_minor": 5
}
