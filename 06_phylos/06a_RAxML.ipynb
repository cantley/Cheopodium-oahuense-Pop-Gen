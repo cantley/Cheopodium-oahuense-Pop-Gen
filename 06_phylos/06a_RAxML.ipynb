{
 "cells": [
  {
   "cell_type": "code",
   "execution_count": 39,
   "id": "0c810e2d",
   "metadata": {
    "collapsed": true,
    "jupyter": {
     "outputs_hidden": true
    },
    "scrolled": true
   },
   "outputs": [
    {
     "name": "stdout",
     "output_type": "stream",
     "text": [
      "Channels:\n",
      " - eaton-lab\n",
      " - conda-forge\n",
      " - bioconda\n",
      " - defaults\n",
      "Platform: linux-64\n",
      "Collecting package metadata (repodata.json): done\n",
      "Solving environment: done\n",
      "\n",
      "## Package Plan ##\n",
      "\n",
      "  environment location: /home/923643692/miniconda3\n",
      "\n",
      "  added / updated specs:\n",
      "    - conda-forge::toytree\n",
      "\n",
      "\n",
      "The following packages will be UPDATED:\n",
      "\n",
      "  toytree                                1.1.5-pyh9f0ad1d_0 --> 3.0.10-pyhd8ed1ab_0 \n",
      "\n",
      "\n",
      "\n",
      "Downloading and Extracting Packages:\n",
      "\n",
      "Preparing transaction: done\n",
      "Verifying transaction: done\n",
      "Executing transaction: done\n"
     ]
    }
   ],
   "source": [
    "!conda install conda-forge::toytree -c eaton-lab -y"
   ]
  },
  {
   "cell_type": "code",
   "execution_count": 1,
   "id": "d164a4c4",
   "metadata": {},
   "outputs": [
    {
     "name": "stdout",
     "output_type": "stream",
     "text": [
      "ipyrad 0.9.105\n",
      "toyplot 2.0.0\n",
      "toytree 3.0.10\n",
      "MrBayes, Bayesian Analysis of Phylogeny\n",
      "\n",
      "Version:   3.2.7\n",
      "Features:  SSE AVX FMA Beagle readline\n",
      "Host type: x86_64-conda-linux-gnu (CPU: x86_64)\n",
      "Compiler:  gnu 10.3.0\n"
     ]
    }
   ],
   "source": [
    "import ipyrad.analysis as ipa\n",
    "import os\n",
    "import toyplot\n",
    "import toytree\n",
    "print ('ipyrad', ipa.__version__)\n",
    "print ('toyplot', toyplot.__version__)\n",
    "print ('toytree', toytree.__version__)\n",
    "! mb -v"
   ]
  },
  {
   "cell_type": "code",
   "execution_count": 42,
   "id": "381aa486",
   "metadata": {},
   "outputs": [
    {
     "data": {
      "text/plain": [
       "'/home/923643692/cheno_pop_tests/06_phylos/'"
      ]
     },
     "execution_count": 42,
     "metadata": {},
     "output_type": "execute_result"
    }
   ],
   "source": [
    "!cd ../05_vcf2phylip/\n",
    "VCF2PHYLIP_PATH=!pwd\n",
    "VCF2PHYLIP_PATH=str(VCF2PHYLIP_PATH)[2:-2]+'/'\n",
    "VCF2PHYLIP_PATH"
   ]
  },
  {
   "cell_type": "code",
   "execution_count": 43,
   "id": "b2515f7c",
   "metadata": {},
   "outputs": [],
   "source": [
    "# the path to your NEXUS formatted file. RAxML doesn't like relative directories.\n",
    "miss60_full_NEX = VCF2PHYLIP_PATH+'chenopodium_20250304b-tetraploid.indivmiss60.locimiss50.thin10.maf0.01.LD0.8-1000.min4.nexus'\n",
    "miss60_full_PHY = VCF2PHYLIP_PATH+'chenopodium_20250304b-tetraploid.indivmiss60.locimiss50.thin10.maf0.01.LD0.8-1000.min4.phy'\n",
    "miss60_OAM_NEX  = VCF2PHYLIP_PATH+'chenopodium_20250304b-tetraploid.indivmiss60.locimiss50.thin10.maf0.01.LD0.8-1000.no-CH-AR.min4.nexus'\n",
    "miss60_OAM_PHY  = VCF2PHYLIP_PATH+'chenopodium_20250304b-tetraploid.indivmiss60.locimiss50.thin10.maf0.01.LD0.8-1000.no-CH-AR.min4.phy'\n",
    "nex_files = [miss60_full_NEX, miss60_OAM_NEX]\n",
    "phy_files = [miss60_full_PHY, miss60_OAM_PHY]"
   ]
  },
  {
   "cell_type": "code",
   "execution_count": 36,
   "id": "e1503c9a",
   "metadata": {
    "collapsed": true,
    "jupyter": {
     "outputs_hidden": true
    }
   },
   "outputs": [
    {
     "name": "stdout",
     "output_type": "stream",
     "text": [
      "/home/923643692/miniconda3/bin/raxmlHPC-PTHREADS-AVX2 -f a -T 10 -m GTRGAMMA -n chenopodium_20250304b-tetraploid.indivmiss60.locimiss50.thin10.maf0.01.LD0.8-1000.min4.raxml.test -w /home/923643692/cheno_pop_tests/06_phylos/analysis-raxml -s /home/923643692/cheno_pop_tests/06_phylos/chenopodium_20250304b-tetraploid.indivmiss60.locimiss50.thin10.maf0.01.LD0.8-1000.min4.phy -p 54321 -N 1000 -x 12345\n"
     ]
    },
    {
     "ename": "KeyboardInterrupt",
     "evalue": "",
     "output_type": "error",
     "traceback": [
      "\u001b[31m---------------------------------------------------------------------------\u001b[39m",
      "\u001b[31mKeyboardInterrupt\u001b[39m                         Traceback (most recent call last)",
      "\u001b[36mCell\u001b[39m\u001b[36m \u001b[39m\u001b[32mIn[36]\u001b[39m\u001b[32m, line 16\u001b[39m\n\u001b[32m     13\u001b[39m \u001b[38;5;28mprint\u001b[39m(rax.command)\n\u001b[32m     15\u001b[39m \u001b[38;5;66;03m# run the command, (options: block until finishes; overwrite existing)\u001b[39;00m\n\u001b[32m---> \u001b[39m\u001b[32m16\u001b[39m \u001b[43mrax\u001b[49m\u001b[43m.\u001b[49m\u001b[43mrun\u001b[49m\u001b[43m(\u001b[49m\u001b[43mblock\u001b[49m\u001b[43m=\u001b[49m\u001b[38;5;28;43;01mTrue\u001b[39;49;00m\u001b[43m,\u001b[49m\u001b[43m \u001b[49m\u001b[43mforce\u001b[49m\u001b[43m=\u001b[49m\u001b[38;5;28;43;01mTrue\u001b[39;49;00m\u001b[43m)\u001b[49m\n",
      "\u001b[36mFile \u001b[39m\u001b[32m~/miniconda3/lib/python3.11/site-packages/ipyrad/analysis/raxml.py:216\u001b[39m, in \u001b[36mRaxml.run\u001b[39m\u001b[34m(self, ipyclient, quiet, force, block)\u001b[39m\n\u001b[32m    212\u001b[39m \u001b[38;5;66;03m## TODO: add a progress bar tracker here. It could even read it from\u001b[39;00m\n\u001b[32m    213\u001b[39m \u001b[38;5;66;03m## the info file that is being written. \u001b[39;00m\n\u001b[32m    214\u001b[39m \u001b[38;5;66;03m## submit it\u001b[39;00m\n\u001b[32m    215\u001b[39m \u001b[38;5;28;01mif\u001b[39;00m \u001b[38;5;129;01mnot\u001b[39;00m ipyclient:\n\u001b[32m--> \u001b[39m\u001b[32m216\u001b[39m     proc = \u001b[43m_call_raxml\u001b[49m\u001b[43m(\u001b[49m\u001b[38;5;28;43mself\u001b[39;49m\u001b[43m.\u001b[49m\u001b[43m_command_list\u001b[49m\u001b[43m)\u001b[49m\n\u001b[32m    217\u001b[39m     \u001b[38;5;28mself\u001b[39m.stdout = proc[\u001b[32m0\u001b[39m]\n\u001b[32m    218\u001b[39m     \u001b[38;5;28mself\u001b[39m.stderr = proc[\u001b[32m1\u001b[39m]\n",
      "\u001b[36mFile \u001b[39m\u001b[32m~/miniconda3/lib/python3.11/site-packages/ipyrad/analysis/raxml.py:289\u001b[39m, in \u001b[36m_call_raxml\u001b[39m\u001b[34m(command_list)\u001b[39m\n\u001b[32m    283\u001b[39m \u001b[38;5;250m\u001b[39m\u001b[33;03m\"\"\" call the command as sps \"\"\"\u001b[39;00m\n\u001b[32m    284\u001b[39m proc = subprocess.Popen(\n\u001b[32m    285\u001b[39m     command_list,\n\u001b[32m    286\u001b[39m     stderr=subprocess.STDOUT, \n\u001b[32m    287\u001b[39m     stdout=subprocess.PIPE\n\u001b[32m    288\u001b[39m     )\n\u001b[32m--> \u001b[39m\u001b[32m289\u001b[39m comm = \u001b[43mproc\u001b[49m\u001b[43m.\u001b[49m\u001b[43mcommunicate\u001b[49m\u001b[43m(\u001b[49m\u001b[43m)\u001b[49m\n\u001b[32m    290\u001b[39m \u001b[38;5;28;01mreturn\u001b[39;00m comm\n",
      "\u001b[36mFile \u001b[39m\u001b[32m~/miniconda3/lib/python3.11/subprocess.py:1196\u001b[39m, in \u001b[36mPopen.communicate\u001b[39m\u001b[34m(self, input, timeout)\u001b[39m\n\u001b[32m   1194\u001b[39m     \u001b[38;5;28mself\u001b[39m._stdin_write(\u001b[38;5;28minput\u001b[39m)\n\u001b[32m   1195\u001b[39m \u001b[38;5;28;01melif\u001b[39;00m \u001b[38;5;28mself\u001b[39m.stdout:\n\u001b[32m-> \u001b[39m\u001b[32m1196\u001b[39m     stdout = \u001b[38;5;28mself\u001b[39m.stdout.read()\n\u001b[32m   1197\u001b[39m     \u001b[38;5;28mself\u001b[39m.stdout.close()\n\u001b[32m   1198\u001b[39m \u001b[38;5;28;01melif\u001b[39;00m \u001b[38;5;28mself\u001b[39m.stderr:\n",
      "\u001b[31mKeyboardInterrupt\u001b[39m: "
     ]
    }
   ],
   "source": [
    "for file in phy_files: \n",
    "    file_prefix = os.path.basename(file).replace(\".phy\", \".raxml\") # uses the file basename (changing .nexus → .mrbayes)\n",
    "    # init raxml object with input data and (optional) parameter options\n",
    "    rax = ipa.raxml(data=file, \n",
    "                    name=file_prefix+\".test\", #.test added... as a test\n",
    "                    T=10,         # threads\n",
    "                    f=\"a\",        # follow bootstrap with ML search\n",
    "                    m=\"GTRGAMMA\", # substitution model\n",
    "                    N=1000        # bootstraps\n",
    "                    )\n",
    "\n",
    "    # print the raxml command string for posterity\n",
    "    print(rax.command)\n",
    "\n",
    "    # run the command, (options: block until finishes; overwrite existing)\n",
    "    rax.run(block=True, force=True)"
   ]
  },
  {
   "cell_type": "code",
   "execution_count": 44,
   "id": "b48bfaf4",
   "metadata": {},
   "outputs": [
    {
     "ename": "ValueError",
     "evalue": "invalid mode: 'rU'",
     "output_type": "error",
     "traceback": [
      "\u001b[31m---------------------------------------------------------------------------\u001b[39m",
      "\u001b[31mValueError\u001b[39m                                Traceback (most recent call last)",
      "\u001b[36mCell\u001b[39m\u001b[36m \u001b[39m\u001b[32mIn[44]\u001b[39m\u001b[32m, line 13\u001b[39m\n\u001b[32m      4\u001b[39m rax = ipa.raxml(data=file, \n\u001b[32m      5\u001b[39m                 name=file_prefix, \u001b[38;5;66;03m#.test added... as a test\u001b[39;00m\n\u001b[32m      6\u001b[39m                 T=\u001b[32m10\u001b[39m,         \u001b[38;5;66;03m# threads\u001b[39;00m\n\u001b[32m   (...)\u001b[39m\u001b[32m      9\u001b[39m                 N=\u001b[32m1000\u001b[39m        \u001b[38;5;66;03m# bootstraps\u001b[39;00m\n\u001b[32m     10\u001b[39m                 )\n\u001b[32m     12\u001b[39m \u001b[38;5;66;03m# load from the .trees attribute of the raxml object, or from the saved tree file\u001b[39;00m\n\u001b[32m---> \u001b[39m\u001b[32m13\u001b[39m tre = \u001b[43mtoytree\u001b[49m\u001b[43m.\u001b[49m\u001b[43mtree\u001b[49m\u001b[43m(\u001b[49m\u001b[43mrax\u001b[49m\u001b[43m.\u001b[49m\u001b[43mtrees\u001b[49m\u001b[43m.\u001b[49m\u001b[43mbipartitions\u001b[49m\u001b[43m)\u001b[49m\n\u001b[32m     15\u001b[39m \u001b[38;5;66;03m# draw the tree\u001b[39;00m\n\u001b[32m     16\u001b[39m rtre = tre.root(wildcard=\u001b[33m\"\u001b[39m\u001b[33mprz\u001b[39m\u001b[33m\"\u001b[39m)\n",
      "\u001b[36mFile \u001b[39m\u001b[32m~/miniconda3/lib/python3.11/site-packages/toytree/Toytree.py:64\u001b[39m, in \u001b[36mToyTree.__init__\u001b[39m\u001b[34m(self, newick, tree_format, fixed_order)\u001b[39m\n\u001b[32m     62\u001b[39m \u001b[38;5;66;03m# prase a str, URL, or file\u001b[39;00m\n\u001b[32m     63\u001b[39m \u001b[38;5;28;01melif\u001b[39;00m \u001b[38;5;28misinstance\u001b[39m(newick, (\u001b[38;5;28mstr\u001b[39m, \u001b[38;5;28mbytes\u001b[39m)):\n\u001b[32m---> \u001b[39m\u001b[32m64\u001b[39m     \u001b[38;5;28mself\u001b[39m.treenode = \u001b[43mTreeParser\u001b[49m\u001b[43m(\u001b[49m\u001b[43mnewick\u001b[49m\u001b[43m,\u001b[49m\u001b[43m \u001b[49m\u001b[43mtree_format\u001b[49m\u001b[43m)\u001b[49m.treenodes[\u001b[32m0\u001b[39m]\n\u001b[32m     66\u001b[39m \u001b[38;5;66;03m# make an empty tree\u001b[39;00m\n\u001b[32m     67\u001b[39m \u001b[38;5;28;01melse\u001b[39;00m:\n\u001b[32m     68\u001b[39m     \u001b[38;5;28mself\u001b[39m.treenode = TreeNode()\n",
      "\u001b[36mFile \u001b[39m\u001b[32m~/miniconda3/lib/python3.11/site-packages/toytree/TreeParser.py:80\u001b[39m, in \u001b[36mTreeParser.__init__\u001b[39m\u001b[34m(self, intree, tree_format, multitree, debug)\u001b[39m\n\u001b[32m     78\u001b[39m \u001b[38;5;66;03m# parse intree\u001b[39;00m\n\u001b[32m     79\u001b[39m \u001b[38;5;28;01mif\u001b[39;00m \u001b[38;5;129;01mnot\u001b[39;00m \u001b[38;5;28mself\u001b[39m.debug:\n\u001b[32m---> \u001b[39m\u001b[32m80\u001b[39m     \u001b[38;5;28;43mself\u001b[39;49m\u001b[43m.\u001b[49m\u001b[43m_run\u001b[49m\u001b[43m(\u001b[49m\u001b[43m)\u001b[49m\n",
      "\u001b[36mFile \u001b[39m\u001b[32m~/miniconda3/lib/python3.11/site-packages/toytree/TreeParser.py:87\u001b[39m, in \u001b[36mTreeParser._run\u001b[39m\u001b[34m(self)\u001b[39m\n\u001b[32m     83\u001b[39m \u001b[38;5;28;01mdef\u001b[39;00m\u001b[38;5;250m \u001b[39m\u001b[34m_run\u001b[39m(\u001b[38;5;28mself\u001b[39m):\n\u001b[32m     84\u001b[39m     \u001b[38;5;66;03m# get newick from data and test newick structure\u001b[39;00m\n\u001b[32m     85\u001b[39m     \u001b[38;5;28;01mif\u001b[39;00m \u001b[38;5;28mself\u001b[39m.intree:\n\u001b[32m     86\u001b[39m         \u001b[38;5;66;03m# read data input by lines to .data\u001b[39;00m\n\u001b[32m---> \u001b[39m\u001b[32m87\u001b[39m         \u001b[38;5;28;43mself\u001b[39;49m\u001b[43m.\u001b[49m\u001b[43mget_data_from_intree\u001b[49m\u001b[43m(\u001b[49m\u001b[43m)\u001b[49m\n\u001b[32m     89\u001b[39m         \u001b[38;5;66;03m# check for NEXUS wrappings and update .data for newick strings\u001b[39;00m\n\u001b[32m     90\u001b[39m         \u001b[38;5;28mself\u001b[39m.parse_nexus()\n",
      "\u001b[36mFile \u001b[39m\u001b[32m~/miniconda3/lib/python3.11/site-packages/toytree/TreeParser.py:136\u001b[39m, in \u001b[36mTreeParser.get_data_from_intree\u001b[39m\u001b[34m(self)\u001b[39m\n\u001b[32m    134\u001b[39m \u001b[38;5;66;03m# is a file: read by lines to a list\u001b[39;00m\n\u001b[32m    135\u001b[39m \u001b[38;5;28;01melif\u001b[39;00m os.path.exists(\u001b[38;5;28mself\u001b[39m.intree):\n\u001b[32m--> \u001b[39m\u001b[32m136\u001b[39m     \u001b[38;5;28;01mwith\u001b[39;00m \u001b[38;5;28;43mopen\u001b[39;49m\u001b[43m(\u001b[49m\u001b[38;5;28;43mself\u001b[39;49m\u001b[43m.\u001b[49m\u001b[43mintree\u001b[49m\u001b[43m,\u001b[49m\u001b[43m \u001b[49m\u001b[33;43m'\u001b[39;49m\u001b[33;43mrU\u001b[39;49m\u001b[33;43m'\u001b[39;49m\u001b[43m)\u001b[49m \u001b[38;5;28;01mas\u001b[39;00m indata:\n\u001b[32m    137\u001b[39m         \u001b[38;5;28mself\u001b[39m.data = indata.readlines()\n\u001b[32m    139\u001b[39m \u001b[38;5;66;03m# is a string: make into a list by splitting\u001b[39;00m\n\u001b[32m    140\u001b[39m \u001b[38;5;28;01melse\u001b[39;00m:\n",
      "\u001b[31mValueError\u001b[39m: invalid mode: 'rU'"
     ]
    }
   ],
   "source": [
    "for file in phy_files: \n",
    "    file_prefix = os.path.basename(file).replace(\".phy\", \".raxml\") # uses the file basename (changing .nexus → .mrbayes)\n",
    "    # init raxml object with input data and (optional) parameter options\n",
    "    rax = ipa.raxml(data=file, \n",
    "                    name=file_prefix, #.test added... as a test\n",
    "                    T=10,         # threads\n",
    "                    f=\"a\",        # follow bootstrap with ML search\n",
    "                    m=\"GTRGAMMA\", # substitution model\n",
    "                    N=1000        # bootstraps\n",
    "                    )\n",
    "\n",
    "    # load from the .trees attribute of the raxml object, or from the saved tree file\n",
    "    tre = toytree.tree(rax.trees.bipartitions)\n",
    "\n",
    "    # draw the tree\n",
    "    rtre = tre.root(wildcard=\"prz\")\n",
    "    rtre.draw(tip_labels_align=True, node_labels=\"support\");"
   ]
  },
  {
   "cell_type": "code",
   "execution_count": null,
   "id": "c5432b1a",
   "metadata": {},
   "outputs": [],
   "source": [
    "awk 'c&&!--c {print $NF} /Best model according to BIC/{c=2}' chenopodium_20250304b-tetraploid.indivmiss60.locimiss50.thin10.maf0.01.LD0.8-1000.min4.phy.out"
   ]
  },
  {
   "cell_type": "code",
   "execution_count": 16,
   "id": "26c5be79",
   "metadata": {},
   "outputs": [
    {
     "ename": "NameError",
     "evalue": "name 'toytree' is not defined",
     "output_type": "error",
     "traceback": [
      "\u001b[31m---------------------------------------------------------------------------\u001b[39m",
      "\u001b[31mNameError\u001b[39m                                 Traceback (most recent call last)",
      "\u001b[36mCell\u001b[39m\u001b[36m \u001b[39m\u001b[32mIn[16]\u001b[39m\u001b[32m, line 2\u001b[39m\n\u001b[32m      1\u001b[39m \u001b[38;5;66;03m#filename = os.path.basename(file).replace(\".nexus\", \".mrbayes\") # uses the file basename (changing .nexus → .mrbayes\u001b[39;00m\n\u001b[32m----> \u001b[39m\u001b[32m2\u001b[39m mb = \u001b[43mipa\u001b[49m\u001b[43m.\u001b[49m\u001b[43mmrbayes\u001b[49m\u001b[43m(\u001b[49m\n\u001b[32m      3\u001b[39m \u001b[43m    \u001b[49m\u001b[43mname\u001b[49m\u001b[43m       \u001b[49m\u001b[43m=\u001b[49m\u001b[43m \u001b[49m\u001b[33;43m\"\u001b[39;49m\u001b[33;43mtest\u001b[39;49m\u001b[33;43m\"\u001b[39;49m\u001b[43m,\u001b[49m\n\u001b[32m      4\u001b[39m \u001b[43m    \u001b[49m\u001b[43mdata\u001b[49m\u001b[43m       \u001b[49m\u001b[43m=\u001b[49m\u001b[43m \u001b[49m\u001b[43mmiss60_full_NEX\u001b[49m\u001b[43m,\u001b[49m\n\u001b[32m      5\u001b[39m \u001b[43m    \u001b[49m\u001b[38;5;66;43;03m#clock      = True,\u001b[39;49;00m\n\u001b[32m      6\u001b[39m \u001b[43m    \u001b[49m\u001b[43mngen\u001b[49m\u001b[43m       \u001b[49m\u001b[43m=\u001b[49m\u001b[43m \u001b[49m\u001b[32;43m5000000\u001b[39;49m\u001b[43m,\u001b[49m\n\u001b[32m      7\u001b[39m \u001b[43m    \u001b[49m\u001b[43msamplefreq\u001b[49m\u001b[43m \u001b[49m\u001b[43m=\u001b[49m\u001b[43m   \u001b[49m\u001b[32;43m10000\u001b[39;49m\u001b[43m,\u001b[49m\n\u001b[32m      8\u001b[39m \u001b[43m    \u001b[49m\u001b[43mprintfreq\u001b[49m\u001b[43m  \u001b[49m\u001b[43m=\u001b[49m\u001b[43m    \u001b[49m\u001b[32;43m1000\u001b[39;49m\u001b[43m,\u001b[49m\n\u001b[32m      9\u001b[39m \u001b[43m    \u001b[49m\u001b[43mnruns\u001b[49m\u001b[43m=\u001b[49m\u001b[32;43m1\u001b[39;49m\u001b[43m,\u001b[49m\n\u001b[32m     10\u001b[39m \u001b[43m    \u001b[49m\u001b[43m)\u001b[49m\n",
      "\u001b[36mFile \u001b[39m\u001b[32m~/miniconda3/lib/python3.11/site-packages/ipyrad/analysis/mrbayes.py:258\u001b[39m, in \u001b[36mMrBayes.__init__\u001b[39m\u001b[34m(self, data, name, workdir, clock_model, constraints, **kwargs)\u001b[39m\n\u001b[32m    254\u001b[39m \u001b[38;5;28mself\u001b[39m.trees.posttre = os.path.join(\n\u001b[32m    255\u001b[39m     \u001b[38;5;28mself\u001b[39m.workdir, \u001b[33m\"\u001b[39m\u001b[38;5;132;01m{}\u001b[39;00m\u001b[33m.nex.\u001b[39m\u001b[38;5;132;01m{}\u001b[39;00m\u001b[33mt\u001b[39m\u001b[33m\"\u001b[39m.format(\u001b[38;5;28mself\u001b[39m.name, runs))\n\u001b[32m    256\u001b[39m \u001b[38;5;28mself\u001b[39m.trees.pstat = os.path.join(\n\u001b[32m    257\u001b[39m     \u001b[38;5;28mself\u001b[39m.workdir, \u001b[33m\"\u001b[39m\u001b[38;5;132;01m{}\u001b[39;00m\u001b[33m.nex.pstat\u001b[39m\u001b[33m\"\u001b[39m.format(\u001b[38;5;28mself\u001b[39m.name))\n\u001b[32m--> \u001b[39m\u001b[32m258\u001b[39m \u001b[38;5;28;43mself\u001b[39;49m\u001b[43m.\u001b[49m\u001b[43m_write_nexus_file\u001b[49m\u001b[43m(\u001b[49m\u001b[43m)\u001b[49m\n\u001b[32m    260\u001b[39m \u001b[38;5;66;03m# check attribute for existing results at this name.\u001b[39;00m\n\u001b[32m    261\u001b[39m \u001b[38;5;28;01mif\u001b[39;00m \u001b[38;5;28mself\u001b[39m.result_files:\n",
      "\u001b[36mFile \u001b[39m\u001b[32m~/miniconda3/lib/python3.11/site-packages/ipyrad/analysis/mrbayes.py:280\u001b[39m, in \u001b[36mMrBayes._write_nexus_file\u001b[39m\u001b[34m(self, write)\u001b[39m\n\u001b[32m    277\u001b[39m cwargs[\u001b[33m\"\u001b[39m\u001b[33moutname\u001b[39m\u001b[33m\"\u001b[39m] = \u001b[38;5;28mself\u001b[39m.nexus\n\u001b[32m    279\u001b[39m \u001b[38;5;66;03m# is the tree topology fixed?\u001b[39;00m\n\u001b[32m--> \u001b[39m\u001b[32m280\u001b[39m \u001b[38;5;28;01mif\u001b[39;00m \u001b[38;5;28misinstance\u001b[39m(\u001b[38;5;28mself\u001b[39m.constraints, \u001b[43mtoytree\u001b[49m.Toytree.ToyTree):\n\u001b[32m    281\u001b[39m     \u001b[38;5;28mself\u001b[39m._fixed_tree()\n\u001b[32m    282\u001b[39m     cwargs[\u001b[33m\"\u001b[39m\u001b[33mtreeblock\u001b[39m\u001b[33m\"\u001b[39m] = \u001b[38;5;28mself\u001b[39m.treeblock\n",
      "\u001b[31mNameError\u001b[39m: name 'toytree' is not defined"
     ]
    }
   ],
   "source": [
    "#filename = os.path.basename(file).replace(\".nexus\", \".mrbayes\") # uses the file basename (changing .nexus → .mrbayes\n",
    "mb = ipa.mrbayes(\n",
    "    name       = \"test\",\n",
    "    data       = miss60_full_NEX,\n",
    "    #clock      = True,\n",
    "    ngen       = 5000000,\n",
    "    samplefreq =   10000,\n",
    "    printfreq  =    1000,\n",
    "    nruns=1,\n",
    "    )"
   ]
  },
  {
   "cell_type": "code",
   "execution_count": 15,
   "id": "18d7d96e",
   "metadata": {},
   "outputs": [
    {
     "name": "stdout",
     "output_type": "stream",
     "text": [
      "Loading data for chenopodium_20250304b-tetraploid.indivmiss60.locimiss50.thin10.maf0.01.LD0.8-1000.min4.nexus...\n"
     ]
    },
    {
     "ename": "NameError",
     "evalue": "name 'toytree' is not defined",
     "output_type": "error",
     "traceback": [
      "\u001b[31m---------------------------------------------------------------------------\u001b[39m",
      "\u001b[31mNameError\u001b[39m                                 Traceback (most recent call last)",
      "\u001b[36mCell\u001b[39m\u001b[36m \u001b[39m\u001b[32mIn[15]\u001b[39m\u001b[32m, line 5\u001b[39m\n\u001b[32m      3\u001b[39m \u001b[38;5;28mprint\u001b[39m(\u001b[33mf\u001b[39m\u001b[33m'\u001b[39m\u001b[33mLoading data for \u001b[39m\u001b[38;5;132;01m{\u001b[39;00mos.path.basename(file)\u001b[38;5;132;01m}\u001b[39;00m\u001b[33m...\u001b[39m\u001b[33m'\u001b[39m)\n\u001b[32m      4\u001b[39m filename = os.path.basename(file).replace(\u001b[33m\"\u001b[39m\u001b[33m.nexus\u001b[39m\u001b[33m\"\u001b[39m, \u001b[33m\"\u001b[39m\u001b[33m.mrbayes\u001b[39m\u001b[33m\"\u001b[39m) \u001b[38;5;66;03m# uses the file basename (changing .nexus → .mrbayes)\u001b[39;00m\n\u001b[32m----> \u001b[39m\u001b[32m5\u001b[39m mb = \u001b[43mipa\u001b[49m\u001b[43m.\u001b[49m\u001b[43mmrbayes\u001b[49m\u001b[43m(\u001b[49m\n\u001b[32m      6\u001b[39m \u001b[43m    \u001b[49m\u001b[43mname\u001b[49m\u001b[43m       \u001b[49m\u001b[43m=\u001b[49m\u001b[43m \u001b[49m\u001b[43mfilename\u001b[49m\u001b[43m,\u001b[49m\n\u001b[32m      7\u001b[39m \u001b[43m    \u001b[49m\u001b[43mdata\u001b[49m\u001b[43m       \u001b[49m\u001b[43m=\u001b[49m\u001b[43m \u001b[49m\u001b[43mfile\u001b[49m\u001b[43m,\u001b[49m\n\u001b[32m      8\u001b[39m \u001b[43m    \u001b[49m\u001b[43mclock\u001b[49m\u001b[43m      \u001b[49m\u001b[43m=\u001b[49m\u001b[43m \u001b[49m\u001b[38;5;28;43;01mTrue\u001b[39;49;00m\u001b[43m,\u001b[49m\n\u001b[32m      9\u001b[39m \u001b[43m    \u001b[49m\u001b[43mngen\u001b[49m\u001b[43m       \u001b[49m\u001b[43m=\u001b[49m\u001b[43m \u001b[49m\u001b[32;43m5000000\u001b[39;49m\u001b[43m,\u001b[49m\n\u001b[32m     10\u001b[39m \u001b[43m    \u001b[49m\u001b[43msamplefreq\u001b[49m\u001b[43m \u001b[49m\u001b[43m=\u001b[49m\u001b[43m   \u001b[49m\u001b[32;43m10000\u001b[39;49m\u001b[43m,\u001b[49m\n\u001b[32m     11\u001b[39m \u001b[43m    \u001b[49m\u001b[43mprintfreq\u001b[49m\u001b[43m  \u001b[49m\u001b[43m=\u001b[49m\u001b[43m    \u001b[49m\u001b[32;43m1000\u001b[39;49m\u001b[43m,\u001b[49m\n\u001b[32m     12\u001b[39m \u001b[43m    \u001b[49m\u001b[43mnruns\u001b[49m\u001b[43m=\u001b[49m\u001b[32;43m1\u001b[39;49m\u001b[43m,\u001b[49m\n\u001b[32m     13\u001b[39m \u001b[43m    \u001b[49m\u001b[43m)\u001b[49m\n\u001b[32m     14\u001b[39m \u001b[38;5;28mprint\u001b[39m(\u001b[33mf\u001b[39m\u001b[33m'\u001b[39m\u001b[33mMB nexus string for \u001b[39m\u001b[38;5;132;01m{\u001b[39;00mfilename\u001b[38;5;132;01m}\u001b[39;00m\u001b[33m:\u001b[39m\u001b[33m'\u001b[39m)\n\u001b[32m     15\u001b[39m \u001b[38;5;28mprint\u001b[39m(mb.nexus_string)\n",
      "\u001b[36mFile \u001b[39m\u001b[32m~/miniconda3/lib/python3.11/site-packages/ipyrad/analysis/mrbayes.py:258\u001b[39m, in \u001b[36mMrBayes.__init__\u001b[39m\u001b[34m(self, data, name, workdir, clock_model, constraints, **kwargs)\u001b[39m\n\u001b[32m    254\u001b[39m \u001b[38;5;28mself\u001b[39m.trees.posttre = os.path.join(\n\u001b[32m    255\u001b[39m     \u001b[38;5;28mself\u001b[39m.workdir, \u001b[33m\"\u001b[39m\u001b[38;5;132;01m{}\u001b[39;00m\u001b[33m.nex.\u001b[39m\u001b[38;5;132;01m{}\u001b[39;00m\u001b[33mt\u001b[39m\u001b[33m\"\u001b[39m.format(\u001b[38;5;28mself\u001b[39m.name, runs))\n\u001b[32m    256\u001b[39m \u001b[38;5;28mself\u001b[39m.trees.pstat = os.path.join(\n\u001b[32m    257\u001b[39m     \u001b[38;5;28mself\u001b[39m.workdir, \u001b[33m\"\u001b[39m\u001b[38;5;132;01m{}\u001b[39;00m\u001b[33m.nex.pstat\u001b[39m\u001b[33m\"\u001b[39m.format(\u001b[38;5;28mself\u001b[39m.name))\n\u001b[32m--> \u001b[39m\u001b[32m258\u001b[39m \u001b[38;5;28;43mself\u001b[39;49m\u001b[43m.\u001b[49m\u001b[43m_write_nexus_file\u001b[49m\u001b[43m(\u001b[49m\u001b[43m)\u001b[49m\n\u001b[32m    260\u001b[39m \u001b[38;5;66;03m# check attribute for existing results at this name.\u001b[39;00m\n\u001b[32m    261\u001b[39m \u001b[38;5;28;01mif\u001b[39;00m \u001b[38;5;28mself\u001b[39m.result_files:\n",
      "\u001b[36mFile \u001b[39m\u001b[32m~/miniconda3/lib/python3.11/site-packages/ipyrad/analysis/mrbayes.py:280\u001b[39m, in \u001b[36mMrBayes._write_nexus_file\u001b[39m\u001b[34m(self, write)\u001b[39m\n\u001b[32m    277\u001b[39m cwargs[\u001b[33m\"\u001b[39m\u001b[33moutname\u001b[39m\u001b[33m\"\u001b[39m] = \u001b[38;5;28mself\u001b[39m.nexus\n\u001b[32m    279\u001b[39m \u001b[38;5;66;03m# is the tree topology fixed?\u001b[39;00m\n\u001b[32m--> \u001b[39m\u001b[32m280\u001b[39m \u001b[38;5;28;01mif\u001b[39;00m \u001b[38;5;28misinstance\u001b[39m(\u001b[38;5;28mself\u001b[39m.constraints, \u001b[43mtoytree\u001b[49m.Toytree.ToyTree):\n\u001b[32m    281\u001b[39m     \u001b[38;5;28mself\u001b[39m._fixed_tree()\n\u001b[32m    282\u001b[39m     cwargs[\u001b[33m\"\u001b[39m\u001b[33mtreeblock\u001b[39m\u001b[33m\"\u001b[39m] = \u001b[38;5;28mself\u001b[39m.treeblock\n",
      "\u001b[31mNameError\u001b[39m: name 'toytree' is not defined"
     ]
    }
   ],
   "source": [
    "# init mrbayes object with input data and (optional) parameter options\n",
    "for file in files:\n",
    "    print(f'Loading data for {os.path.basename(file)}...')\n",
    "    filename = os.path.basename(file).replace(\".nexus\", \".mrbayes\") # uses the file basename (changing .nexus → .mrbayes)\n",
    "    mb = ipa.mrbayes(\n",
    "        name       = filename,\n",
    "        data       = file,\n",
    "        clock      = True,\n",
    "        ngen       = 5000000,\n",
    "        samplefreq =   10000,\n",
    "        printfreq  =    1000,\n",
    "        nruns=1,\n",
    "        )\n",
    "    print(f'MB nexus string for {filename}:')\n",
    "    print(mb.nexus_string)\n",
    "    print(f'Running MB for {filename}...')\n",
    "    mb.run(block=True, force=True)\n",
    "    print(f'MB run for {filename} complete.')\n",
    "    mb.trees\n",
    "    mb.convergence_stats.round(3)\n",
    "    print(f'Drawing trees for {filename}...')\n",
    "    tre = toytree.tree(mb.trees.constre, tree_format=10)\n",
    "    tre.draw(\n",
    "        tip_labels_align=True,\n",
    "        scalebar=True,\n",
    "        node_labels=\"support\",\n",
    "        )\n",
    "    # load from the .trees attribute or from the saved tree file\n",
    "    mtre = toytree.mtree(mb.trees.posttre)\n",
    "\n",
    "    # remove the burnin manually\n",
    "    mtre.treelist = mtre.treelist[10:]\n",
    "\n",
    "    # draw a few trees on a shared axis\n",
    "    mtre.draw_tree_grid(\n",
    "        nrows=1, ncols=4, start=20, shared_axis=True,\n",
    "        height=400,\n",
    "        )\n",
    "    mtre.treelist = [i.mod.node_scale_root_height(1.0) for i in mtre.treelist]\n",
    "    # draw the posterior of trees overlapping\n",
    "    mtre.draw_cloud_tree(\n",
    "        width=400, height=300,\n",
    "        html=True,\n",
    "        edge_colors=\"red\",\n",
    "        edge_style={\"stroke-opacity\": 0.02},\n",
    "        tip_labels={i: i.rsplit(\"_\", 1)[0] for i in mtre.treelist[0].get_tip_labels()},\n",
    "        )\n",
    "    #Saving trees\n",
    "    canvas, axes = mtre.draw_cloud_tree(\n",
    "        width=400, height=300,\n",
    "        html=True,\n",
    "        edge_colors=\"red\",\n",
    "        tip_labels={i: i.rsplit(\"_\", 1)[0] for i in mtre.treelist[0].get_tip_labels()}\n",
    "        )\n",
    "    toyplot.pdf.render(canvas, filename+'.pdf')\n",
    "\n",
    "print('Done!')"
   ]
  },
  {
   "cell_type": "code",
   "execution_count": null,
   "id": "0c4e13ed",
   "metadata": {},
   "outputs": [],
   "source": []
  },
  {
   "cell_type": "code",
   "execution_count": null,
   "id": "a6fe568c",
   "metadata": {},
   "outputs": [],
   "source": []
  },
  {
   "cell_type": "code",
   "execution_count": null,
   "id": "d986b9ca",
   "metadata": {},
   "outputs": [],
   "source": [
    "# init raxml object with input data and (optional) parameter options\n",
    "rax = ipa.raxml(data=phyfile, T=4, N=10)\n",
    "\n",
    "# print the raxml command string for prosperity\n",
    "print(rax.command)\n",
    "\n",
    "# run the command, (options: block until finishes; overwrite existing)\n",
    "rax.run(block=True, force=True)"
   ]
  },
  {
   "cell_type": "code",
   "execution_count": 72,
   "id": "da0daed4",
   "metadata": {},
   "outputs": [
    {
     "ename": "AttributeError",
     "evalue": "module 'toytree' has no attribute 'Toytree'",
     "output_type": "error",
     "traceback": [
      "\u001b[31m---------------------------------------------------------------------------\u001b[39m",
      "\u001b[31mAttributeError\u001b[39m                            Traceback (most recent call last)",
      "\u001b[36mCell\u001b[39m\u001b[36m \u001b[39m\u001b[32mIn[72]\u001b[39m\u001b[32m, line 2\u001b[39m\n\u001b[32m      1\u001b[39m \u001b[38;5;66;03m#filename = os.path.basename(file).replace(\".nexus\", \".mrbayes\") # uses the file basename (changing .nexus → .mrbayes\u001b[39;00m\n\u001b[32m----> \u001b[39m\u001b[32m2\u001b[39m mb = \u001b[43mipa\u001b[49m\u001b[43m.\u001b[49m\u001b[43mmrbayes\u001b[49m\u001b[43m(\u001b[49m\n\u001b[32m      3\u001b[39m \u001b[43m    \u001b[49m\u001b[38;5;66;43;03m#name       = \"test\",\u001b[39;49;00m\n\u001b[32m      4\u001b[39m \u001b[43m    \u001b[49m\u001b[43mdata\u001b[49m\u001b[43m       \u001b[49m\u001b[43m=\u001b[49m\u001b[43m \u001b[49m\u001b[43mfile\u001b[49m\u001b[43m,\u001b[49m\n\u001b[32m      5\u001b[39m \u001b[43m    \u001b[49m\u001b[38;5;66;43;03m#clock      = True,\u001b[39;49;00m\n\u001b[32m      6\u001b[39m \u001b[43m    \u001b[49m\u001b[38;5;66;43;03m#ngen       = 5000000,\u001b[39;49;00m\n\u001b[32m      7\u001b[39m \u001b[43m    \u001b[49m\u001b[43msamplefreq\u001b[49m\u001b[43m \u001b[49m\u001b[43m=\u001b[49m\u001b[43m   \u001b[49m\u001b[32;43m10000\u001b[39;49m\u001b[43m,\u001b[49m\n\u001b[32m      8\u001b[39m \u001b[43m    \u001b[49m\u001b[43mprintfreq\u001b[49m\u001b[43m  \u001b[49m\u001b[43m=\u001b[49m\u001b[43m    \u001b[49m\u001b[32;43m1000\u001b[39;49m\u001b[43m,\u001b[49m\n\u001b[32m      9\u001b[39m \u001b[43m    \u001b[49m\u001b[43mnruns\u001b[49m\u001b[43m=\u001b[49m\u001b[32;43m1\u001b[39;49m\u001b[43m,\u001b[49m\n\u001b[32m     10\u001b[39m \u001b[43m    \u001b[49m\u001b[43m)\u001b[49m\n",
      "\u001b[36mFile \u001b[39m\u001b[32m~/miniconda3/lib/python3.11/site-packages/ipyrad/analysis/mrbayes.py:258\u001b[39m, in \u001b[36mMrBayes.__init__\u001b[39m\u001b[34m(self, data, name, workdir, clock_model, constraints, **kwargs)\u001b[39m\n\u001b[32m    254\u001b[39m \u001b[38;5;28mself\u001b[39m.trees.posttre = os.path.join(\n\u001b[32m    255\u001b[39m     \u001b[38;5;28mself\u001b[39m.workdir, \u001b[33m\"\u001b[39m\u001b[38;5;132;01m{}\u001b[39;00m\u001b[33m.nex.\u001b[39m\u001b[38;5;132;01m{}\u001b[39;00m\u001b[33mt\u001b[39m\u001b[33m\"\u001b[39m.format(\u001b[38;5;28mself\u001b[39m.name, runs))\n\u001b[32m    256\u001b[39m \u001b[38;5;28mself\u001b[39m.trees.pstat = os.path.join(\n\u001b[32m    257\u001b[39m     \u001b[38;5;28mself\u001b[39m.workdir, \u001b[33m\"\u001b[39m\u001b[38;5;132;01m{}\u001b[39;00m\u001b[33m.nex.pstat\u001b[39m\u001b[33m\"\u001b[39m.format(\u001b[38;5;28mself\u001b[39m.name))\n\u001b[32m--> \u001b[39m\u001b[32m258\u001b[39m \u001b[38;5;28;43mself\u001b[39;49m\u001b[43m.\u001b[49m\u001b[43m_write_nexus_file\u001b[49m\u001b[43m(\u001b[49m\u001b[43m)\u001b[49m\n\u001b[32m    260\u001b[39m \u001b[38;5;66;03m# check attribute for existing results at this name.\u001b[39;00m\n\u001b[32m    261\u001b[39m \u001b[38;5;28;01mif\u001b[39;00m \u001b[38;5;28mself\u001b[39m.result_files:\n",
      "\u001b[36mFile \u001b[39m\u001b[32m~/miniconda3/lib/python3.11/site-packages/ipyrad/analysis/mrbayes.py:280\u001b[39m, in \u001b[36mMrBayes._write_nexus_file\u001b[39m\u001b[34m(self, write)\u001b[39m\n\u001b[32m    277\u001b[39m cwargs[\u001b[33m\"\u001b[39m\u001b[33moutname\u001b[39m\u001b[33m\"\u001b[39m] = \u001b[38;5;28mself\u001b[39m.nexus\n\u001b[32m    279\u001b[39m \u001b[38;5;66;03m# is the tree topology fixed?\u001b[39;00m\n\u001b[32m--> \u001b[39m\u001b[32m280\u001b[39m \u001b[38;5;28;01mif\u001b[39;00m \u001b[38;5;28misinstance\u001b[39m(\u001b[38;5;28mself\u001b[39m.constraints, \u001b[43mtoytree\u001b[49m\u001b[43m.\u001b[49m\u001b[43mToytree\u001b[49m.ToyTree):\n\u001b[32m    281\u001b[39m     \u001b[38;5;28mself\u001b[39m._fixed_tree()\n\u001b[32m    282\u001b[39m     cwargs[\u001b[33m\"\u001b[39m\u001b[33mtreeblock\u001b[39m\u001b[33m\"\u001b[39m] = \u001b[38;5;28mself\u001b[39m.treeblock\n",
      "\u001b[31mAttributeError\u001b[39m: module 'toytree' has no attribute 'Toytree'"
     ]
    }
   ],
   "source": [
    "#filename = os.path.basename(file).replace(\".nexus\", \".mrbayes\") # uses the file basename (changing .nexus → .mrbayes\n",
    "mb = ipa.mrbayes(\n",
    "    #name       = \"test\",\n",
    "    data       = file,\n",
    "    #clock      = True,\n",
    "    #ngen       = 5000000,\n",
    "    samplefreq =   10000,\n",
    "    printfreq  =    1000,\n",
    "    nruns=1,\n",
    "    )"
   ]
  }
 ],
 "metadata": {
  "kernelspec": {
   "display_name": "Python 3 (ipykernel)",
   "language": "python",
   "name": "python3"
  },
  "language_info": {
   "codemirror_mode": {
    "name": "ipython",
    "version": 3
   },
   "file_extension": ".py",
   "mimetype": "text/x-python",
   "name": "python",
   "nbconvert_exporter": "python",
   "pygments_lexer": "ipython3",
   "version": "3.11.9"
  }
 },
 "nbformat": 4,
 "nbformat_minor": 5
}
