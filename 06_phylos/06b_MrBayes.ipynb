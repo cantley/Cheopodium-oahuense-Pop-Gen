{
 "cells": [
  {
   "cell_type": "code",
   "execution_count": 6,
   "metadata": {},
   "outputs": [
    {
     "name": "stdout",
     "output_type": "stream",
     "text": [
      "('ipyrad', '0.9.51')\n",
      "('toyplot', '0.18.0')\n",
      "('toytree', '1.1.2')\n",
      "MrBayes, Bayesian Analysis of Phylogeny\r\n",
      "\r\n",
      "Version:   3.2.7\r\n",
      "Features:  SSE AVX FMA Beagle readline\r\n",
      "Host type: x86_64-conda-linux-gnu (CPU: x86_64)\r\n",
      "Compiler:  gnu 13.3.0\r\n"
     ]
    }
   ],
   "source": [
    "import ipyrad.analysis as ipa\n",
    "import os\n",
    "import re\n",
    "import toyplot\n",
    "import toytree\n",
    "print ('ipyrad', ipa.__version__)\n",
    "print ('toyplot', toyplot.__version__)\n",
    "print ('toytree', toytree.__version__)\n",
    "! mb -v"
   ]
  },
  {
   "cell_type": "code",
   "execution_count": 3,
   "metadata": {},
   "outputs": [
    {
     "name": "stdout",
     "output_type": "stream",
     "text": [
      "chenopodium_20250304b-tetraploid.indivmiss20.locimiss50.thin10.maf0.01.LD0.8-1000.min4.nexus exists. Skipping.\n",
      "chenopodium_20250304b-tetraploid.indivmiss40.locimiss50.thin10.maf0.01.LD0.8-1000.min4.nexus exists. Skipping.\n",
      "chenopodium_20250304b-tetraploid.indivmiss60.locimiss50.thin10.maf0.01.LD0.8-1000.min4.nexus exists. Skipping.\n",
      "chenopodium_20250304b-tetraploid.indivmiss60.locimiss50.thin10.maf0.01.LD0.8-1000.no-AR.no-CH-except-OA.min4.nexus.renamed exists. Skipping.\n",
      "chenopodium_20250304b-tetraploid.indivmiss60.locimiss50.thin10.maf0.01.LD0.8-1000.no-AR.no-CH-except-OA.min4.nexus exists. Skipping.\n",
      "chenopodium_20250304b-tetraploid.indivmiss60.locimiss50.thin10.maf0.01.LD0.8-1000.no-CH-AR.min4.nexus exists. Skipping.\n",
      "chenopodium_20250304b-tetraploid.indivmiss60.locimiss50.thin10.maf0.01.LD0.8-1000.min4.nexus.renamed exists. Skipping.\n"
     ]
    }
   ],
   "source": [
    "vcf2phylip_path = os.path.abspath('../05_vcf2phylip/')\n",
    "phylos_path     = os.path.abspath('../06_phylos/') # for ease of use\n",
    "mb_path         = os.path.abspath('../06_phylos/analysis-mb/') # for ease of use\n",
    "\n",
    "for file in os.listdir('../05_vcf2phylip/'):\n",
    "    if '.nexus' in file: # if this is a nexus file\n",
    "        absfilepath = os.path.abspath(file)\n",
    "        if os.path.isdir(os.path.join(mb_path, file)): print(file + \" exists. Skipping.\")\n",
    "        if not os.path.isdir(os.path.join(mb_path, file)): # make a subfolder if it doesn't exist\n",
    "            # make subdirs for each file\n",
    "            os.makedirs(os.path.join(mb_path, file)) # make an analysis folder\n",
    "            os.chdir(os.path.join(mb_path, file))    # change to the analysis subfolder\n",
    "            os.system('cp ' + os.path.join(vcf2phylip_path, file) + ' temp_file.nexus') # make the temp file\n",
    "            os.chdir(phylos_path)"
   ]
  },
  {
   "cell_type": "code",
   "execution_count": 13,
   "metadata": {},
   "outputs": [
    {
     "name": "stdout",
     "output_type": "stream",
     "text": [
      "92\n",
      "70\n",
      "92\n",
      "70\n",
      "92\n",
      "70\n",
      "122\n",
      "86\n",
      "114\n",
      "81\n",
      "101\n",
      "75\n",
      "100\n",
      "75\n"
     ]
    }
   ],
   "source": []
  },
  {
   "cell_type": "code",
   "execution_count": 16,
   "metadata": {},
   "outputs": [
    {
     "name": "stdout",
     "output_type": "stream",
     "text": [
      "#NEXUS\n",
      "execute /home/923643692/cheno_pop_gen/06_phylos/analysis-mb/chenopodium_20250304b-tetraploid.indivmiss60.locimiss50.thin10.maf0.01.LD0.8-1000.min4.nexus.renamed/temp_file.nexus;\n",
      "\n",
      "begin mrbayes;\n",
      "set autoclose=yes nowarn=yes;\n",
      "\n",
      "lset nst=6 rates=gamma;\n",
      "\n",
      "mcmcp ngen=5000 nrun=1 nchains=4;\n",
      "mcmcp relburnin=yes burninfrac=0.25; \n",
      "mcmcp samplefreq=1000 printfreq=10000;\n",
      "mcmcp filename=/home/923643692/cheno_pop_gen/06_phylos/analysis-mb/chenopodium_20250304b-tetraploid.indivmiss60.locimiss50.thin10.maf0.01.LD0.8-1000.min4.nexus.renamed/analysis-mb/mrbayes.nex;\n",
      "mcmc;\n",
      "\n",
      "sump filename=/home/923643692/cheno_pop_gen/06_phylos/analysis-mb/chenopodium_20250304b-tetraploid.indivmiss60.locimiss50.thin10.maf0.01.LD0.8-1000.min4.nexus.renamed/analysis-mb/mrbayes.nex;\n",
      "sumt filename=/home/923643692/cheno_pop_gen/06_phylos/analysis-mb/chenopodium_20250304b-tetraploid.indivmiss60.locimiss50.thin10.maf0.01.LD0.8-1000.min4.nexus.renamed/analysis-mb/mrbayes.nex;\n",
      "end;\n",
      "\n"
     ]
    },
    {
     "ename": "IPyradError",
     "evalue": "\n\n                            MrBayes 3.2.7 x86_64\n\n                      (Bayesian Analysis of Phylogeny)\n\n              Distributed under the GNU General Public License\n\n\n               Type \"help\" or \"help <command>\" for information\n                     on the commands that are available.\n\n                   Type \"about\" for authorship and general\n                       information about the program.\n\n\n\n   Maximum allowed length of file name is 99 characters. The given name:\n      '/home/923643692/cheno_pop_gen/06_phylos/analysis-mb/chenopodium_20250304b-tetraploid.indivmiss60.locimiss50.thin10.maf0.01.LD0.8-1000.min4.nexus.renamed/analysis-mb/mrbayes.nex'\n   has 176 characters.\n   Error when setting parameter \"Filename\" (2)\n   Will exit with signal 1 (error) because quitonerror is set to yes\n   If you want control to be returned to the command line on error,\n   use 'mb -i <filename>' (i is for interactive) or use 'set quitonerror=no'\n\n",
     "output_type": "error",
     "traceback": [
      "\u001b[0;31m---------------------------------------------------------------------------\u001b[0m",
      "\u001b[0;31mIPyradError\u001b[0m                               Traceback (most recent call last)",
      "\u001b[0;32m<ipython-input-16-660e1a1ba618>\u001b[0m in \u001b[0;36m<module>\u001b[0;34m()\u001b[0m\n\u001b[1;32m     11\u001b[0m \u001b[0mmb\u001b[0m\u001b[0;34m.\u001b[0m\u001b[0mparams\u001b[0m\u001b[0;34m\u001b[0m\u001b[0m\n\u001b[1;32m     12\u001b[0m \u001b[0;32mprint\u001b[0m\u001b[0;34m(\u001b[0m\u001b[0mmb\u001b[0m\u001b[0;34m.\u001b[0m\u001b[0mnexus_string\u001b[0m\u001b[0;34m)\u001b[0m\u001b[0;34m\u001b[0m\u001b[0m\n\u001b[0;32m---> 13\u001b[0;31m \u001b[0mmb\u001b[0m\u001b[0;34m.\u001b[0m\u001b[0mrun\u001b[0m\u001b[0;34m(\u001b[0m\u001b[0;34m)\u001b[0m\u001b[0;34m\u001b[0m\u001b[0m\n\u001b[0m",
      "\u001b[0;32m/home/923643692/miniconda3/envs/ipyrad_2.7/lib/python2.7/site-packages/ipyrad/analysis/mrbayes.pyc\u001b[0m in \u001b[0;36mrun\u001b[0;34m(self, ipyclient, quiet, force, block)\u001b[0m\n\u001b[1;32m    282\u001b[0m         \u001b[0;31m# submit it\u001b[0m\u001b[0;34m\u001b[0m\u001b[0;34m\u001b[0m\u001b[0m\n\u001b[1;32m    283\u001b[0m         \u001b[0;32mif\u001b[0m \u001b[0;32mnot\u001b[0m \u001b[0mipyclient\u001b[0m\u001b[0;34m:\u001b[0m\u001b[0;34m\u001b[0m\u001b[0m\n\u001b[0;32m--> 284\u001b[0;31m             \u001b[0mself\u001b[0m\u001b[0;34m.\u001b[0m\u001b[0mstdout\u001b[0m \u001b[0;34m=\u001b[0m \u001b[0m_call_mb\u001b[0m\u001b[0;34m(\u001b[0m\u001b[0;34m[\u001b[0m\u001b[0mself\u001b[0m\u001b[0;34m.\u001b[0m\u001b[0mbinary\u001b[0m\u001b[0;34m,\u001b[0m \u001b[0mself\u001b[0m\u001b[0;34m.\u001b[0m\u001b[0mnexus\u001b[0m\u001b[0;34m]\u001b[0m\u001b[0;34m)\u001b[0m\u001b[0;34m\u001b[0m\u001b[0m\n\u001b[0m\u001b[1;32m    285\u001b[0m \u001b[0;34m\u001b[0m\u001b[0m\n\u001b[1;32m    286\u001b[0m         \u001b[0;32melse\u001b[0m\u001b[0;34m:\u001b[0m\u001b[0;34m\u001b[0m\u001b[0m\n",
      "\u001b[0;32m/home/923643692/miniconda3/envs/ipyrad_2.7/lib/python2.7/site-packages/ipyrad/analysis/mrbayes.pyc\u001b[0m in \u001b[0;36m_call_mb\u001b[0;34m(command_list)\u001b[0m\n\u001b[1;32m    347\u001b[0m     \u001b[0mcomm\u001b[0m \u001b[0;34m=\u001b[0m \u001b[0mproc\u001b[0m\u001b[0;34m.\u001b[0m\u001b[0mcommunicate\u001b[0m\u001b[0;34m(\u001b[0m\u001b[0;34m)\u001b[0m\u001b[0;34m\u001b[0m\u001b[0m\n\u001b[1;32m    348\u001b[0m     \u001b[0;32mif\u001b[0m \u001b[0mproc\u001b[0m\u001b[0;34m.\u001b[0m\u001b[0mreturncode\u001b[0m\u001b[0;34m:\u001b[0m\u001b[0;34m\u001b[0m\u001b[0m\n\u001b[0;32m--> 349\u001b[0;31m         \u001b[0;32mraise\u001b[0m \u001b[0mIPyradError\u001b[0m\u001b[0;34m(\u001b[0m\u001b[0mcomm\u001b[0m\u001b[0;34m[\u001b[0m\u001b[0;36m0\u001b[0m\u001b[0;34m]\u001b[0m\u001b[0;34m.\u001b[0m\u001b[0mdecode\u001b[0m\u001b[0;34m(\u001b[0m\u001b[0;34m)\u001b[0m\u001b[0;34m)\u001b[0m\u001b[0;34m\u001b[0m\u001b[0m\n\u001b[0m\u001b[1;32m    350\u001b[0m     \u001b[0;32mreturn\u001b[0m \u001b[0mcomm\u001b[0m\u001b[0;34m[\u001b[0m\u001b[0;36m0\u001b[0m\u001b[0;34m]\u001b[0m\u001b[0;34m.\u001b[0m\u001b[0mdecode\u001b[0m\u001b[0;34m(\u001b[0m\u001b[0;34m)\u001b[0m\u001b[0;34m\u001b[0m\u001b[0m\n",
      "\u001b[0;31mIPyradError\u001b[0m: \n\n                            MrBayes 3.2.7 x86_64\n\n                      (Bayesian Analysis of Phylogeny)\n\n              Distributed under the GNU General Public License\n\n\n               Type \"help\" or \"help <command>\" for information\n                     on the commands that are available.\n\n                   Type \"about\" for authorship and general\n                       information about the program.\n\n\n\n   Maximum allowed length of file name is 99 characters. The given name:\n      '/home/923643692/cheno_pop_gen/06_phylos/analysis-mb/chenopodium_20250304b-tetraploid.indivmiss60.locimiss50.thin10.maf0.01.LD0.8-1000.min4.nexus.renamed/analysis-mb/mrbayes.nex'\n   has 176 characters.\n   Error when setting parameter \"Filename\" (2)\n   Will exit with signal 1 (error) because quitonerror is set to yes\n   If you want control to be returned to the command line on error,\n   use 'mb -i <filename>' (i is for interactive) or use 'set quitonerror=no'\n\n"
     ]
    }
   ],
   "source": [
    "data = 'temp_file.nexus'\n",
    "mb = ipa.mrbayes(\n",
    "    name       = 'mrbayes',\n",
    "    data       = data,\n",
    "    #clock      = True,\n",
    "    ngen       = 5000,\n",
    "    samplefreq =  1000,\n",
    "    printfreq  =   100,\n",
    "    nruns=1,\n",
    "    )\n",
    "mb.params\n",
    "print(mb.nexus_string)\n",
    "mb.run()"
   ]
  },
  {
   "cell_type": "code",
   "execution_count": 42,
   "metadata": {},
   "outputs": [
    {
     "name": "stdout",
     "output_type": "stream",
     "text": [
      "chenopodium_20250304b-tetraploid.indivmiss20.locimiss50.thin10.maf0.01.LD0.8-1000.min4.nexus is a dir\n",
      "chenopodium_20250304b-tetraploid.indivmiss40.locimiss50.thin10.maf0.01.LD0.8-1000.min4.nexus is a dir\n",
      "chenopodium_20250304b-tetraploid.indivmiss60.locimiss50.thin10.maf0.01.LD0.8-1000.min4.nexus is a dir\n",
      "chenopodium_20250304b-tetraploid.indivmiss60.locimiss50.thin10.maf0.01.LD0.8-1000.no-AR.no-CH-except-OA.min4.nexus.renamed is a dir\n",
      "chenopodium_20250304b-tetraploid.indivmiss60.locimiss50.thin10.maf0.01.LD0.8-1000.no-AR.no-CH-except-OA.min4.nexus is a dir\n",
      "chenopodium_20250304b-tetraploid.indivmiss60.locimiss50.thin10.maf0.01.LD0.8-1000.no-CH-AR.min4.nexus is a dir\n",
      "chenopodium_20250304b-tetraploid.indivmiss60.locimiss50.thin10.maf0.01.LD0.8-1000.min4.nexus.renamed is a dir\n"
     ]
    }
   ],
   "source": [
    "for directory in os.listdir('analysis-mb/'):\n",
    "    if not os.path.isdir(directory):\n",
    "        print( directory + \" is a dir\")"
   ]
  },
  {
   "cell_type": "code",
   "execution_count": null,
   "metadata": {},
   "outputs": [],
   "source": [
    "miss60_no_AR_OA_OUT='chenopodium_20250304b-tetraploid.indivmiss60.locimiss50.thin10.maf0.01.LD0.8-1000.min4.mrbayes.nex'\n",
    "print(os.path.splitext(miss60_no_AR_OA_OUT)[0]+'.mrbayes')"
   ]
  },
  {
   "cell_type": "code",
   "execution_count": null,
   "metadata": {},
   "outputs": [],
   "source": [
    "#filename = os.path.basename(file).replace(\".nexus\", \".mrbayes\") # uses the file basename (changing .nexus → .mrbayes\n",
    "IN_FILE='chenopodium_20250304b-tetraploid.indivmiss60.locimiss50.thin10.maf0.01.LD0.8-1000.no-AR.no-CH-except-OA.min4.nexus'\n",
    "IN_FILE_PATH='../'+IN_FILE\n",
    "filename=os.path.splitext(IN_FILE)[0]+'.mrbayes'\n",
    "!cp $IN_FILE temp_file\n",
    "DIR=!pwd\n",
    "DIR=str(DIR)[2:-2]+'/'\n",
    "temp_file"
   ]
  },
  {
   "cell_type": "code",
   "execution_count": null,
   "metadata": {},
   "outputs": [],
   "source": [
    "#filename = os.path.basename(file).replace(\".nexus\", \".mrbayes\") # uses the file basename (changing .nexus → .mrbayes\n",
    "IN_FILE='chenopodium_20250304b-tetraploid.indivmiss60.locimiss50.thin10.maf0.01.LD0.8-1000.no-AR.no-CH-except-OA.min4.nexus'\n",
    "IN_FILE_PATH='../'+IN_FILE\n",
    "filename=os.path.splitext(IN_FILE)[0]+'.mrbayes'\n",
    "!mv $IN_FILE temp_file\n",
    "mb = ipa.mrbayes(\n",
    "    name       = 'temp_name',\n",
    "    data       = IN_FILE_PATH,\n",
    "    #clock      = True,\n",
    "    ngen       = 5000000,\n",
    "    samplefreq =   10000,\n",
    "    printfreq  =    1000,\n",
    "    nruns=1,\n",
    "    )\n",
    "print(mb.nexus_string)\n",
    "mb.run(block=True, force=True)"
   ]
  },
  {
   "cell_type": "code",
   "execution_count": null,
   "metadata": {},
   "outputs": [],
   "source": [
    "#filename = os.path.basename(file).replace(\".nexus\", \".mrbayes\") # uses the file basename (changing .nexus → .mrbayes\n",
    "IN_FILE='chenopodium_20250304b-tetraploid.indivmiss60.locimiss50.thin10.maf0.01.LD0.8-1000.no-AR.no-CH-except-OA.min4.nexus'\n",
    "IN_FILE_PATH='../'+IN_FILE\n",
    "filename=os.path.splitext(IN_FILE)[0]+'.mrbayes'\n",
    "!mv $IN_FILE temp_file\n",
    "mb = ipa.mrbayes(\n",
    "    name       = 'temp_name',\n",
    "    data       = IN_FILE_PATH,\n",
    "    #clock      = True,\n",
    "    ngen       = 5000000,\n",
    "    samplefreq =   10000,\n",
    "    printfreq  =    1000,\n",
    "    nruns=1,\n",
    "    )\n",
    "print(mb.nexus_string)\n",
    "mb.run(block=True, force=True)"
   ]
  },
  {
   "cell_type": "code",
   "execution_count": null,
   "metadata": {},
   "outputs": [],
   "source": [
    "mb = ipa.mrbayes(\n",
    "    name       = 'out_file',\n",
    "    data       = in_file,\n",
    "    clock      = True,\n",
    "    ngen       = 5000000,\n",
    "    samplefreq =   10000,\n",
    "    printfreq  =    1000,\n",
    "    nruns=1,\n",
    "            )\n",
    "print(\"MB nexus string for\", filename)\n",
    "print(mb.nexus_string)\n",
    "print('Running MB for ', filename)\n",
    "mb.run(block=True, force=True)\n"
   ]
  },
  {
   "cell_type": "code",
   "execution_count": null,
   "metadata": {},
   "outputs": [],
   "source": [
    "print('MB run for ', filename, ' complete.')\n",
    "mb.trees\n",
    "mb.convergence_stats.round(3)\n",
    "print('Drawing trees for ', filename)\n",
    "tre = toytree.tree(mb.trees.constre, tree_format=10)\n",
    "tre.draw(\n",
    "    tip_labels_align=True,\n",
    "    scalebar=True,\n",
    "    node_labels=\"support\",\n",
    "    )\n",
    "    # load from the .trees attribute or from the saved tree file\n",
    "mtre = toytree.mtree(mb.trees.posttre)\n",
    "\n",
    "    # remove the burnin manually\n",
    "mtre.treelist = mtre.treelist[10:]\n",
    "\n",
    "    # draw a few trees on a shared axis\n",
    "mtre.draw_tree_grid(\n",
    "    nrows=1, ncols=4, start=20, shared_axis=True,\n",
    "    height=400,\n",
    "    )\n",
    "mtre.treelist = [i.mod.node_scale_root_height(1.0) for i in mtre.treelist]\n",
    "    # draw the posterior of trees overlapping\n",
    "mtre.draw_cloud_tree(\n",
    "    width=400, height=300,\n",
    "    html=True,\n",
    "    edge_colors=\"red\",\n",
    "    edge_style={\"stroke-opacity\": 0.02},\n",
    "    tip_labels={i: i.rsplit(\"_\", 1)[0] for i in mtre.treelist[0].get_tip_labels()},\n",
    "    )\n",
    "    #Saving trees\n",
    "canvas, axes = mtre.draw_cloud_tree(\n",
    "    width=400, height=300,\n",
    "    html=True,\n",
    "    edge_colors=\"red\",\n",
    "    tip_labels={i: i.rsplit(\"_\", 1)[0] for i in mtre.treelist[0].get_tip_labels()}\n",
    "    )\n",
    "toyplot.pdf.render(canvas, filename+'.pdf')"
   ]
  },
  {
   "cell_type": "code",
   "execution_count": null,
   "metadata": {},
   "outputs": [],
   "source": [
    "# init mrbayes object with input data and (optional) parameter options\n",
    "for file in os.listdir('../06_phylos/'):\n",
    "    if '.nexus' in file:\n",
    "        print('Loading data for ', file)\n",
    "        filename = os.basename(file)+\".mrbayes\" # uses the file basename (changing .nexus → .mrbayes)\n",
    "        !mv $file in_file \n",
    "        mb = ipa.mrbayes(\n",
    "            name       = 'out_file',\n",
    "            data       = in_file,\n",
    "            clock      = True,\n",
    "            ngen       = 5000000,\n",
    "            samplefreq =   10000,\n",
    "            printfreq  =    1000,\n",
    "            nruns=1,\n",
    "            )\n",
    "    print(\"MB nexus string for\", filename)\n",
    "    print(mb.nexus_string)\n",
    "    print('Running MB for ', filename)\n",
    "    mb.run(block=True, force=True)\n",
    "    print('MB run for ', filename, ' complete.')\n",
    "    mb.trees\n",
    "    mb.convergence_stats.round(3)\n",
    "    print('Drawing trees for ', filename)\n",
    "    tre = toytree.tree(mb.trees.constre, tree_format=10)\n",
    "    tre.draw(\n",
    "        tip_labels_align=True,\n",
    "        scalebar=True,\n",
    "        node_labels=\"support\",\n",
    "        )\n",
    "    # load from the .trees attribute or from the saved tree file\n",
    "    mtre = toytree.mtree(mb.trees.posttre)\n",
    "\n",
    "    # remove the burnin manually\n",
    "    mtre.treelist = mtre.treelist[10:]\n",
    "\n",
    "    # draw a few trees on a shared axis\n",
    "    mtre.draw_tree_grid(\n",
    "        nrows=1, ncols=4, start=20, shared_axis=True,\n",
    "        height=400,\n",
    "        )\n",
    "    mtre.treelist = [i.mod.node_scale_root_height(1.0) for i in mtre.treelist]\n",
    "    # draw the posterior of trees overlapping\n",
    "    mtre.draw_cloud_tree(\n",
    "        width=400, height=300,\n",
    "        html=True,\n",
    "        edge_colors=\"red\",\n",
    "        edge_style={\"stroke-opacity\": 0.02},\n",
    "        tip_labels={i: i.rsplit(\"_\", 1)[0] for i in mtre.treelist[0].get_tip_labels()},\n",
    "        )\n",
    "    #Saving trees\n",
    "    canvas, axes = mtre.draw_cloud_tree(\n",
    "        width=400, height=300,\n",
    "        html=True,\n",
    "        edge_colors=\"red\",\n",
    "        tip_labels={i: i.rsplit(\"_\", 1)[0] for i in mtre.treelist[0].get_tip_labels()}\n",
    "        )\n",
    "    toyplot.pdf.render(canvas, filename+'.pdf')"
   ]
  },
  {
   "cell_type": "code",
   "execution_count": null,
   "metadata": {},
   "outputs": [],
   "source": [
    "# init mrbayes object with input data and (optional) parameter options\n",
    "for file in os.listdir('../06_phylos/'):\n",
    "    if '.nexus' in file:\n",
    "        print('Loading data for ', file)\n",
    "        filename = os.basename(file)+\".mrbayes\" # uses the file basename (changing .nexus → .mrbayes)\n",
    "        !mv $file in_file \n",
    "        mb = ipa.mrbayes(\n",
    "            name       = out,\n",
    "            data       = file,\n",
    "            clock      = True,\n",
    "            ngen       = 5000000,\n",
    "            samplefreq =   10000,\n",
    "            printfreq  =    1000,\n",
    "            nruns=1,\n",
    "            )\n",
    "        print(\"MB nexus string for\", filename)\n",
    "        print(mb.nexus_string)\n",
    "        print('Running MB for ', filename)\n",
    "    mb.run(block=True, force=True)"
   ]
  },
  {
   "cell_type": "code",
   "execution_count": null,
   "metadata": {},
   "outputs": [],
   "source": [
    "#filename = os.path.basename(file).replace(\".nexus\", \".mrbayes\") # uses the file basename (changing .nexus → .mrbayes\n",
    "mb = ipa.mrbayes(\n",
    "    #name       = \"test\",\n",
    "    data       = file,\n",
    "    #clock      = True,\n",
    "    #ngen       = 5000000,\n",
    "    samplefreq =   10000,\n",
    "    printfreq  =    1000,\n",
    "    nruns=1,\n",
    "    )"
   ]
  }
 ],
 "metadata": {
  "kernelspec": {
   "display_name": "Python 2",
   "language": "python",
   "name": "python2"
  },
  "language_info": {
   "codemirror_mode": {
    "name": "ipython",
    "version": 2
   },
   "file_extension": ".py",
   "mimetype": "text/x-python",
   "name": "python",
   "nbconvert_exporter": "python",
   "pygments_lexer": "ipython2",
   "version": "2.7.18"
  }
 },
 "nbformat": 4,
 "nbformat_minor": 5
}
