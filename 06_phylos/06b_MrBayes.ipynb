{
 "cells": [
  {
   "cell_type": "code",
   "execution_count": 1,
   "metadata": {},
   "outputs": [
    {
     "name": "stdout",
     "output_type": "stream",
     "text": [
      "('ipyrad', '0.9.51')\n",
      "('toyplot', '0.18.0')\n",
      "('toytree', '1.1.2')\n",
      "MrBayes, Bayesian Analysis of Phylogeny\r\n",
      "\r\n",
      "Version:   3.2.7\r\n",
      "Features:  SSE AVX FMA Beagle readline\r\n",
      "Host type: x86_64-conda-linux-gnu (CPU: x86_64)\r\n",
      "Compiler:  gnu 13.3.0\r\n"
     ]
    }
   ],
   "source": [
    "import ipyrad.analysis as ipa\n",
    "import os\n",
    "import toyplot\n",
    "import toytree\n",
    "print ('ipyrad', ipa.__version__)\n",
    "print ('toyplot', toyplot.__version__)\n",
    "print ('toytree', toytree.__version__)\n",
    "! mb -v"
   ]
  },
  {
   "cell_type": "code",
   "execution_count": 2,
   "metadata": {},
   "outputs": [],
   "source": [
    "# the path to your NEXUS formatted file. RAxML doesn't like relative directories.\n",
    "VCF2PHYLIP_PATH = '../05_vcf2phylip/'\n",
    "miss60_full_NEX = VCF2PHYLIP_PATH+'chenopodium_20250304b-tetraploid.indivmiss60.locimiss50.thin10.maf0.01.LD0.8-1000.min4.nexus'\n",
    "miss60_full_PHY = VCF2PHYLIP_PATH+'chenopodium_20250304b-tetraploid.indivmiss60.locimiss50.thin10.maf0.01.LD0.8-1000.min4.phy'\n",
    "miss60_OAM_NEX  = VCF2PHYLIP_PATH+'chenopodium_20250304b-tetraploid.indivmiss60.locimiss50.thin10.maf0.01.LD0.8-1000.no-CH-AR.min4.nexus'\n",
    "miss60_OAM_PHY  = VCF2PHYLIP_PATH+'chenopodium_20250304b-tetraploid.indivmiss60.locimiss50.thin10.maf0.01.LD0.8-1000.no-CH-AR.min4.phy'\n",
    "nex_files = [miss60_full_NEX, miss60_OAM_NEX]\n",
    "phy_files = [miss60_full_PHY, miss60_OAM_PHY]"
   ]
  },
  {
   "cell_type": "code",
   "execution_count": 36,
   "metadata": {},
   "outputs": [
    {
     "name": "stdout",
     "output_type": "stream",
     "text": [
      "06a_RAxML.ipynb\n",
      "06b_MrBayes.ipynb\n",
      "analysis-mb\n",
      "analysis-raxml\n",
      "chenopodium_20250304b-tetraploid.indivmiss20.locimiss50.thin10.maf0.01.LD0.8-1000.min4.nexus\n",
      "chenopodium_20250304b-tetraploid.indivmiss40.locimiss50.thin10.maf0.01.LD0.8-1000.min4.nexus\n",
      "chenopodium_20250304b-tetraploid.indivmiss60.locimiss50.thin10.maf0.01.LD0.8-1000.min4.nexus\n",
      "chenopodium_20250304b-tetraploid.indivmiss60.locimiss50.thin10.maf0.01.LD0.8-1000.no-AR.no-CH-except-OA.min4.nexus\n",
      "chenopodium_20250304b-tetraploid.indivmiss60.locimiss50.thin10.maf0.01.LD0.8-1000.no-CH-AR.min4.nexus\n",
      "Untitled.ipynb\n"
     ]
    }
   ],
   "source": [
    "%%bash\n",
    "# makes copies because MB doesn't like long filenames\n",
    "for file in ../05_vcf2phylip/*.nexus; do\n",
    "    cp $file ../06_phylos/\n",
    "done\n",
    "ls"
   ]
  },
  {
   "cell_type": "code",
   "execution_count": 19,
   "metadata": {},
   "outputs": [
    {
     "name": "stdout",
     "output_type": "stream",
     "text": [
      "chenopodium_20250304b-tetraploid.indivmiss60.locimiss50.thin10.maf0.01.LD0.8-1000.no-AR.no-CH-except-OA.min4.mrbayes\n"
     ]
    }
   ],
   "source": [
    "miss60_no_AR_OA_OUT='chenopodium_20250304b-tetraploid.indivmiss60.locimiss50.thin10.maf0.01.LD0.8-1000.no-AR.no-CH-except-OA.min4.nexus'\n",
    "print(os.path.splitext(miss60_no_AR_OA_OUT)[0]+'.mrbayes')"
   ]
  },
  {
   "cell_type": "code",
   "execution_count": 37,
   "metadata": {},
   "outputs": [
    {
     "ename": "NameError",
     "evalue": "name 'temp_file' is not defined",
     "output_type": "error",
     "traceback": [
      "\u001b[0;31m---------------------------------------------------------------------------\u001b[0m",
      "\u001b[0;31mNameError\u001b[0m                                 Traceback (most recent call last)",
      "\u001b[0;32m<ipython-input-37-1a4adf0fd8c2>\u001b[0m in \u001b[0;36m<module>\u001b[0;34m()\u001b[0m\n\u001b[1;32m      6\u001b[0m \u001b[0mDIR\u001b[0m \u001b[0;34m=\u001b[0m \u001b[0mget_ipython\u001b[0m\u001b[0;34m(\u001b[0m\u001b[0;34m)\u001b[0m\u001b[0;34m.\u001b[0m\u001b[0mgetoutput\u001b[0m\u001b[0;34m(\u001b[0m\u001b[0;34mu'pwd'\u001b[0m\u001b[0;34m)\u001b[0m\u001b[0;34m\u001b[0m\u001b[0m\n\u001b[1;32m      7\u001b[0m \u001b[0mDIR\u001b[0m\u001b[0;34m=\u001b[0m\u001b[0mstr\u001b[0m\u001b[0;34m(\u001b[0m\u001b[0mDIR\u001b[0m\u001b[0;34m)\u001b[0m\u001b[0;34m[\u001b[0m\u001b[0;36m2\u001b[0m\u001b[0;34m:\u001b[0m\u001b[0;34m-\u001b[0m\u001b[0;36m2\u001b[0m\u001b[0;34m]\u001b[0m\u001b[0;34m+\u001b[0m\u001b[0;34m'/'\u001b[0m\u001b[0;34m\u001b[0m\u001b[0m\n\u001b[0;32m----> 8\u001b[0;31m \u001b[0mtemp_file\u001b[0m\u001b[0;34m\u001b[0m\u001b[0m\n\u001b[0m",
      "\u001b[0;31mNameError\u001b[0m: name 'temp_file' is not defined"
     ]
    }
   ],
   "source": [
    "#filename = os.path.basename(file).replace(\".nexus\", \".mrbayes\") # uses the file basename (changing .nexus → .mrbayes\n",
    "IN_FILE='chenopodium_20250304b-tetraploid.indivmiss60.locimiss50.thin10.maf0.01.LD0.8-1000.no-AR.no-CH-except-OA.min4.nexus'\n",
    "IN_FILE_PATH='../'+IN_FILE\n",
    "filename=os.path.splitext(IN_FILE)[0]+'.mrbayes'\n",
    "!cp $IN_FILE temp_file\n",
    "DIR=!pwd\n",
    "DIR=str(DIR)[2:-2]+'/'\n",
    "temp_file"
   ]
  },
  {
   "cell_type": "code",
   "execution_count": 13,
   "metadata": {},
   "outputs": [
    {
     "name": "stdout",
     "output_type": "stream",
     "text": [
      "#NEXUS\n",
      "execute /home/923643692/cheno_pop_tests/chenopodium_20250304b-tetraploid.indivmiss60.locimiss50.thin10.maf0.01.LD0.8-1000.no-AR.no-CH-except-OA.min4.nexus;\n",
      "\n",
      "begin mrbayes;\n",
      "set autoclose=yes nowarn=yes;\n",
      "\n",
      "lset nst=6 rates=gamma;\n",
      "\n",
      "mcmcp ngen=5000000 nrun=1 nchains=4;\n",
      "mcmcp relburnin=yes burninfrac=0.25; \n",
      "mcmcp samplefreq=10000 printfreq=10000;\n",
      "mcmcp filename=/home/923643692/cheno_pop_tests/06_phylos/analysis-mb/temp_name.nex;\n",
      "mcmc;\n",
      "\n",
      "sump filename=/home/923643692/cheno_pop_tests/06_phylos/analysis-mb/temp_name.nex;\n",
      "sumt filename=/home/923643692/cheno_pop_tests/06_phylos/analysis-mb/temp_name.nex;\n",
      "end;\n",
      "\n"
     ]
    },
    {
     "ename": "IPyradError",
     "evalue": "data file not found /home/923643692/cheno_pop_tests/chenopodium_20250304b-tetraploid.indivmiss60.locimiss50.thin10.maf0.01.LD0.8-1000.no-AR.no-CH-except-OA.min4.nexus",
     "output_type": "error",
     "traceback": [
      "\u001b[0;31m---------------------------------------------------------------------------\u001b[0m",
      "\u001b[0;31mIPyradError\u001b[0m                               Traceback (most recent call last)",
      "\u001b[0;32m<ipython-input-13-a99094fd899d>\u001b[0m in \u001b[0;36m<module>\u001b[0;34m()\u001b[0m\n\u001b[1;32m     14\u001b[0m     )\n\u001b[1;32m     15\u001b[0m \u001b[0;32mprint\u001b[0m\u001b[0;34m(\u001b[0m\u001b[0mmb\u001b[0m\u001b[0;34m.\u001b[0m\u001b[0mnexus_string\u001b[0m\u001b[0;34m)\u001b[0m\u001b[0;34m\u001b[0m\u001b[0m\n\u001b[0;32m---> 16\u001b[0;31m \u001b[0mmb\u001b[0m\u001b[0;34m.\u001b[0m\u001b[0mrun\u001b[0m\u001b[0;34m(\u001b[0m\u001b[0mblock\u001b[0m\u001b[0;34m=\u001b[0m\u001b[0mTrue\u001b[0m\u001b[0;34m,\u001b[0m \u001b[0mforce\u001b[0m\u001b[0;34m=\u001b[0m\u001b[0mTrue\u001b[0m\u001b[0;34m)\u001b[0m\u001b[0;34m\u001b[0m\u001b[0m\n\u001b[0m",
      "\u001b[0;32m/home/923643692/miniconda3/envs/ipyrad_2.7/lib/python2.7/site-packages/ipyrad/analysis/mrbayes.pyc\u001b[0m in \u001b[0;36mrun\u001b[0;34m(self, ipyclient, quiet, force, block)\u001b[0m\n\u001b[1;32m    265\u001b[0m         \u001b[0;31m# check for input data file\u001b[0m\u001b[0;34m\u001b[0m\u001b[0;34m\u001b[0m\u001b[0m\n\u001b[1;32m    266\u001b[0m         \u001b[0;32mif\u001b[0m \u001b[0;32mnot\u001b[0m \u001b[0mos\u001b[0m\u001b[0;34m.\u001b[0m\u001b[0mpath\u001b[0m\u001b[0;34m.\u001b[0m\u001b[0mexists\u001b[0m\u001b[0;34m(\u001b[0m\u001b[0mself\u001b[0m\u001b[0;34m.\u001b[0m\u001b[0mdata\u001b[0m\u001b[0;34m)\u001b[0m\u001b[0;34m:\u001b[0m\u001b[0;34m\u001b[0m\u001b[0m\n\u001b[0;32m--> 267\u001b[0;31m             \u001b[0;32mraise\u001b[0m \u001b[0mIPyradError\u001b[0m\u001b[0;34m(\u001b[0m\u001b[0;34m\"data file not found {}\"\u001b[0m\u001b[0;34m.\u001b[0m\u001b[0mformat\u001b[0m\u001b[0;34m(\u001b[0m\u001b[0mself\u001b[0m\u001b[0;34m.\u001b[0m\u001b[0mdata\u001b[0m\u001b[0;34m)\u001b[0m\u001b[0;34m)\u001b[0m\u001b[0;34m\u001b[0m\u001b[0m\n\u001b[0m\u001b[1;32m    268\u001b[0m \u001b[0;34m\u001b[0m\u001b[0m\n\u001b[1;32m    269\u001b[0m         \u001b[0;31m# stop before trying in mrbayes\u001b[0m\u001b[0;34m\u001b[0m\u001b[0;34m\u001b[0m\u001b[0m\n",
      "\u001b[0;31mIPyradError\u001b[0m: data file not found /home/923643692/cheno_pop_tests/chenopodium_20250304b-tetraploid.indivmiss60.locimiss50.thin10.maf0.01.LD0.8-1000.no-AR.no-CH-except-OA.min4.nexus"
     ]
    }
   ],
   "source": [
    "#filename = os.path.basename(file).replace(\".nexus\", \".mrbayes\") # uses the file basename (changing .nexus → .mrbayes\n",
    "IN_FILE='chenopodium_20250304b-tetraploid.indivmiss60.locimiss50.thin10.maf0.01.LD0.8-1000.no-AR.no-CH-except-OA.min4.nexus'\n",
    "IN_FILE_PATH='../'+IN_FILE\n",
    "filename=os.path.splitext(IN_FILE)[0]+'.mrbayes'\n",
    "!mv $IN_FILE temp_file\n",
    "mb = ipa.mrbayes(\n",
    "    name       = 'temp_name',\n",
    "    data       = IN_FILE_PATH,\n",
    "    #clock      = True,\n",
    "    ngen       = 5000000,\n",
    "    samplefreq =   10000,\n",
    "    printfreq  =    1000,\n",
    "    nruns=1,\n",
    "    )\n",
    "print(mb.nexus_string)\n",
    "mb.run(block=True, force=True)"
   ]
  },
  {
   "cell_type": "code",
   "execution_count": 129,
   "metadata": {},
   "outputs": [
    {
     "ename": "NameError",
     "evalue": "name 'in_file' is not defined",
     "output_type": "error",
     "traceback": [
      "\u001b[0;31m---------------------------------------------------------------------------\u001b[0m",
      "\u001b[0;31mNameError\u001b[0m                                 Traceback (most recent call last)",
      "\u001b[0;32m<ipython-input-129-7e2953ce6563>\u001b[0m in \u001b[0;36m<module>\u001b[0;34m()\u001b[0m\n\u001b[1;32m      1\u001b[0m mb = ipa.mrbayes(\n\u001b[1;32m      2\u001b[0m     \u001b[0mname\u001b[0m       \u001b[0;34m=\u001b[0m \u001b[0;34m'out_file'\u001b[0m\u001b[0;34m,\u001b[0m\u001b[0;34m\u001b[0m\u001b[0m\n\u001b[0;32m----> 3\u001b[0;31m     \u001b[0mdata\u001b[0m       \u001b[0;34m=\u001b[0m \u001b[0min_file\u001b[0m\u001b[0;34m,\u001b[0m\u001b[0;34m\u001b[0m\u001b[0m\n\u001b[0m\u001b[1;32m      4\u001b[0m     \u001b[0mclock\u001b[0m      \u001b[0;34m=\u001b[0m \u001b[0mTrue\u001b[0m\u001b[0;34m,\u001b[0m\u001b[0;34m\u001b[0m\u001b[0m\n\u001b[1;32m      5\u001b[0m     \u001b[0mngen\u001b[0m       \u001b[0;34m=\u001b[0m \u001b[0;36m5000000\u001b[0m\u001b[0;34m,\u001b[0m\u001b[0;34m\u001b[0m\u001b[0m\n",
      "\u001b[0;31mNameError\u001b[0m: name 'in_file' is not defined"
     ]
    }
   ],
   "source": [
    "mb = ipa.mrbayes(\n",
    "    name       = 'out_file',\n",
    "    data       = in_file,\n",
    "    clock      = True,\n",
    "    ngen       = 5000000,\n",
    "    samplefreq =   10000,\n",
    "    printfreq  =    1000,\n",
    "    nruns=1,\n",
    "            )\n",
    "print(\"MB nexus string for\", filename)\n",
    "print(mb.nexus_string)\n",
    "print('Running MB for ', filename)\n",
    "mb.run(block=True, force=True)\n"
   ]
  },
  {
   "cell_type": "code",
   "execution_count": null,
   "metadata": {},
   "outputs": [],
   "source": [
    "print('MB run for ', filename, ' complete.')\n",
    "mb.trees\n",
    "mb.convergence_stats.round(3)\n",
    "print('Drawing trees for ', filename)\n",
    "tre = toytree.tree(mb.trees.constre, tree_format=10)\n",
    "tre.draw(\n",
    "    tip_labels_align=True,\n",
    "    scalebar=True,\n",
    "    node_labels=\"support\",\n",
    "    )\n",
    "    # load from the .trees attribute or from the saved tree file\n",
    "mtre = toytree.mtree(mb.trees.posttre)\n",
    "\n",
    "    # remove the burnin manually\n",
    "mtre.treelist = mtre.treelist[10:]\n",
    "\n",
    "    # draw a few trees on a shared axis\n",
    "mtre.draw_tree_grid(\n",
    "    nrows=1, ncols=4, start=20, shared_axis=True,\n",
    "    height=400,\n",
    "    )\n",
    "mtre.treelist = [i.mod.node_scale_root_height(1.0) for i in mtre.treelist]\n",
    "    # draw the posterior of trees overlapping\n",
    "mtre.draw_cloud_tree(\n",
    "    width=400, height=300,\n",
    "    html=True,\n",
    "    edge_colors=\"red\",\n",
    "    edge_style={\"stroke-opacity\": 0.02},\n",
    "    tip_labels={i: i.rsplit(\"_\", 1)[0] for i in mtre.treelist[0].get_tip_labels()},\n",
    "    )\n",
    "    #Saving trees\n",
    "canvas, axes = mtre.draw_cloud_tree(\n",
    "    width=400, height=300,\n",
    "    html=True,\n",
    "    edge_colors=\"red\",\n",
    "    tip_labels={i: i.rsplit(\"_\", 1)[0] for i in mtre.treelist[0].get_tip_labels()}\n",
    "    )\n",
    "toyplot.pdf.render(canvas, filename+'.pdf')"
   ]
  },
  {
   "cell_type": "code",
   "execution_count": 125,
   "metadata": {},
   "outputs": [
    {
     "name": "stdout",
     "output_type": "stream",
     "text": [
      "('MB nexus string for', 'chenopodium_20250304b-tetraploid.indivmiss60.locimiss50.thin10.maf0.01.LD0.8-1000.no-CH-AR.min4.nexus.mrbayes')\n",
      "#NEXUS\n",
      "execute /home/923643692/cheno_pop_tests/06_phylos/in_file;\n",
      "\n",
      "begin mrbayes;\n",
      "set autoclose=yes nowarn=yes;\n",
      "\n",
      "lset nst=6 rates=gamma;\n",
      "\n",
      "prset clockratepr=lognorm(-7,0.6);\n",
      "prset clockvarpr=tk02;\n",
      "prset tk02varpr=exp(1.0);\n",
      "prset brlenspr=clock:birthdeath;\n",
      "prset samplestrat=diversity;\n",
      "prset sampleprob=0.1;\n",
      "prset speciationpr=exp(10);\n",
      "prset extinctionpr=beta(2, 200);\n",
      "prset treeagepr=offsetexp(1,5);\n",
      "\n",
      "mcmcp ngen=5000000 nrun=1 nchains=4;\n",
      "mcmcp relburnin=yes burninfrac=0.25;\n",
      "mcmcp samplefreq=10000;\n",
      "mcmcp printfreq=10000 diagnfr=5000;\n",
      "mcmcp filename=/home/923643692/cheno_pop_tests/06_phylos/analysis-mb/chenopodium_20250304b-tetraploid.indivmiss60.locimiss50.thin10.maf0.01.LD0.8-1000.no-CH-AR.min4.nexus.mrbayes.nex;\n",
      "mcmc;\n",
      "\n",
      "sump filename=/home/923643692/cheno_pop_tests/06_phylos/analysis-mb/chenopodium_20250304b-tetraploid.indivmiss60.locimiss50.thin10.maf0.01.LD0.8-1000.no-CH-AR.min4.nexus.mrbayes.nex;\n",
      "sumt filename=/home/923643692/cheno_pop_tests/06_phylos/analysis-mb/chenopodium_20250304b-tetraploid.indivmiss60.locimiss50.thin10.maf0.01.LD0.8-1000.no-CH-AR.min4.nexus.mrbayes.nex;\n",
      "end;\n",
      "\n",
      "('Running MB for ', 'chenopodium_20250304b-tetraploid.indivmiss60.locimiss50.thin10.maf0.01.LD0.8-1000.no-CH-AR.min4.nexus.mrbayes')\n"
     ]
    },
    {
     "ename": "IPyradError",
     "evalue": "\n\n                            MrBayes 3.2.7 x86_64\n\n                      (Bayesian Analysis of Phylogeny)\n\n              Distributed under the GNU General Public License\n\n\n               Type \"help\" or \"help <command>\" for information\n                     on the commands that are available.\n\n                   Type \"about\" for authorship and general\n                       information about the program.\n\n\n\n   Maximum allowed length of file name is 99 characters. The given name:\n      '/home/923643692/cheno_pop_tests/06_phylos/analysis-mb/chenopodium_20250304b-tetraploid.indivmiss60.locimiss50.thin10.maf0.01.LD0.8-1000.no-CH-AR.min4.nexus.mrbayes.nex'\n   has 167 characters.\n   Error when setting parameter \"Filename\" (2)\n   Will exit with signal 1 (error) because quitonerror is set to yes\n   If you want control to be returned to the command line on error,\n   use 'mb -i <filename>' (i is for interactive) or use 'set quitonerror=no'\n\n",
     "output_type": "error",
     "traceback": [
      "\u001b[0;31m---------------------------------------------------------------------------\u001b[0m",
      "\u001b[0;31mIPyradError\u001b[0m                               Traceback (most recent call last)",
      "\u001b[0;32m<ipython-input-125-61dd3403997c>\u001b[0m in \u001b[0;36m<module>\u001b[0;34m()\u001b[0m\n\u001b[1;32m     17\u001b[0m     \u001b[0;32mprint\u001b[0m\u001b[0;34m(\u001b[0m\u001b[0mmb\u001b[0m\u001b[0;34m.\u001b[0m\u001b[0mnexus_string\u001b[0m\u001b[0;34m)\u001b[0m\u001b[0;34m\u001b[0m\u001b[0m\n\u001b[1;32m     18\u001b[0m     \u001b[0;32mprint\u001b[0m\u001b[0;34m(\u001b[0m\u001b[0;34m'Running MB for '\u001b[0m\u001b[0;34m,\u001b[0m \u001b[0mfilename\u001b[0m\u001b[0;34m)\u001b[0m\u001b[0;34m\u001b[0m\u001b[0m\n\u001b[0;32m---> 19\u001b[0;31m     \u001b[0mmb\u001b[0m\u001b[0;34m.\u001b[0m\u001b[0mrun\u001b[0m\u001b[0;34m(\u001b[0m\u001b[0mblock\u001b[0m\u001b[0;34m=\u001b[0m\u001b[0mTrue\u001b[0m\u001b[0;34m,\u001b[0m \u001b[0mforce\u001b[0m\u001b[0;34m=\u001b[0m\u001b[0mTrue\u001b[0m\u001b[0;34m)\u001b[0m\u001b[0;34m\u001b[0m\u001b[0m\n\u001b[0m\u001b[1;32m     20\u001b[0m     \u001b[0;32mprint\u001b[0m\u001b[0;34m(\u001b[0m\u001b[0;34m'MB run for '\u001b[0m\u001b[0;34m,\u001b[0m \u001b[0mfilename\u001b[0m\u001b[0;34m,\u001b[0m \u001b[0;34m' complete.'\u001b[0m\u001b[0;34m)\u001b[0m\u001b[0;34m\u001b[0m\u001b[0m\n\u001b[1;32m     21\u001b[0m     \u001b[0mmb\u001b[0m\u001b[0;34m.\u001b[0m\u001b[0mtrees\u001b[0m\u001b[0;34m\u001b[0m\u001b[0m\n",
      "\u001b[0;32m/home/923643692/miniconda3/envs/ipyrad_2.7/lib/python2.7/site-packages/ipyrad/analysis/mrbayes.pyc\u001b[0m in \u001b[0;36mrun\u001b[0;34m(self, ipyclient, quiet, force, block)\u001b[0m\n\u001b[1;32m    282\u001b[0m         \u001b[0;31m# submit it\u001b[0m\u001b[0;34m\u001b[0m\u001b[0;34m\u001b[0m\u001b[0m\n\u001b[1;32m    283\u001b[0m         \u001b[0;32mif\u001b[0m \u001b[0;32mnot\u001b[0m \u001b[0mipyclient\u001b[0m\u001b[0;34m:\u001b[0m\u001b[0;34m\u001b[0m\u001b[0m\n\u001b[0;32m--> 284\u001b[0;31m             \u001b[0mself\u001b[0m\u001b[0;34m.\u001b[0m\u001b[0mstdout\u001b[0m \u001b[0;34m=\u001b[0m \u001b[0m_call_mb\u001b[0m\u001b[0;34m(\u001b[0m\u001b[0;34m[\u001b[0m\u001b[0mself\u001b[0m\u001b[0;34m.\u001b[0m\u001b[0mbinary\u001b[0m\u001b[0;34m,\u001b[0m \u001b[0mself\u001b[0m\u001b[0;34m.\u001b[0m\u001b[0mnexus\u001b[0m\u001b[0;34m]\u001b[0m\u001b[0;34m)\u001b[0m\u001b[0;34m\u001b[0m\u001b[0m\n\u001b[0m\u001b[1;32m    285\u001b[0m \u001b[0;34m\u001b[0m\u001b[0m\n\u001b[1;32m    286\u001b[0m         \u001b[0;32melse\u001b[0m\u001b[0;34m:\u001b[0m\u001b[0;34m\u001b[0m\u001b[0m\n",
      "\u001b[0;32m/home/923643692/miniconda3/envs/ipyrad_2.7/lib/python2.7/site-packages/ipyrad/analysis/mrbayes.pyc\u001b[0m in \u001b[0;36m_call_mb\u001b[0;34m(command_list)\u001b[0m\n\u001b[1;32m    347\u001b[0m     \u001b[0mcomm\u001b[0m \u001b[0;34m=\u001b[0m \u001b[0mproc\u001b[0m\u001b[0;34m.\u001b[0m\u001b[0mcommunicate\u001b[0m\u001b[0;34m(\u001b[0m\u001b[0;34m)\u001b[0m\u001b[0;34m\u001b[0m\u001b[0m\n\u001b[1;32m    348\u001b[0m     \u001b[0;32mif\u001b[0m \u001b[0mproc\u001b[0m\u001b[0;34m.\u001b[0m\u001b[0mreturncode\u001b[0m\u001b[0;34m:\u001b[0m\u001b[0;34m\u001b[0m\u001b[0m\n\u001b[0;32m--> 349\u001b[0;31m         \u001b[0;32mraise\u001b[0m \u001b[0mIPyradError\u001b[0m\u001b[0;34m(\u001b[0m\u001b[0mcomm\u001b[0m\u001b[0;34m[\u001b[0m\u001b[0;36m0\u001b[0m\u001b[0;34m]\u001b[0m\u001b[0;34m.\u001b[0m\u001b[0mdecode\u001b[0m\u001b[0;34m(\u001b[0m\u001b[0;34m)\u001b[0m\u001b[0;34m)\u001b[0m\u001b[0;34m\u001b[0m\u001b[0m\n\u001b[0m\u001b[1;32m    350\u001b[0m     \u001b[0;32mreturn\u001b[0m \u001b[0mcomm\u001b[0m\u001b[0;34m[\u001b[0m\u001b[0;36m0\u001b[0m\u001b[0;34m]\u001b[0m\u001b[0;34m.\u001b[0m\u001b[0mdecode\u001b[0m\u001b[0;34m(\u001b[0m\u001b[0;34m)\u001b[0m\u001b[0;34m\u001b[0m\u001b[0m\n",
      "\u001b[0;31mIPyradError\u001b[0m: \n\n                            MrBayes 3.2.7 x86_64\n\n                      (Bayesian Analysis of Phylogeny)\n\n              Distributed under the GNU General Public License\n\n\n               Type \"help\" or \"help <command>\" for information\n                     on the commands that are available.\n\n                   Type \"about\" for authorship and general\n                       information about the program.\n\n\n\n   Maximum allowed length of file name is 99 characters. The given name:\n      '/home/923643692/cheno_pop_tests/06_phylos/analysis-mb/chenopodium_20250304b-tetraploid.indivmiss60.locimiss50.thin10.maf0.01.LD0.8-1000.no-CH-AR.min4.nexus.mrbayes.nex'\n   has 167 characters.\n   Error when setting parameter \"Filename\" (2)\n   Will exit with signal 1 (error) because quitonerror is set to yes\n   If you want control to be returned to the command line on error,\n   use 'mb -i <filename>' (i is for interactive) or use 'set quitonerror=no'\n\n"
     ]
    }
   ],
   "source": [
    "# init mrbayes object with input data and (optional) parameter options\n",
    "for file in os.listdir('../06_phylos/'):\n",
    "    if '.nexus' in file:\n",
    "        print('Loading data for ', file)\n",
    "        filename = os.basename(file)+\".mrbayes\" # uses the file basename (changing .nexus → .mrbayes)\n",
    "        !mv $file in_file \n",
    "        mb = ipa.mrbayes(\n",
    "            name       = 'out_file',\n",
    "            data       = in_file,\n",
    "            clock      = True,\n",
    "            ngen       = 5000000,\n",
    "            samplefreq =   10000,\n",
    "            printfreq  =    1000,\n",
    "            nruns=1,\n",
    "            )\n",
    "    print(\"MB nexus string for\", filename)\n",
    "    print(mb.nexus_string)\n",
    "    print('Running MB for ', filename)\n",
    "    mb.run(block=True, force=True)\n",
    "    print('MB run for ', filename, ' complete.')\n",
    "    mb.trees\n",
    "    mb.convergence_stats.round(3)\n",
    "    print('Drawing trees for ', filename)\n",
    "    tre = toytree.tree(mb.trees.constre, tree_format=10)\n",
    "    tre.draw(\n",
    "        tip_labels_align=True,\n",
    "        scalebar=True,\n",
    "        node_labels=\"support\",\n",
    "        )\n",
    "    # load from the .trees attribute or from the saved tree file\n",
    "    mtre = toytree.mtree(mb.trees.posttre)\n",
    "\n",
    "    # remove the burnin manually\n",
    "    mtre.treelist = mtre.treelist[10:]\n",
    "\n",
    "    # draw a few trees on a shared axis\n",
    "    mtre.draw_tree_grid(\n",
    "        nrows=1, ncols=4, start=20, shared_axis=True,\n",
    "        height=400,\n",
    "        )\n",
    "    mtre.treelist = [i.mod.node_scale_root_height(1.0) for i in mtre.treelist]\n",
    "    # draw the posterior of trees overlapping\n",
    "    mtre.draw_cloud_tree(\n",
    "        width=400, height=300,\n",
    "        html=True,\n",
    "        edge_colors=\"red\",\n",
    "        edge_style={\"stroke-opacity\": 0.02},\n",
    "        tip_labels={i: i.rsplit(\"_\", 1)[0] for i in mtre.treelist[0].get_tip_labels()},\n",
    "        )\n",
    "    #Saving trees\n",
    "    canvas, axes = mtre.draw_cloud_tree(\n",
    "        width=400, height=300,\n",
    "        html=True,\n",
    "        edge_colors=\"red\",\n",
    "        tip_labels={i: i.rsplit(\"_\", 1)[0] for i in mtre.treelist[0].get_tip_labels()}\n",
    "        )\n",
    "    toyplot.pdf.render(canvas, filename+'.pdf')"
   ]
  },
  {
   "cell_type": "code",
   "execution_count": 122,
   "metadata": {},
   "outputs": [
    {
     "ename": "IPyradError",
     "evalue": "\n\n                            MrBayes 3.2.7 x86_64\n\n                      (Bayesian Analysis of Phylogeny)\n\n              Distributed under the GNU General Public License\n\n\n               Type \"help\" or \"help <command>\" for information\n                     on the commands that are available.\n\n                   Type \"about\" for authorship and general\n                       information about the program.\n\n\n\n   Maximum allowed length of file name is 99 characters. The given name:\n      '/home/923643692/cheno_pop_tests/06_phylos/analysis-mb/chenopodium_20250304b-tetraploid.indivmiss60.locimiss50.thin10.maf0.01.LD0.8-1000.no-CH-AR.min4.nexus.mrbayes.nex'\n   has 167 characters.\n   Error when setting parameter \"Filename\" (2)\n   Will exit with signal 1 (error) because quitonerror is set to yes\n   If you want control to be returned to the command line on error,\n   use 'mb -i <filename>' (i is for interactive) or use 'set quitonerror=no'\n\n",
     "output_type": "error",
     "traceback": [
      "\u001b[0;31m---------------------------------------------------------------------------\u001b[0m",
      "\u001b[0;31mIPyradError\u001b[0m                               Traceback (most recent call last)",
      "\u001b[0;32m<ipython-input-122-051ff60fc4cb>\u001b[0m in \u001b[0;36m<module>\u001b[0;34m()\u001b[0m\n\u001b[1;32m     17\u001b[0m         \u001b[0;32mprint\u001b[0m\u001b[0;34m(\u001b[0m\u001b[0mmb\u001b[0m\u001b[0;34m.\u001b[0m\u001b[0mnexus_string\u001b[0m\u001b[0;34m)\u001b[0m\u001b[0;34m\u001b[0m\u001b[0m\n\u001b[1;32m     18\u001b[0m         \u001b[0;32mprint\u001b[0m\u001b[0;34m(\u001b[0m\u001b[0;34m'Running MB for '\u001b[0m\u001b[0;34m,\u001b[0m \u001b[0mfilename\u001b[0m\u001b[0;34m)\u001b[0m\u001b[0;34m\u001b[0m\u001b[0m\n\u001b[0;32m---> 19\u001b[0;31m     \u001b[0mmb\u001b[0m\u001b[0;34m.\u001b[0m\u001b[0mrun\u001b[0m\u001b[0;34m(\u001b[0m\u001b[0mblock\u001b[0m\u001b[0;34m=\u001b[0m\u001b[0mTrue\u001b[0m\u001b[0;34m,\u001b[0m \u001b[0mforce\u001b[0m\u001b[0;34m=\u001b[0m\u001b[0mTrue\u001b[0m\u001b[0;34m)\u001b[0m\u001b[0;34m\u001b[0m\u001b[0m\n\u001b[0m",
      "\u001b[0;32m/home/923643692/miniconda3/envs/ipyrad_2.7/lib/python2.7/site-packages/ipyrad/analysis/mrbayes.pyc\u001b[0m in \u001b[0;36mrun\u001b[0;34m(self, ipyclient, quiet, force, block)\u001b[0m\n\u001b[1;32m    282\u001b[0m         \u001b[0;31m# submit it\u001b[0m\u001b[0;34m\u001b[0m\u001b[0;34m\u001b[0m\u001b[0m\n\u001b[1;32m    283\u001b[0m         \u001b[0;32mif\u001b[0m \u001b[0;32mnot\u001b[0m \u001b[0mipyclient\u001b[0m\u001b[0;34m:\u001b[0m\u001b[0;34m\u001b[0m\u001b[0m\n\u001b[0;32m--> 284\u001b[0;31m             \u001b[0mself\u001b[0m\u001b[0;34m.\u001b[0m\u001b[0mstdout\u001b[0m \u001b[0;34m=\u001b[0m \u001b[0m_call_mb\u001b[0m\u001b[0;34m(\u001b[0m\u001b[0;34m[\u001b[0m\u001b[0mself\u001b[0m\u001b[0;34m.\u001b[0m\u001b[0mbinary\u001b[0m\u001b[0;34m,\u001b[0m \u001b[0mself\u001b[0m\u001b[0;34m.\u001b[0m\u001b[0mnexus\u001b[0m\u001b[0;34m]\u001b[0m\u001b[0;34m)\u001b[0m\u001b[0;34m\u001b[0m\u001b[0m\n\u001b[0m\u001b[1;32m    285\u001b[0m \u001b[0;34m\u001b[0m\u001b[0m\n\u001b[1;32m    286\u001b[0m         \u001b[0;32melse\u001b[0m\u001b[0;34m:\u001b[0m\u001b[0;34m\u001b[0m\u001b[0m\n",
      "\u001b[0;32m/home/923643692/miniconda3/envs/ipyrad_2.7/lib/python2.7/site-packages/ipyrad/analysis/mrbayes.pyc\u001b[0m in \u001b[0;36m_call_mb\u001b[0;34m(command_list)\u001b[0m\n\u001b[1;32m    347\u001b[0m     \u001b[0mcomm\u001b[0m \u001b[0;34m=\u001b[0m \u001b[0mproc\u001b[0m\u001b[0;34m.\u001b[0m\u001b[0mcommunicate\u001b[0m\u001b[0;34m(\u001b[0m\u001b[0;34m)\u001b[0m\u001b[0;34m\u001b[0m\u001b[0m\n\u001b[1;32m    348\u001b[0m     \u001b[0;32mif\u001b[0m \u001b[0mproc\u001b[0m\u001b[0;34m.\u001b[0m\u001b[0mreturncode\u001b[0m\u001b[0;34m:\u001b[0m\u001b[0;34m\u001b[0m\u001b[0m\n\u001b[0;32m--> 349\u001b[0;31m         \u001b[0;32mraise\u001b[0m \u001b[0mIPyradError\u001b[0m\u001b[0;34m(\u001b[0m\u001b[0mcomm\u001b[0m\u001b[0;34m[\u001b[0m\u001b[0;36m0\u001b[0m\u001b[0;34m]\u001b[0m\u001b[0;34m.\u001b[0m\u001b[0mdecode\u001b[0m\u001b[0;34m(\u001b[0m\u001b[0;34m)\u001b[0m\u001b[0;34m)\u001b[0m\u001b[0;34m\u001b[0m\u001b[0m\n\u001b[0m\u001b[1;32m    350\u001b[0m     \u001b[0;32mreturn\u001b[0m \u001b[0mcomm\u001b[0m\u001b[0;34m[\u001b[0m\u001b[0;36m0\u001b[0m\u001b[0;34m]\u001b[0m\u001b[0;34m.\u001b[0m\u001b[0mdecode\u001b[0m\u001b[0;34m(\u001b[0m\u001b[0;34m)\u001b[0m\u001b[0;34m\u001b[0m\u001b[0m\n",
      "\u001b[0;31mIPyradError\u001b[0m: \n\n                            MrBayes 3.2.7 x86_64\n\n                      (Bayesian Analysis of Phylogeny)\n\n              Distributed under the GNU General Public License\n\n\n               Type \"help\" or \"help <command>\" for information\n                     on the commands that are available.\n\n                   Type \"about\" for authorship and general\n                       information about the program.\n\n\n\n   Maximum allowed length of file name is 99 characters. The given name:\n      '/home/923643692/cheno_pop_tests/06_phylos/analysis-mb/chenopodium_20250304b-tetraploid.indivmiss60.locimiss50.thin10.maf0.01.LD0.8-1000.no-CH-AR.min4.nexus.mrbayes.nex'\n   has 167 characters.\n   Error when setting parameter \"Filename\" (2)\n   Will exit with signal 1 (error) because quitonerror is set to yes\n   If you want control to be returned to the command line on error,\n   use 'mb -i <filename>' (i is for interactive) or use 'set quitonerror=no'\n\n"
     ]
    }
   ],
   "source": [
    "# init mrbayes object with input data and (optional) parameter options\n",
    "for file in os.listdir('../06_phylos/'):\n",
    "    if '.nexus' in file:\n",
    "        print('Loading data for ', file)\n",
    "        filename = os.basename(file)+\".mrbayes\" # uses the file basename (changing .nexus → .mrbayes)\n",
    "        !mv $file in_file \n",
    "        mb = ipa.mrbayes(\n",
    "            name       = out,\n",
    "            data       = file,\n",
    "            clock      = True,\n",
    "            ngen       = 5000000,\n",
    "            samplefreq =   10000,\n",
    "            printfreq  =    1000,\n",
    "            nruns=1,\n",
    "            )\n",
    "        print(\"MB nexus string for\", filename)\n",
    "        print(mb.nexus_string)\n",
    "        print('Running MB for ', filename)\n",
    "    mb.run(block=True, force=True)"
   ]
  },
  {
   "cell_type": "code",
   "execution_count": null,
   "metadata": {},
   "outputs": [],
   "source": []
  },
  {
   "cell_type": "code",
   "execution_count": 72,
   "metadata": {},
   "outputs": [
    {
     "ename": "AttributeError",
     "evalue": "module 'toytree' has no attribute 'Toytree'",
     "output_type": "error",
     "traceback": [
      "\u001b[31m---------------------------------------------------------------------------\u001b[39m",
      "\u001b[31mAttributeError\u001b[39m                            Traceback (most recent call last)",
      "\u001b[36mCell\u001b[39m\u001b[36m \u001b[39m\u001b[32mIn[72]\u001b[39m\u001b[32m, line 2\u001b[39m\n\u001b[32m      1\u001b[39m \u001b[38;5;66;03m#filename = os.path.basename(file).replace(\".nexus\", \".mrbayes\") # uses the file basename (changing .nexus → .mrbayes\u001b[39;00m\n\u001b[32m----> \u001b[39m\u001b[32m2\u001b[39m mb = \u001b[43mipa\u001b[49m\u001b[43m.\u001b[49m\u001b[43mmrbayes\u001b[49m\u001b[43m(\u001b[49m\n\u001b[32m      3\u001b[39m \u001b[43m    \u001b[49m\u001b[38;5;66;43;03m#name       = \"test\",\u001b[39;49;00m\n\u001b[32m      4\u001b[39m \u001b[43m    \u001b[49m\u001b[43mdata\u001b[49m\u001b[43m       \u001b[49m\u001b[43m=\u001b[49m\u001b[43m \u001b[49m\u001b[43mfile\u001b[49m\u001b[43m,\u001b[49m\n\u001b[32m      5\u001b[39m \u001b[43m    \u001b[49m\u001b[38;5;66;43;03m#clock      = True,\u001b[39;49;00m\n\u001b[32m      6\u001b[39m \u001b[43m    \u001b[49m\u001b[38;5;66;43;03m#ngen       = 5000000,\u001b[39;49;00m\n\u001b[32m      7\u001b[39m \u001b[43m    \u001b[49m\u001b[43msamplefreq\u001b[49m\u001b[43m \u001b[49m\u001b[43m=\u001b[49m\u001b[43m   \u001b[49m\u001b[32;43m10000\u001b[39;49m\u001b[43m,\u001b[49m\n\u001b[32m      8\u001b[39m \u001b[43m    \u001b[49m\u001b[43mprintfreq\u001b[49m\u001b[43m  \u001b[49m\u001b[43m=\u001b[49m\u001b[43m    \u001b[49m\u001b[32;43m1000\u001b[39;49m\u001b[43m,\u001b[49m\n\u001b[32m      9\u001b[39m \u001b[43m    \u001b[49m\u001b[43mnruns\u001b[49m\u001b[43m=\u001b[49m\u001b[32;43m1\u001b[39;49m\u001b[43m,\u001b[49m\n\u001b[32m     10\u001b[39m \u001b[43m    \u001b[49m\u001b[43m)\u001b[49m\n",
      "\u001b[36mFile \u001b[39m\u001b[32m~/miniconda3/lib/python3.11/site-packages/ipyrad/analysis/mrbayes.py:258\u001b[39m, in \u001b[36mMrBayes.__init__\u001b[39m\u001b[34m(self, data, name, workdir, clock_model, constraints, **kwargs)\u001b[39m\n\u001b[32m    254\u001b[39m \u001b[38;5;28mself\u001b[39m.trees.posttre = os.path.join(\n\u001b[32m    255\u001b[39m     \u001b[38;5;28mself\u001b[39m.workdir, \u001b[33m\"\u001b[39m\u001b[38;5;132;01m{}\u001b[39;00m\u001b[33m.nex.\u001b[39m\u001b[38;5;132;01m{}\u001b[39;00m\u001b[33mt\u001b[39m\u001b[33m\"\u001b[39m.format(\u001b[38;5;28mself\u001b[39m.name, runs))\n\u001b[32m    256\u001b[39m \u001b[38;5;28mself\u001b[39m.trees.pstat = os.path.join(\n\u001b[32m    257\u001b[39m     \u001b[38;5;28mself\u001b[39m.workdir, \u001b[33m\"\u001b[39m\u001b[38;5;132;01m{}\u001b[39;00m\u001b[33m.nex.pstat\u001b[39m\u001b[33m\"\u001b[39m.format(\u001b[38;5;28mself\u001b[39m.name))\n\u001b[32m--> \u001b[39m\u001b[32m258\u001b[39m \u001b[38;5;28;43mself\u001b[39;49m\u001b[43m.\u001b[49m\u001b[43m_write_nexus_file\u001b[49m\u001b[43m(\u001b[49m\u001b[43m)\u001b[49m\n\u001b[32m    260\u001b[39m \u001b[38;5;66;03m# check attribute for existing results at this name.\u001b[39;00m\n\u001b[32m    261\u001b[39m \u001b[38;5;28;01mif\u001b[39;00m \u001b[38;5;28mself\u001b[39m.result_files:\n",
      "\u001b[36mFile \u001b[39m\u001b[32m~/miniconda3/lib/python3.11/site-packages/ipyrad/analysis/mrbayes.py:280\u001b[39m, in \u001b[36mMrBayes._write_nexus_file\u001b[39m\u001b[34m(self, write)\u001b[39m\n\u001b[32m    277\u001b[39m cwargs[\u001b[33m\"\u001b[39m\u001b[33moutname\u001b[39m\u001b[33m\"\u001b[39m] = \u001b[38;5;28mself\u001b[39m.nexus\n\u001b[32m    279\u001b[39m \u001b[38;5;66;03m# is the tree topology fixed?\u001b[39;00m\n\u001b[32m--> \u001b[39m\u001b[32m280\u001b[39m \u001b[38;5;28;01mif\u001b[39;00m \u001b[38;5;28misinstance\u001b[39m(\u001b[38;5;28mself\u001b[39m.constraints, \u001b[43mtoytree\u001b[49m\u001b[43m.\u001b[49m\u001b[43mToytree\u001b[49m.ToyTree):\n\u001b[32m    281\u001b[39m     \u001b[38;5;28mself\u001b[39m._fixed_tree()\n\u001b[32m    282\u001b[39m     cwargs[\u001b[33m\"\u001b[39m\u001b[33mtreeblock\u001b[39m\u001b[33m\"\u001b[39m] = \u001b[38;5;28mself\u001b[39m.treeblock\n",
      "\u001b[31mAttributeError\u001b[39m: module 'toytree' has no attribute 'Toytree'"
     ]
    }
   ],
   "source": [
    "#filename = os.path.basename(file).replace(\".nexus\", \".mrbayes\") # uses the file basename (changing .nexus → .mrbayes\n",
    "mb = ipa.mrbayes(\n",
    "    #name       = \"test\",\n",
    "    data       = file,\n",
    "    #clock      = True,\n",
    "    #ngen       = 5000000,\n",
    "    samplefreq =   10000,\n",
    "    printfreq  =    1000,\n",
    "    nruns=1,\n",
    "    )"
   ]
  }
 ],
 "metadata": {
  "kernelspec": {
   "display_name": "Python 2",
   "language": "python",
   "name": "python2"
  },
  "language_info": {
   "codemirror_mode": {
    "name": "ipython",
    "version": 2
   },
   "file_extension": ".py",
   "mimetype": "text/x-python",
   "name": "python",
   "nbconvert_exporter": "python",
   "pygments_lexer": "ipython2",
   "version": "2.7.18"
  }
 },
 "nbformat": 4,
 "nbformat_minor": 5
}
