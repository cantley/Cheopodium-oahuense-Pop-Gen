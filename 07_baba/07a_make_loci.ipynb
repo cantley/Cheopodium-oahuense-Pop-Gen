{
 "cells": [
  {
   "cell_type": "code",
   "execution_count": 30,
   "id": "4231a343",
   "metadata": {},
   "outputs": [],
   "source": [
    "# adds a loci directory to the data folder (not here, as it will probably be useful later)\n",
    "!mkdir -p ../00_data/loci"
   ]
  },
  {
   "cell_type": "code",
   "execution_count": 31,
   "id": "528d38ce",
   "metadata": {
    "collapsed": true,
    "jupyter": {
     "outputs_hidden": true
    }
   },
   "outputs": [
    {
     "name": "stdout",
     "output_type": "stream",
     "text": [
      "ipyrad 0.9.105\n",
      "toyplot 2.0.0\n",
      "toytree 3.0.10\n",
      "MrBayes, Bayesian Analysis of Phylogeny\n",
      "\n",
      "Version:   3.2.7\n",
      "Features:  SSE AVX FMA Beagle readline\n",
      "Host type: x86_64-conda-linux-gnu (CPU: x86_64)\n",
      "Compiler:  gnu 10.3.0\n",
      "Requirement already satisfied: rpy2 in /home/923643692/miniconda3/lib/python3.11/site-packages (3.6.1)\n",
      "Requirement already satisfied: rpy2-rinterface>=3.6.1 in /home/923643692/miniconda3/lib/python3.11/site-packages (from rpy2) (3.6.1)\n",
      "Requirement already satisfied: rpy2-robjects>=3.6.1 in /home/923643692/miniconda3/lib/python3.11/site-packages (from rpy2) (3.6.1)\n",
      "Requirement already satisfied: cffi>=1.15.1 in /home/923643692/miniconda3/lib/python3.11/site-packages (from rpy2-rinterface>=3.6.1->rpy2) (1.17.1)\n",
      "Requirement already satisfied: pycparser in /home/923643692/miniconda3/lib/python3.11/site-packages (from cffi>=1.15.1->rpy2-rinterface>=3.6.1->rpy2) (2.22)\n",
      "Requirement already satisfied: jinja2 in /home/923643692/miniconda3/lib/python3.11/site-packages (from rpy2-robjects>=3.6.1->rpy2) (3.1.6)\n",
      "Requirement already satisfied: tzlocal in /home/923643692/miniconda3/lib/python3.11/site-packages (from rpy2-robjects>=3.6.1->rpy2) (5.3.1)\n",
      "Requirement already satisfied: MarkupSafe>=2.0 in /home/923643692/miniconda3/lib/python3.11/site-packages (from jinja2->rpy2-robjects>=3.6.1->rpy2) (3.0.2)\n",
      "The rpy2.ipython extension is already loaded. To reload it, use:\n",
      "  %reload_ext rpy2.ipython\n"
     ]
    }
   ],
   "source": [
    "import ipyrad.analysis as ipa\n",
    "import ipyparallel as ipp\n",
    "import toytree\n",
    "import toyplot\n",
    "import rpy2.robjects as robjects\n",
    "import os\n",
    "\n",
    "print ('ipyrad', ipa.__version__)\n",
    "print ('toyplot', toyplot.__version__)\n",
    "print ('toytree', toytree.__version__)\n",
    "! mb -v\n",
    "\n",
    "# installs rpy2, which uses the power of the Dark Side to let us run R alongside Python in a Jupyter notebook.\n",
    "!pip install rpy2\n",
    "%load_ext rpy2.ipython"
   ]
  },
  {
   "cell_type": "code",
   "execution_count": 61,
   "id": "05175022",
   "metadata": {
    "scrolled": true
   },
   "outputs": [
    {
     "name": "stderr",
     "output_type": "stream",
     "text": [
      "* installing *source* package ‘vcfR’ ...\n",
      "** package ‘vcfR’ successfully unpacked and MD5 sums checked\n",
      "** using staged installation\n",
      "** libs\n",
      "using C++ compiler: ‘x86_64-conda-linux-gnu-c++ (conda-forge gcc 11.2.0-16) 11.2.0’\n"
     ]
    },
    {
     "name": "stdout",
     "output_type": "stream",
     "text": [
      "x86_64-conda-linux-gnu-c++ -std=gnu++17 -I\"/home/923643692/miniconda3/lib/R/include\" -DNDEBUG  -I'/home/923643692/miniconda3/lib/R/library/Rcpp/include' -DNDEBUG -D_FORTIFY_SOURCE=2 -O2 -isystem /home/923643692/miniconda3/include -I/home/923643692/miniconda3/include -Wl,-rpath-link,/home/923643692/miniconda3/lib    -fpic  -fvisibility-inlines-hidden  -fmessage-length=0 -march=nocona -mtune=haswell -ftree-vectorize -fPIC -fstack-protector-strong -fno-plt -O2 -ffunction-sections -pipe -isystem /home/923643692/miniconda3/include -fdebug-prefix-map=/workspace/croot/r-base_1695428141831/work=/usr/local/src/conda/r-base-4.3.1 -fdebug-prefix-map=/home/923643692/miniconda3=/usr/local/src/conda-prefix  -c NM2winNM.cpp -o NM2winNM.o\n",
      "x86_64-conda-linux-gnu-c++ -std=gnu++17 -I\"/home/923643692/miniconda3/lib/R/include\" -DNDEBUG  -I'/home/923643692/miniconda3/lib/R/library/Rcpp/include' -DNDEBUG -D_FORTIFY_SOURCE=2 -O2 -isystem /home/923643692/miniconda3/include -I/home/923643692/miniconda3/include -Wl,-rpath-link,/home/923643692/miniconda3/lib    -fpic  -fvisibility-inlines-hidden  -fmessage-length=0 -march=nocona -mtune=haswell -ftree-vectorize -fPIC -fstack-protector-strong -fno-plt -O2 -ffunction-sections -pipe -isystem /home/923643692/miniconda3/include -fdebug-prefix-map=/workspace/croot/r-base_1695428141831/work=/usr/local/src/conda/r-base-4.3.1 -fdebug-prefix-map=/home/923643692/miniconda3=/usr/local/src/conda-prefix  -c RcppExports.cpp -o RcppExports.o\n",
      "x86_64-conda-linux-gnu-c++ -std=gnu++17 -I\"/home/923643692/miniconda3/lib/R/include\" -DNDEBUG  -I'/home/923643692/miniconda3/lib/R/library/Rcpp/include' -DNDEBUG -D_FORTIFY_SOURCE=2 -O2 -isystem /home/923643692/miniconda3/include -I/home/923643692/miniconda3/include -Wl,-rpath-link,/home/923643692/miniconda3/lib    -fpic  -fvisibility-inlines-hidden  -fmessage-length=0 -march=nocona -mtune=haswell -ftree-vectorize -fPIC -fstack-protector-strong -fno-plt -O2 -ffunction-sections -pipe -isystem /home/923643692/miniconda3/include -fdebug-prefix-map=/workspace/croot/r-base_1695428141831/work=/usr/local/src/conda/r-base-4.3.1 -fdebug-prefix-map=/home/923643692/miniconda3=/usr/local/src/conda-prefix  -c ad_frequency.cpp -o ad_frequency.o\n",
      "x86_64-conda-linux-gnu-c++ -std=gnu++17 -I\"/home/923643692/miniconda3/lib/R/include\" -DNDEBUG  -I'/home/923643692/miniconda3/lib/R/library/Rcpp/include' -DNDEBUG -D_FORTIFY_SOURCE=2 -O2 -isystem /home/923643692/miniconda3/include -I/home/923643692/miniconda3/include -Wl,-rpath-link,/home/923643692/miniconda3/lib    -fpic  -fvisibility-inlines-hidden  -fmessage-length=0 -march=nocona -mtune=haswell -ftree-vectorize -fPIC -fstack-protector-strong -fno-plt -O2 -ffunction-sections -pipe -isystem /home/923643692/miniconda3/include -fdebug-prefix-map=/workspace/croot/r-base_1695428141831/work=/usr/local/src/conda/r-base-4.3.1 -fdebug-prefix-map=/home/923643692/miniconda3=/usr/local/src/conda-prefix  -c deprecated_funcs.cpp -o deprecated_funcs.o\n",
      "x86_64-conda-linux-gnu-c++ -std=gnu++17 -I\"/home/923643692/miniconda3/lib/R/include\" -DNDEBUG  -I'/home/923643692/miniconda3/lib/R/library/Rcpp/include' -DNDEBUG -D_FORTIFY_SOURCE=2 -O2 -isystem /home/923643692/miniconda3/include -I/home/923643692/miniconda3/include -Wl,-rpath-link,/home/923643692/miniconda3/lib    -fpic  -fvisibility-inlines-hidden  -fmessage-length=0 -march=nocona -mtune=haswell -ftree-vectorize -fPIC -fstack-protector-strong -fno-plt -O2 -ffunction-sections -pipe -isystem /home/923643692/miniconda3/include -fdebug-prefix-map=/workspace/croot/r-base_1695428141831/work=/usr/local/src/conda/r-base-4.3.1 -fdebug-prefix-map=/home/923643692/miniconda3=/usr/local/src/conda-prefix  -c extract_gt.cpp -o extract_gt.o\n",
      "x86_64-conda-linux-gnu-c++ -std=gnu++17 -I\"/home/923643692/miniconda3/lib/R/include\" -DNDEBUG  -I'/home/923643692/miniconda3/lib/R/library/Rcpp/include' -DNDEBUG -D_FORTIFY_SOURCE=2 -O2 -isystem /home/923643692/miniconda3/include -I/home/923643692/miniconda3/include -Wl,-rpath-link,/home/923643692/miniconda3/lib    -fpic  -fvisibility-inlines-hidden  -fmessage-length=0 -march=nocona -mtune=haswell -ftree-vectorize -fPIC -fstack-protector-strong -fno-plt -O2 -ffunction-sections -pipe -isystem /home/923643692/miniconda3/include -fdebug-prefix-map=/workspace/croot/r-base_1695428141831/work=/usr/local/src/conda/r-base-4.3.1 -fdebug-prefix-map=/home/923643692/miniconda3=/usr/local/src/conda-prefix  -c freq_peak.cpp -o freq_peak.o\n",
      "x86_64-conda-linux-gnu-c++ -std=gnu++17 -I\"/home/923643692/miniconda3/lib/R/include\" -DNDEBUG  -I'/home/923643692/miniconda3/lib/R/library/Rcpp/include' -DNDEBUG -D_FORTIFY_SOURCE=2 -O2 -isystem /home/923643692/miniconda3/include -I/home/923643692/miniconda3/include -Wl,-rpath-link,/home/923643692/miniconda3/lib    -fpic  -fvisibility-inlines-hidden  -fmessage-length=0 -march=nocona -mtune=haswell -ftree-vectorize -fPIC -fstack-protector-strong -fno-plt -O2 -ffunction-sections -pipe -isystem /home/923643692/miniconda3/include -fdebug-prefix-map=/workspace/croot/r-base_1695428141831/work=/usr/local/src/conda/r-base-4.3.1 -fdebug-prefix-map=/home/923643692/miniconda3=/usr/local/src/conda-prefix  -c gt_to_popsum.cpp -o gt_to_popsum.o\n",
      "x86_64-conda-linux-gnu-c++ -std=gnu++17 -I\"/home/923643692/miniconda3/lib/R/include\" -DNDEBUG  -I'/home/923643692/miniconda3/lib/R/library/Rcpp/include' -DNDEBUG -D_FORTIFY_SOURCE=2 -O2 -isystem /home/923643692/miniconda3/include -I/home/923643692/miniconda3/include -Wl,-rpath-link,/home/923643692/miniconda3/lib    -fpic  -fvisibility-inlines-hidden  -fmessage-length=0 -march=nocona -mtune=haswell -ftree-vectorize -fPIC -fstack-protector-strong -fno-plt -O2 -ffunction-sections -pipe -isystem /home/923643692/miniconda3/include -fdebug-prefix-map=/workspace/croot/r-base_1695428141831/work=/usr/local/src/conda/r-base-4.3.1 -fdebug-prefix-map=/home/923643692/miniconda3=/usr/local/src/conda-prefix  -c is_het.cpp -o is_het.o\n",
      "x86_64-conda-linux-gnu-c++ -std=gnu++17 -I\"/home/923643692/miniconda3/lib/R/include\" -DNDEBUG  -I'/home/923643692/miniconda3/lib/R/library/Rcpp/include' -DNDEBUG -D_FORTIFY_SOURCE=2 -O2 -isystem /home/923643692/miniconda3/include -I/home/923643692/miniconda3/include -Wl,-rpath-link,/home/923643692/miniconda3/lib    -fpic  -fvisibility-inlines-hidden  -fmessage-length=0 -march=nocona -mtune=haswell -ftree-vectorize -fPIC -fstack-protector-strong -fno-plt -O2 -ffunction-sections -pipe -isystem /home/923643692/miniconda3/include -fdebug-prefix-map=/workspace/croot/r-base_1695428141831/work=/usr/local/src/conda/r-base-4.3.1 -fdebug-prefix-map=/home/923643692/miniconda3=/usr/local/src/conda-prefix  -c masplit.cpp -o masplit.o\n",
      "x86_64-conda-linux-gnu-c++ -std=gnu++17 -I\"/home/923643692/miniconda3/lib/R/include\" -DNDEBUG  -I'/home/923643692/miniconda3/lib/R/library/Rcpp/include' -DNDEBUG -D_FORTIFY_SOURCE=2 -O2 -isystem /home/923643692/miniconda3/include -I/home/923643692/miniconda3/include -Wl,-rpath-link,/home/923643692/miniconda3/lib    -fpic  -fvisibility-inlines-hidden  -fmessage-length=0 -march=nocona -mtune=haswell -ftree-vectorize -fPIC -fstack-protector-strong -fno-plt -O2 -ffunction-sections -pipe -isystem /home/923643692/miniconda3/include -fdebug-prefix-map=/workspace/croot/r-base_1695428141831/work=/usr/local/src/conda/r-base-4.3.1 -fdebug-prefix-map=/home/923643692/miniconda3=/usr/local/src/conda-prefix  -c pair_sort.cpp -o pair_sort.o\n",
      "x86_64-conda-linux-gnu-c++ -std=gnu++17 -I\"/home/923643692/miniconda3/lib/R/include\" -DNDEBUG  -I'/home/923643692/miniconda3/lib/R/library/Rcpp/include' -DNDEBUG -D_FORTIFY_SOURCE=2 -O2 -isystem /home/923643692/miniconda3/include -I/home/923643692/miniconda3/include -Wl,-rpath-link,/home/923643692/miniconda3/lib    -fpic  -fvisibility-inlines-hidden  -fmessage-length=0 -march=nocona -mtune=haswell -ftree-vectorize -fPIC -fstack-protector-strong -fno-plt -O2 -ffunction-sections -pipe -isystem /home/923643692/miniconda3/include -fdebug-prefix-map=/workspace/croot/r-base_1695428141831/work=/usr/local/src/conda/r-base-4.3.1 -fdebug-prefix-map=/home/923643692/miniconda3=/usr/local/src/conda-prefix  -c rank_variants.cpp -o rank_variants.o\n",
      "x86_64-conda-linux-gnu-c++ -std=gnu++17 -I\"/home/923643692/miniconda3/lib/R/include\" -DNDEBUG  -I'/home/923643692/miniconda3/lib/R/library/Rcpp/include' -DNDEBUG -D_FORTIFY_SOURCE=2 -O2 -isystem /home/923643692/miniconda3/include -I/home/923643692/miniconda3/include -Wl,-rpath-link,/home/923643692/miniconda3/lib    -fpic  -fvisibility-inlines-hidden  -fmessage-length=0 -march=nocona -mtune=haswell -ftree-vectorize -fPIC -fstack-protector-strong -fno-plt -O2 -ffunction-sections -pipe -isystem /home/923643692/miniconda3/include -fdebug-prefix-map=/workspace/croot/r-base_1695428141831/work=/usr/local/src/conda/r-base-4.3.1 -fdebug-prefix-map=/home/923643692/miniconda3=/usr/local/src/conda-prefix  -c read_vcfR.cpp -o read_vcfR.o\n",
      "x86_64-conda-linux-gnu-c++ -std=gnu++17 -I\"/home/923643692/miniconda3/lib/R/include\" -DNDEBUG  -I'/home/923643692/miniconda3/lib/R/library/Rcpp/include' -DNDEBUG -D_FORTIFY_SOURCE=2 -O2 -isystem /home/923643692/miniconda3/include -I/home/923643692/miniconda3/include -Wl,-rpath-link,/home/923643692/miniconda3/lib    -fpic  -fvisibility-inlines-hidden  -fmessage-length=0 -march=nocona -mtune=haswell -ftree-vectorize -fPIC -fstack-protector-strong -fno-plt -O2 -ffunction-sections -pipe -isystem /home/923643692/miniconda3/include -fdebug-prefix-map=/workspace/croot/r-base_1695428141831/work=/usr/local/src/conda/r-base-4.3.1 -fdebug-prefix-map=/home/923643692/miniconda3=/usr/local/src/conda-prefix  -c seq_to_rects.cpp -o seq_to_rects.o\n",
      "x86_64-conda-linux-gnu-c++ -std=gnu++17 -I\"/home/923643692/miniconda3/lib/R/include\" -DNDEBUG  -I'/home/923643692/miniconda3/lib/R/library/Rcpp/include' -DNDEBUG -D_FORTIFY_SOURCE=2 -O2 -isystem /home/923643692/miniconda3/include -I/home/923643692/miniconda3/include -Wl,-rpath-link,/home/923643692/miniconda3/lib    -fpic  -fvisibility-inlines-hidden  -fmessage-length=0 -march=nocona -mtune=haswell -ftree-vectorize -fPIC -fstack-protector-strong -fno-plt -O2 -ffunction-sections -pipe -isystem /home/923643692/miniconda3/include -fdebug-prefix-map=/workspace/croot/r-base_1695428141831/work=/usr/local/src/conda/r-base-4.3.1 -fdebug-prefix-map=/home/923643692/miniconda3=/usr/local/src/conda-prefix  -c var_window.cpp -o var_window.o\n",
      "x86_64-conda-linux-gnu-c++ -std=gnu++17 -I\"/home/923643692/miniconda3/lib/R/include\" -DNDEBUG  -I'/home/923643692/miniconda3/lib/R/library/Rcpp/include' -DNDEBUG -D_FORTIFY_SOURCE=2 -O2 -isystem /home/923643692/miniconda3/include -I/home/923643692/miniconda3/include -Wl,-rpath-link,/home/923643692/miniconda3/lib    -fpic  -fvisibility-inlines-hidden  -fmessage-length=0 -march=nocona -mtune=haswell -ftree-vectorize -fPIC -fstack-protector-strong -fno-plt -O2 -ffunction-sections -pipe -isystem /home/923643692/miniconda3/include -fdebug-prefix-map=/workspace/croot/r-base_1695428141831/work=/usr/local/src/conda/r-base-4.3.1 -fdebug-prefix-map=/home/923643692/miniconda3=/usr/local/src/conda-prefix  -c vcfRCommon.cpp -o vcfRCommon.o\n",
      "x86_64-conda-linux-gnu-c++ -std=gnu++17 -I\"/home/923643692/miniconda3/lib/R/include\" -DNDEBUG  -I'/home/923643692/miniconda3/lib/R/library/Rcpp/include' -DNDEBUG -D_FORTIFY_SOURCE=2 -O2 -isystem /home/923643692/miniconda3/include -I/home/923643692/miniconda3/include -Wl,-rpath-link,/home/923643692/miniconda3/lib    -fpic  -fvisibility-inlines-hidden  -fmessage-length=0 -march=nocona -mtune=haswell -ftree-vectorize -fPIC -fstack-protector-strong -fno-plt -O2 -ffunction-sections -pipe -isystem /home/923643692/miniconda3/include -fdebug-prefix-map=/workspace/croot/r-base_1695428141831/work=/usr/local/src/conda/r-base-4.3.1 -fdebug-prefix-map=/home/923643692/miniconda3=/usr/local/src/conda-prefix  -c write_vcfR.cpp -o write_vcfR.o\n",
      "x86_64-conda-linux-gnu-c++ -std=gnu++17 -shared -L/home/923643692/miniconda3/lib/R/lib -Wl,-O2 -Wl,--sort-common -Wl,--as-needed -Wl,-z,relro -Wl,-z,now -Wl,--disable-new-dtags -Wl,--gc-sections -Wl,-rpath,/home/923643692/miniconda3/lib -Wl,-rpath-link,/home/923643692/miniconda3/lib -L/home/923643692/miniconda3/lib -o vcfR.so NM2winNM.o RcppExports.o ad_frequency.o deprecated_funcs.o extract_gt.o freq_peak.o gt_to_popsum.o is_het.o masplit.o pair_sort.o rank_variants.o read_vcfR.o seq_to_rects.o var_window.o vcfRCommon.o write_vcfR.o -lz -L/home/923643692/miniconda3/lib/R/lib -lR\n"
     ]
    },
    {
     "name": "stderr",
     "output_type": "stream",
     "text": [
      "installing to /home/923643692/miniconda3/lib/R/library/00LOCK-vcfR/00new/vcfR/libs\n",
      "** R\n",
      "** data\n",
      "** inst\n",
      "** byte-compile and prepare package for lazy loading\n"
     ]
    },
    {
     "name": "stdout",
     "output_type": "stream",
     "text": [
      "Creating a generic function for ‘rbind’ from package ‘base’ in package ‘vcfR’\n",
      "Creating a generic function for ‘nrow’ from package ‘base’ in package ‘vcfR’\n"
     ]
    },
    {
     "name": "stderr",
     "output_type": "stream",
     "text": [
      "** help\n",
      "*** installing help indices\n",
      "** building package indices\n",
      "** installing vignettes\n",
      "** testing if installed package can be loaded from temporary location\n",
      "** checking absolute paths in shared objects and dynamic libraries\n",
      "** testing if installed package can be loaded from final location\n",
      "** testing if installed package keeps a record of temporary installation path\n",
      "* DONE (vcfR)\n"
     ]
    },
    {
     "name": "stdout",
     "output_type": "stream",
     "text": [
      "trying URL 'https://mirror.chpc.utah.edu/pub/cran/src/contrib/vcfR_1.15.0.tar.gz'\n",
      "Content type 'application/x-gzip' length 1457748 bytes (1.4 MB)\n",
      "==================================================\n",
      "downloaded 1.4 MB\n",
      "\n",
      "\n",
      "The downloaded source packages are in\n",
      "\t‘/tmp/RtmpXM4Bjl/downloaded_packages’\n",
      "Updating HTML index of packages in '.Library'\n",
      "Making 'packages.html' ... done\n",
      "Error in library(Rsamtools) : there is no package called ‘Rsamtools’\n",
      "In addition: Warning message:\n",
      "package ‘Rsamtools’ is not available for this version of R\n",
      "\n",
      "A version of this package for your version of R might be available elsewhere,\n",
      "see the ideas at\n",
      "https://cran.r-project.org/doc/manuals/r-patched/R-admin.html#Installing-packages\n",
      "Error in library(Rsamtools) : there is no package called ‘Rsamtools’\n"
     ]
    },
    {
     "ename": "RInterpreterError",
     "evalue": "Failed to parse and evaluate line '#import vcfR to change the filtered VCF to a LOCI object\\ninstall.packages(\"vcfR\")\\nlibrary(vcfR)\\ninstall.packages(\"Rsamtools\")\\nlibrary(Rsamtools)\\ninstall.packages(\"pegas\")\\nlibrary(pegas)\\n'.\nR error message: 'Error in library(Rsamtools) : there is no package called ‘Rsamtools’'\nR stdout:\ntrying URL 'https://mirror.chpc.utah.edu/pub/cran/src/contrib/vcfR_1.15.0.tar.gz'\nContent type 'application/x-gzip' length 1457748 bytes (1.4 MB)\n==================================================\ndownloaded 1.4 MB\n\n\nThe downloaded source packages are in\n\t‘/tmp/RtmpXM4Bjl/downloaded_packages’\nUpdating HTML index of packages in '.Library'\nMaking 'packages.html' ... done\nError in library(Rsamtools) : there is no package called ‘Rsamtools’\nIn addition: Warning message:\npackage ‘Rsamtools’ is not available for this version of R\n\nA version of this package for your version of R might be available elsewhere,\nsee the ideas at\nhttps://cran.r-project.org/doc/manuals/r-patched/R-admin.html#Installing-packages",
     "output_type": "error",
     "traceback": [
      "\u001b[31m---------------------------------------------------------------------------\u001b[39m",
      "\u001b[31mRRuntimeError\u001b[39m                             Traceback (most recent call last)",
      "\u001b[36mFile \u001b[39m\u001b[32m~/miniconda3/lib/python3.11/site-packages/rpy2/ipython/rmagic.py:768\u001b[39m, in \u001b[36mRMagics.eval\u001b[39m\u001b[34m(self, code)\u001b[39m\n\u001b[32m    767\u001b[39m     r_expr = ri.parse(code)\n\u001b[32m--> \u001b[39m\u001b[32m768\u001b[39m     value, visible = \u001b[43mri\u001b[49m\u001b[43m.\u001b[49m\u001b[43mevalr_expr_with_visible\u001b[49m\u001b[43m(\u001b[49m\n\u001b[32m    769\u001b[39m \u001b[43m        \u001b[49m\u001b[43mr_expr\u001b[49m\n\u001b[32m    770\u001b[39m \u001b[43m    \u001b[49m\u001b[43m)\u001b[49m\n\u001b[32m    771\u001b[39m \u001b[38;5;28;01mexcept\u001b[39;00m (ri.embedded.RRuntimeError, \u001b[38;5;167;01mValueError\u001b[39;00m) \u001b[38;5;28;01mas\u001b[39;00m exception:\n\u001b[32m    772\u001b[39m     \u001b[38;5;66;03m# Otherwise next return seems to have copy of error.\u001b[39;00m\n",
      "\u001b[36mFile \u001b[39m\u001b[32m~/miniconda3/lib/python3.11/site-packages/rpy2/rinterface/__init__.py:192\u001b[39m, in \u001b[36mevalr_expr_with_visible\u001b[39m\u001b[34m(expr, envir)\u001b[39m\n\u001b[32m    191\u001b[39m \u001b[38;5;28;01mif\u001b[39;00m error_occured[\u001b[32m0\u001b[39m]:\n\u001b[32m--> \u001b[39m\u001b[32m192\u001b[39m     \u001b[38;5;28;01mraise\u001b[39;00m embedded.RRuntimeError(_rinterface._geterrmessage())\n\u001b[32m    193\u001b[39m res = conversion._cdata_to_rinterface(r_res)\n",
      "\u001b[31mRRuntimeError\u001b[39m: Error in library(Rsamtools) : there is no package called ‘Rsamtools’\n",
      "\nDuring handling of the above exception, another exception occurred:\n",
      "\u001b[31mRInterpreterError\u001b[39m                         Traceback (most recent call last)",
      "\u001b[36mCell\u001b[39m\u001b[36m \u001b[39m\u001b[32mIn[61]\u001b[39m\u001b[32m, line 1\u001b[39m\n\u001b[32m----> \u001b[39m\u001b[32m1\u001b[39m \u001b[43mget_ipython\u001b[49m\u001b[43m(\u001b[49m\u001b[43m)\u001b[49m\u001b[43m.\u001b[49m\u001b[43mrun_cell_magic\u001b[49m\u001b[43m(\u001b[49m\u001b[33;43m'\u001b[39;49m\u001b[33;43mR\u001b[39;49m\u001b[33;43m'\u001b[39;49m\u001b[43m,\u001b[49m\u001b[43m \u001b[49m\u001b[33;43m'\u001b[39;49m\u001b[33;43m'\u001b[39;49m\u001b[43m,\u001b[49m\u001b[43m \u001b[49m\u001b[33;43m'\u001b[39;49m\u001b[33;43m#import vcfR to change the filtered VCF to a LOCI object\u001b[39;49m\u001b[38;5;130;43;01m\\n\u001b[39;49;00m\u001b[33;43minstall.packages(\u001b[39;49m\u001b[33;43m\"\u001b[39;49m\u001b[33;43mvcfR\u001b[39;49m\u001b[33;43m\"\u001b[39;49m\u001b[33;43m)\u001b[39;49m\u001b[38;5;130;43;01m\\n\u001b[39;49;00m\u001b[33;43mlibrary(vcfR)\u001b[39;49m\u001b[38;5;130;43;01m\\n\u001b[39;49;00m\u001b[33;43minstall.packages(\u001b[39;49m\u001b[33;43m\"\u001b[39;49m\u001b[33;43mRsamtools\u001b[39;49m\u001b[33;43m\"\u001b[39;49m\u001b[33;43m)\u001b[39;49m\u001b[38;5;130;43;01m\\n\u001b[39;49;00m\u001b[33;43mlibrary(Rsamtools)\u001b[39;49m\u001b[38;5;130;43;01m\\n\u001b[39;49;00m\u001b[33;43minstall.packages(\u001b[39;49m\u001b[33;43m\"\u001b[39;49m\u001b[33;43mpegas\u001b[39;49m\u001b[33;43m\"\u001b[39;49m\u001b[33;43m)\u001b[39;49m\u001b[38;5;130;43;01m\\n\u001b[39;49;00m\u001b[33;43mlibrary(pegas)\u001b[39;49m\u001b[38;5;130;43;01m\\n\u001b[39;49;00m\u001b[33;43m'\u001b[39;49m\u001b[43m)\u001b[49m\n",
      "\u001b[36mFile \u001b[39m\u001b[32m~/miniconda3/lib/python3.11/site-packages/IPython/core/interactiveshell.py:2565\u001b[39m, in \u001b[36mInteractiveShell.run_cell_magic\u001b[39m\u001b[34m(self, magic_name, line, cell)\u001b[39m\n\u001b[32m   2563\u001b[39m \u001b[38;5;28;01mwith\u001b[39;00m \u001b[38;5;28mself\u001b[39m.builtin_trap:\n\u001b[32m   2564\u001b[39m     args = (magic_arg_s, cell)\n\u001b[32m-> \u001b[39m\u001b[32m2565\u001b[39m     result = \u001b[43mfn\u001b[49m\u001b[43m(\u001b[49m\u001b[43m*\u001b[49m\u001b[43margs\u001b[49m\u001b[43m,\u001b[49m\u001b[43m \u001b[49m\u001b[43m*\u001b[49m\u001b[43m*\u001b[49m\u001b[43mkwargs\u001b[49m\u001b[43m)\u001b[49m\n\u001b[32m   2567\u001b[39m \u001b[38;5;66;03m# The code below prevents the output from being displayed\u001b[39;00m\n\u001b[32m   2568\u001b[39m \u001b[38;5;66;03m# when using magics with decorator @output_can_be_silenced\u001b[39;00m\n\u001b[32m   2569\u001b[39m \u001b[38;5;66;03m# when the last Python token in the expression is a ';'.\u001b[39;00m\n\u001b[32m   2570\u001b[39m \u001b[38;5;28;01mif\u001b[39;00m \u001b[38;5;28mgetattr\u001b[39m(fn, magic.MAGIC_OUTPUT_CAN_BE_SILENCED, \u001b[38;5;28;01mFalse\u001b[39;00m):\n",
      "\u001b[36mFile \u001b[39m\u001b[32m~/miniconda3/lib/python3.11/site-packages/rpy2/ipython/rmagic.py:1318\u001b[39m, in \u001b[36mRMagics.R\u001b[39m\u001b[34m(self, line, cell, local_ns)\u001b[39m\n\u001b[32m   1316\u001b[39m     \u001b[38;5;28;01mif\u001b[39;00m \u001b[38;5;129;01mnot\u001b[39;00m e.stdout.endswith(e.err):\n\u001b[32m   1317\u001b[39m         \u001b[38;5;28mprint\u001b[39m(e.err)\n\u001b[32m-> \u001b[39m\u001b[32m1318\u001b[39m     \u001b[38;5;28;01mraise\u001b[39;00m e\n\u001b[32m   1319\u001b[39m \u001b[38;5;28;01mfinally\u001b[39;00m:\n\u001b[32m   1320\u001b[39m     \u001b[38;5;28;01mif\u001b[39;00m \u001b[38;5;28misinstance\u001b[39m(\u001b[38;5;28mself\u001b[39m.graphics_device, FileDevice):\n",
      "\u001b[36mFile \u001b[39m\u001b[32m~/miniconda3/lib/python3.11/site-packages/rpy2/ipython/rmagic.py:1283\u001b[39m, in \u001b[36mRMagics.R\u001b[39m\u001b[34m(self, line, cell, local_ns)\u001b[39m\n\u001b[32m   1281\u001b[39m         return_output = \u001b[38;5;28;01mFalse\u001b[39;00m\n\u001b[32m   1282\u001b[39m \u001b[38;5;28;01melse\u001b[39;00m:\n\u001b[32m-> \u001b[39m\u001b[32m1283\u001b[39m     text_result, result, visible = \u001b[38;5;28;43mself\u001b[39;49m\u001b[43m.\u001b[49m\u001b[43meval\u001b[49m\u001b[43m(\u001b[49m\u001b[43mcode\u001b[49m\u001b[43m)\u001b[49m\n\u001b[32m   1284\u001b[39m     text_output += text_result\n\u001b[32m   1285\u001b[39m     \u001b[38;5;28;01mif\u001b[39;00m visible:\n",
      "\u001b[36mFile \u001b[39m\u001b[32m~/miniconda3/lib/python3.11/site-packages/rpy2/ipython/rmagic.py:774\u001b[39m, in \u001b[36mRMagics.eval\u001b[39m\u001b[34m(self, code)\u001b[39m\n\u001b[32m    771\u001b[39m \u001b[38;5;28;01mexcept\u001b[39;00m (ri.embedded.RRuntimeError, \u001b[38;5;167;01mValueError\u001b[39;00m) \u001b[38;5;28;01mas\u001b[39;00m exception:\n\u001b[32m    772\u001b[39m     \u001b[38;5;66;03m# Otherwise next return seems to have copy of error.\u001b[39;00m\n\u001b[32m    773\u001b[39m     warning_or_other_msg = \u001b[38;5;28mself\u001b[39m.flush()\n\u001b[32m--> \u001b[39m\u001b[32m774\u001b[39m     \u001b[38;5;28;01mraise\u001b[39;00m RInterpreterError(code, \u001b[38;5;28mstr\u001b[39m(exception),\n\u001b[32m    775\u001b[39m                             warning_or_other_msg)\n\u001b[32m    776\u001b[39m \u001b[38;5;28;01mfinally\u001b[39;00m:\n\u001b[32m    777\u001b[39m     ro._print_deferred_warnings()\n",
      "\u001b[31mRInterpreterError\u001b[39m: Failed to parse and evaluate line '#import vcfR to change the filtered VCF to a LOCI object\\ninstall.packages(\"vcfR\")\\nlibrary(vcfR)\\ninstall.packages(\"Rsamtools\")\\nlibrary(Rsamtools)\\ninstall.packages(\"pegas\")\\nlibrary(pegas)\\n'.\nR error message: 'Error in library(Rsamtools) : there is no package called ‘Rsamtools’'\nR stdout:\ntrying URL 'https://mirror.chpc.utah.edu/pub/cran/src/contrib/vcfR_1.15.0.tar.gz'\nContent type 'application/x-gzip' length 1457748 bytes (1.4 MB)\n==================================================\ndownloaded 1.4 MB\n\n\nThe downloaded source packages are in\n\t‘/tmp/RtmpXM4Bjl/downloaded_packages’\nUpdating HTML index of packages in '.Library'\nMaking 'packages.html' ... done\nError in library(Rsamtools) : there is no package called ‘Rsamtools’\nIn addition: Warning message:\npackage ‘Rsamtools’ is not available for this version of R\n\nA version of this package for your version of R might be available elsewhere,\nsee the ideas at\nhttps://cran.r-project.org/doc/manuals/r-patched/R-admin.html#Installing-packages"
     ]
    }
   ],
   "source": [
    "%%R\n",
    "#import vcfR to change the filtered VCF to a LOCI object\n",
    "install.packages(\"vcfR\")\n",
    "library(vcfR)\n",
    "install.packages(\"Rsamtools\")\n",
    "library(Rsamtools)\n",
    "install.packages(\"pegas\")\n",
    "library(pegas)"
   ]
  },
  {
   "cell_type": "code",
   "execution_count": 9,
   "id": "692fc809",
   "metadata": {
    "collapsed": true,
    "jupyter": {
     "outputs_hidden": true
    }
   },
   "outputs": [
    {
     "data": {
      "text/html": [
       "\n",
       "        <span>ListVector with 3 elements.</span>\n",
       "        <table>\n",
       "        <tbody>\n",
       "        \n",
       "          <tr>\n",
       "            <th>\n",
       "            [no name]\n",
       "            </th>\n",
       "            <td>\n",
       "            <rpy2.rinterface_lib.sexp.StrSexpVector object at 0x7fdaf5fc7990> [16]\n",
       "            </td>\n",
       "          </tr>\n",
       "        \n",
       "          <tr>\n",
       "            <th>\n",
       "            [no name]\n",
       "            </th>\n",
       "            <td>\n",
       "            <rpy2.rinterface_lib.sexp.StrSexpVector object at 0x7fdb07179750> [16]\n",
       "            </td>\n",
       "          </tr>\n",
       "        \n",
       "          <tr>\n",
       "            <th>\n",
       "            [no name]\n",
       "            </th>\n",
       "            <td>\n",
       "            <rpy2.rinterface_lib.sexp.StrSexpVector object at 0x7fdaf10887d0> [16]\n",
       "            </td>\n",
       "          </tr>\n",
       "        \n",
       "        </tbody>\n",
       "        </table>\n",
       "        "
      ],
      "text/plain": [
       "<rpy2.robjects.vectors.ListVector object at 0x7fdb6104a250> [19]\n",
       "R classes: ('list',)\n",
       "[StrSexpVector, StrSexpVector, StrSexpVector]\n",
       "  <no name>: <class 'rpy2.rinterface_lib.sexp.StrSexpVector'>\n",
       "  <rpy2.rinterface_lib.sexp.StrSexpVector object at 0x7fdaf5461a90> [16]\n",
       "  <no name>: <class 'rpy2.rinterface_lib.sexp.StrSexpVector'>\n",
       "  <rpy2.rinterface_lib.sexp.StrSexpVector object at 0x7fdb07182d10> [16]\n",
       "  <no name>: <class 'rpy2.rinterface_lib.sexp.StrSexpVector'>\n",
       "  <rpy2.rinterface_lib.sexp.StrSexpVector object at 0x7fdaf10887d0> [16]"
      ]
     },
     "execution_count": 9,
     "metadata": {},
     "output_type": "execute_result"
    }
   ],
   "source": [
    "# the path to your VCF formatted files\n",
    "#paths\n",
    "FULL_PATH   = \"../00_data/00c_data_all/\"\n",
    "SUBSET_PATH = \"../00_data/00d_data_subsets/\"\n",
    "LOCI_PATH   = \"../00_data/loci/\"\n",
    "miss60_full       = FULL_PATH   + \"chenopodium_20250304b-tetraploid.indivmiss60.locimiss50.thin10.maf0.01.LD0.8-1000.vcf.gz\"\n",
    "miss60_OAM        = SUBSET_PATH + \"chenopodium_20250304b-tetraploid.indivmiss60.locimiss50.thin10.maf0.01.LD0.8-1000.no-CH-AR.vcf.gz\"\n",
    "miss60_OAM_OAout  = SUBSET_PATH + \"chenopodium_20250304b-tetraploid.indivmiss60.locimiss50.thin10.maf0.01.LD0.8-1000.no-AR.no-CH-except-OA.vcf.gz\"\n",
    "vcf_files         = [miss60_full, miss60_OAM, miss60_OAM_OAout]\n",
    "\n",
    "# passes the above variables to R\n",
    "robjects.r.assign(\"FULL_PATH_r\"  , FULL_PATH)\n",
    "robjects.r.assign(\"SUBSET_PATH_r\", SUBSET_PATH)\n",
    "robjects.r.assign(\"LOCI_PATH_r\" , LOCI_PATH)\n",
    "robjects.r.assign(\"miss60_full_r\", miss60_full)\n",
    "robjects.r.assign(\"miss60_OAM_r\" , miss60_OAM)\n",
    "robjects.r.assign(\"vcf_files_r\"  , vcf_files)"
   ]
  },
  {
   "cell_type": "code",
   "execution_count": 36,
   "id": "e18528e0-0e95-42dc-bbc0-71c43e9701bb",
   "metadata": {},
   "outputs": [],
   "source": [
    "%%bash\n",
    "# makes the temp dir, and makes unzipped copies of the .vcf.gz files in it\n",
    "TMPDIR=../00_data/temp_files\n",
    "mkdir -p $TMPDIR\n",
    "for file in ../00_data/00c_data_all/*.gz ../00_data/00d_data_subsets/*.gz; do\n",
    "    zcat $file > $TMPDIR/$(basename $file).temp\n",
    "done"
   ]
  },
  {
   "cell_type": "code",
   "execution_count": 64,
   "id": "ca8c2cdb-01b2-4cb8-bf56-b314d17ce3ce",
   "metadata": {
    "scrolled": true
   },
   "outputs": [
    {
     "name": "stdout",
     "output_type": "stream",
     "text": [
      "Scanning file to determine attributes.\n",
      "File attributes:\n",
      "  meta lines: 8153\n",
      "  header_line: 8154\n",
      "  variant count: 18736\n",
      "  column count: 104\n",
      "Meta line 8153 read in.\n",
      "All meta lines processed.\n",
      "gt matrix initialized.\n",
      "Character matrix gt created.\n",
      "  Character matrix gt rows: 18736\n",
      "  Character matrix gt cols: 104\n",
      "  skip: 0\n",
      "  nrows: 18736\n",
      "  row_num: 0\n",
      "Processed variant: 18736\n",
      "All variants processed\n",
      "[1] \"chenopodium_20250304b-tetraploid.indivmiss20.locimiss50.thin10.maf0.01.LD0.8-1000.loci\"\n",
      "[1] \"../00_data/loci/chenopodium_20250304b-tetraploid.indivmiss20.locimiss50.thin10.maf0.01.LD0.8-1000.loci\"\n",
      "Scanning file to determine attributes.\n",
      "File attributes:\n",
      "  meta lines: 8192\n",
      "  header_line: 8193\n",
      "  variant count: 19088\n",
      "  column count: 110\n",
      "Meta line 8192 read in.\n",
      "All meta lines processed.\n",
      "gt matrix initialized.\n",
      "Character matrix gt created.\n",
      "  Character matrix gt rows: 19088\n",
      "  Character matrix gt cols: 110\n",
      "  skip: 0\n",
      "  nrows: 19088\n",
      "  row_num: 0\n",
      "Processed variant: 19088\n",
      "All variants processed\n",
      "[1] \"chenopodium_20250304b-tetraploid.indivmiss40.locimiss50.thin10.maf0.01.LD0.8-1000.loci\"\n",
      "[1] \"../00_data/loci/chenopodium_20250304b-tetraploid.indivmiss40.locimiss50.thin10.maf0.01.LD0.8-1000.loci\"\n",
      "Scanning file to determine attributes.\n",
      "File attributes:\n",
      "  meta lines: 8042\n",
      "  header_line: 8043\n",
      "  variant count: 18208\n",
      "  column count: 80\n",
      "Meta line 8042 read in.\n",
      "All meta lines processed.\n",
      "gt matrix initialized.\n",
      "Character matrix gt created.\n",
      "  Character matrix gt rows: 18208\n",
      "  Character matrix gt cols: 80\n",
      "  skip: 0\n",
      "  nrows: 18208\n",
      "  row_num: 0\n",
      "Processed variant: 18208\n",
      "All variants processed\n",
      "[1] \"chenopodium_20250304b-tetraploid.indivmiss60.locimiss50.thin10.maf0.01.LD0.8-1000.no-AR.no-CH-except-OA.loci\"\n",
      "[1] \"../00_data/loci/chenopodium_20250304b-tetraploid.indivmiss60.locimiss50.thin10.maf0.01.LD0.8-1000.no-AR.no-CH-except-OA.loci\"\n",
      "Scanning file to determine attributes.\n",
      "File attributes:\n",
      "  meta lines: 8042\n",
      "  header_line: 8043\n",
      "  variant count: 18208\n",
      "  column count: 74\n",
      "Meta line 8042 read in.\n",
      "All meta lines processed.\n",
      "gt matrix initialized.\n",
      "Character matrix gt created.\n",
      "  Character matrix gt rows: 18208\n",
      "  Character matrix gt cols: 74\n",
      "  skip: 0\n",
      "  nrows: 18208\n",
      "  row_num: 0\n",
      "Processed variant: 18208\n",
      "All variants processed\n",
      "[1] \"chenopodium_20250304b-tetraploid.indivmiss60.locimiss50.thin10.maf0.01.LD0.8-1000.no-CH-AR.loci\"\n",
      "[1] \"../00_data/loci/chenopodium_20250304b-tetraploid.indivmiss60.locimiss50.thin10.maf0.01.LD0.8-1000.no-CH-AR.loci\"\n",
      "Scanning file to determine attributes.\n",
      "File attributes:\n",
      "  meta lines: 8038\n",
      "  header_line: 8039\n",
      "  variant count: 18208\n",
      "  column count: 114\n",
      "Meta line 8038 read in.\n",
      "All meta lines processed.\n",
      "gt matrix initialized.\n",
      "Character matrix gt created.\n",
      "  Character matrix gt rows: 18208\n",
      "  Character matrix gt cols: 114\n",
      "  skip: 0\n",
      "  nrows: 18208\n",
      "  row_num: 0\n",
      "Processed variant: 18208\n",
      "All variants processed\n",
      "[1] \"chenopodium_20250304b-tetraploid.indivmiss60.locimiss50.thin10.maf0.01.LD0.8-1000.loci\"\n",
      "[1] \"../00_data/loci/chenopodium_20250304b-tetraploid.indivmiss60.locimiss50.thin10.maf0.01.LD0.8-1000.loci\"\n"
     ]
    }
   ],
   "source": [
    "%%R\n",
    "# converts the temporary .vcf files to .loci and saves them to the data/loci folder\n",
    "TMPDIR<-\"../00_data/temp_files/\"\n",
    "for (file in list.files(TMPDIR)) {\n",
    "    fullpath<-paste0(TMPDIR, file)\n",
    "    vcf <- read.vcfR(fullpath)  # imports the VCF\n",
    "    loci <- vcfR2loci(vcf) # converts to a .loci file\n",
    "    filename <- sub(\".vcf.gz.temp\", \".loci\", basename(file)) # replaces the extension\n",
    "    print(filename)\n",
    "    print(paste0(LOCI_PATH_r,filename))\n",
    "    write.loci(loci, file=paste0(LOCI_PATH_r,filename))\n",
    "#    save(loci, file = paste0(LOCI_PATH_r,filename))\n",
    "}"
   ]
  },
  {
   "cell_type": "code",
   "execution_count": 17,
   "id": "227fed66",
   "metadata": {
    "scrolled": true
   },
   "outputs": [],
   "source": [
    "%%bash\n",
    "# cleans up our temporary files\n",
    "rm ../00_data/temp_files/*"
   ]
  }
 ],
 "metadata": {
  "kernelspec": {
   "display_name": "Python 3 (ipykernel)",
   "language": "python",
   "name": "python3"
  },
  "language_info": {
   "codemirror_mode": {
    "name": "ipython",
    "version": 3
   },
   "file_extension": ".py",
   "mimetype": "text/x-python",
   "name": "python",
   "nbconvert_exporter": "python",
   "pygments_lexer": "ipython3",
   "version": "3.11.9"
  }
 },
 "nbformat": 4,
 "nbformat_minor": 5
}
