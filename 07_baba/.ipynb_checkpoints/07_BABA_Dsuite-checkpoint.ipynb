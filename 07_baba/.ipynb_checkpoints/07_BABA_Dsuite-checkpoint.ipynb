{
 "cells": [
  {
   "cell_type": "code",
   "execution_count": 8,
   "id": "ee523160-a377-48b9-99ec-e07b5aa6a33c",
   "metadata": {},
   "outputs": [],
   "source": [
    "#!bin/bash"
   ]
  },
  {
   "cell_type": "code",
   "execution_count": 22,
   "id": "43c27266-04d4-4e98-a2fa-cbc490313a4d",
   "metadata": {},
   "outputs": [],
   "source": [
    "NEWICK_IN=\"../06_phylos/analysis-iqtree/chenopodium_20250304b-tetraploid.indivmiss60.locimiss50.thin10.maf0.01.LD0.8-1000.no-AR.no-CH-except-OA.min4.phy.contree\""
   ]
  },
  {
   "cell_type": "code",
   "execution_count": 26,
   "id": "bf23860e-41b1-41cb-a156-babb6876ca70",
   "metadata": {},
   "outputs": [
    {
     "name": "stdout",
     "output_type": "stream",
     "text": [
      "chenopodium_20250304b-tetraploid.indivmiss60.locimiss50.thin10.maf0.01.LD0.8-1000.no-AR.no-CH-except-OA.min4.phy.contree.stripped\n"
     ]
    }
   ],
   "source": [
    "PREFIX=$(basename \"$NEWICK_IN\")\n",
    "OUTFILE=$PREFIX.stripped\n",
    "echo $OUTFILE"
   ]
  },
  {
   "cell_type": "code",
   "execution_count": 2,
   "id": "76791d5b-0156-4715-b215-636680eea5cc",
   "metadata": {},
   "outputs": [
    {
     "name": "stdout",
     "output_type": "stream",
     "text": [
      "Dsuite: command not found\n"
     ]
    },
    {
     "ename": "",
     "evalue": "127",
     "output_type": "error",
     "traceback": []
    }
   ],
   "source": [
    "# Strips the Newick file of all branch lengths and bootstrap values.\n",
    "sed \\\n",
    "    -e s'/:[:.0-9eE+-][:.0-9eE+-]*,/,/g' \\\n",
    "    -e s'/)[:.0-9eE+-][:.0-9eE+-]*/)/g'  \\\n",
    "\t-e s'/:[:.0-9eE+-][:.0-9eE+-]*)/)/g' \\\n",
    "\t$NEWICK_IN > \\\n",
    "\t$NEWICK_OUT\n",
    "\n",
    "# make the standard population lists\n",
    "declare -a populations=(AR IP MO PB PK)\n",
    "for pop in \"${populations[@]}\"\n",
    "do\n",
    "/home/923643692/bin/Dsuite/Build/Dsuite Dtrios \\\n",
    "  /usr/nfs/923643692/cheno_popgen/MAF_LD/tetraploid/chenopodium_20250304b-tetraploid_indivmiss60_locimiss50_thin10_maf0.01_LD0.8-1kbp_no-CH.vcf.gz \\\n",
    "\t/usr/nfs/923643692/cheno_popgen/Dsuite/pop_assignments_Molokai_$pop-OUT.txt\n",
    "done"
   ]
  },
  {
   "cell_type": "code",
   "execution_count": null,
   "id": "afa9bc90-3c1b-4ce4-a850-afa37513ce71",
   "metadata": {},
   "outputs": [],
   "source": []
  }
 ],
 "metadata": {
  "kernelspec": {
   "display_name": "Bash",
   "language": "bash",
   "name": "bash"
  },
  "language_info": {
   "codemirror_mode": "shell",
   "file_extension": ".sh",
   "mimetype": "text/x-sh",
   "name": "bash"
  }
 },
 "nbformat": 4,
 "nbformat_minor": 5
}
