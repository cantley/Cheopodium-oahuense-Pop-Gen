{
 "cells": [
  {
   "cell_type": "code",
   "execution_count": 1,
   "id": "622b3fa6-4217-4d59-b706-23a4418d5623",
   "metadata": {},
   "outputs": [],
   "source": [
    "#!/bin/bash\n",
    "# Cantley Lab of Plant Evolution\n",
    "# Chenopodium Project\n",
    "# Example ipyrad code (command line) from https://ipyrad.readthedocs.io/en/master/pedicularis_.html\n",
    "# Baker-Strader, R.; Bullock, M.; Cantley, J."
   ]
  },
  {
   "cell_type": "code",
   "execution_count": 2,
   "id": "d6a19052-5762-4897-91f2-13f4839ea6f4",
   "metadata": {},
   "outputs": [],
   "source": [
    "# directories and file paths. You'll need to set these\n",
    "WORKING_DIR=\"/home/923643692/cheno_pop_tests\" # where the main analysis folder is stored; an absolute path, because vcftools doesn't like relative dirs?\n",
    "IPYRAD_OUT_VCF_PATH=\"/usr/nfs/923643692/cheno_popgen/ipyrad/tetraploid/chenopodium1_tetraploid/chenopodium_20250304b-tetraploid_outfiles/chenopodium_20250304b-tetraploid.vcf\"\n",
    "BASE_NAME=\"chenopodium_20250304b-tetraploid\"\n",
    "\n",
    "# You can leave these alone, they're just here to make the follow-on code less clunky\n",
    "FILTER_PATH=\"$WORKING_DIR/00_data\"\n",
    "IMISS_PATH=\"$FILTER_PATH/00a_imiss\"\n",
    "WORKING_PATH=\"$FILTER_PATH/00b_intermediate_files\"\n",
    "FINAL_VCF_OUTPUT_PATH=\"$FILTER_PATH/00c_data_all\"\n",
    "SUBSETS_PATH=\"$FILTER_PATH/00d_data_subsets\""
   ]
  },
  {
   "cell_type": "markdown",
   "id": "4e077627-fd8e-4b39-bfb5-2f837d3ed9c1",
   "metadata": {},
   "source": [
    "Now we subset based on populations."
   ]
  },
  {
   "cell_type": "code",
   "execution_count": 3,
   "id": "58e212ea-f4b5-43fa-9764-1ff315df2985",
   "metadata": {},
   "outputs": [],
   "source": [
    "# makes lists of populations\n",
    "sample_list=$(mawk '$5' $IMISS_PATH/missingind.imiss | cut -f1 | cat)\n",
    "AR_samples=()\n",
    "CH_samples=()\n",
    "IP_samples=()\n",
    "MO_samples=()\n",
    "PB_samples=()\n",
    "PK_samples=()\n",
    "\n",
    "# adds the samples to the lists\n",
    "for sample in $sample_list; do\n",
    "  if   [[ $sample == *\"AR\"* ]]; then AR_samples+=($sample)\n",
    "  elif [[ $sample == *\"CH\"* ]]; then CH_samples+=($sample)\n",
    "  elif [[ $sample == *\"IP\"* ]]; then IP_samples+=($sample)\n",
    "  elif [[ $sample == *\"MO\"* ]]; then MO_samples+=($sample)\n",
    "  elif [[ $sample == *\"PB\"* ]]; then PB_samples+=($sample)\n",
    "  elif [[ $sample == *\"PK\"* ]]; then PK_samples+=($sample)\n",
    "  fi\n",
    "done\n",
    "\n",
    "# replaces spaces with commas for use in bcftools subsetting\n",
    "cs_AR_samples=\"\"; for sample in \"${AR_samples[@]}\"; do cs_AR_samples+=\"$sample,\"; done\n",
    "cs_CH_samples=\"\"; for sample in \"${CH_samples[@]}\"; do cs_CH_samples+=\"$sample,\"; done\n",
    "cs_IP_samples=\"\"; for sample in \"${IP_samples[@]}\"; do cs_IP_samples+=\"$sample,\"; done\n",
    "cs_MO_samples=\"\"; for sample in \"${MO_samples[@]}\"; do cs_MO_samples+=\"$sample,\"; done\n",
    "cs_PB_samples=\"\"; for sample in \"${PB_samples[@]}\"; do cs_PB_samples+=\"$sample,\"; done\n",
    "cs_PK_samples=\"\"; for sample in \"${PK_samples[@]}\"; do cs_PK_samples+=\"$sample,\"; done"
   ]
  },
  {
   "cell_type": "code",
   "execution_count": 4,
   "id": "266ed094-28ae-4852-9048-1c51b30f89f2",
   "metadata": {},
   "outputs": [
    {
     "name": "stdout",
     "output_type": "stream",
     "text": [
      "\u001b[0m\u001b[01;31mchenopodium_20250304b-tetraploid.indivmiss20.locimiss50.thin10.maf0.01.LD0.8-1000.vcf.gz\u001b[0m\u001b[K\n",
      "\u001b[01;31mchenopodium_20250304b-tetraploid.indivmiss40.locimiss50.thin10.maf0.01.LD0.8-1000.vcf.gz\u001b[0m\u001b[K\n",
      "\u001b[01;31mchenopodium_20250304b-tetraploid.indivmiss60.locimiss50.thin10.maf0.01.LD0.8-1000.vcf.gz\u001b[0m\u001b[K\n"
     ]
    }
   ],
   "source": [
    "ls $FINAL_VCF_OUTPUT_PATH/\n",
    "vcf_miss60=chenopodium_20250304b-tetraploid.indivmiss60.locimiss50.thin10.maf0.01.LD0.8-1000"
   ]
  },
  {
   "cell_type": "code",
   "execution_count": 5,
   "id": "743c7690-0f09-4238-a81a-40b79c39e2bc",
   "metadata": {
    "scrolled": true
   },
   "outputs": [
    {
     "name": "stdout",
     "output_type": "stream",
     "text": [
      "Warn: exclude called for sample that does not exist in header: \"CO-CH-13\"... skipping\n",
      "Warn: exclude called for sample that does not exist in header: \"CO-CH-15\"... skipping\n",
      "Warn: exclude called for sample that does not exist in header: \"CO-CH-16\"... skipping\n",
      "Warn: exclude called for sample that does not exist in header: \"CO-CH-20\"... skipping\n",
      "Warn: exclude called for sample that does not exist in header: \"CO-CH-26\"... skipping\n",
      "Warn: exclude called for sample that does not exist in header: \"CO-CH-4\"... skipping\n",
      "Warn: exclude called for sample that does not exist in header: \"CO-CH-7\"... skipping\n",
      "Done!\n"
     ]
    }
   ],
   "source": [
    "# this uses the carat (^) to exclude the entries in the given string. The \"::-1\" removes the final trailing comma from the last set.\n",
    "\n",
    "# no CH, AR\n",
    "bcftools view -s ^${cs_AR_samples}${cs_CH_samples::-1} \\\n",
    "    $FINAL_VCF_OUTPUT_PATH/$vcf_miss60.vcf.gz \\\n",
    "    --force-samples -Oz -o \\\n",
    "    $SUBSETS_PATH/$vcf_miss60.no-CH-AR.vcf.gz\n",
    "echo Done!"
   ]
  },
  {
   "cell_type": "code",
   "execution_count": 6,
   "id": "fc30fe55-4ba2-4437-8739-3cc947e6a03a",
   "metadata": {},
   "outputs": [
    {
     "name": "stdout",
     "output_type": "stream",
     "text": [
      "Written to Big_Island_samples.txt: CO-CH-4,CO-CH-5,CO-CH-3,CO-CH-6,CO-CH-7,CO-CH-8,CO-CH-9,CO-CH-10,CO-CH-11,CO-CH-12,CO-CH-46\n",
      "Written to FFS_samples.txt: CO-CH-36,CO-CH-37\n",
      "Written to Kauai_samples.txt: CO-CH-28,CO-CH-27\n",
      "Written to Kaula_samples.txt: CO-CH-29\n",
      "Written to Lisianski_samples.txt: CO-CH-38\n",
      "Written to Maui_samples.txt: CO-CH-14,CO-CH-13,CO-CH-15\n",
      "Written to Molokai_samples.txt: CO-CH-16,CO-CH-18,CO-CH-39,CO-CH-40,CO-CH-44,CO-CH-45\n",
      "Written to Necker_samples.txt: CO-CH-32,CO-CH-33,CO-CH-34,CO-CH-35\n",
      "Written to Nihoa_samples.txt: CO-CH-30,CO-CH-31\n",
      "Written to Oahu_samples.txt: CO-CH-25,CO-CH-1,CO-CH-2,CO-CH-20,CO-CH-21,CO-CH-22,CO-CH-23,CO-CH-24,CO-CH-26\n",
      "Written to Big_Island-exclusive_samples.txt: CO-CH-36,CO-CH-37,CO-CH-28,CO-CH-27,CO-CH-29,CO-CH-38,CO-CH-14,CO-CH-13,CO-CH-15,CO-CH-16,CO-CH-18,CO-CH-39,CO-CH-40,CO-CH-44,CO-CH-45,CO-CH-32,CO-CH-33,CO-CH-34,CO-CH-35,CO-CH-30,CO-CH-31,CO-CH-25,CO-CH-1,CO-CH-2,CO-CH-20,CO-CH-21,CO-CH-22,CO-CH-23,CO-CH-24,CO-CH-26\n",
      "Written to FFS-exclusive_samples.txt: CO-CH-4,CO-CH-5,CO-CH-3,CO-CH-6,CO-CH-7,CO-CH-8,CO-CH-9,CO-CH-10,CO-CH-11,CO-CH-12,CO-CH-46,CO-CH-28,CO-CH-27,CO-CH-29,CO-CH-38,CO-CH-14,CO-CH-13,CO-CH-15,CO-CH-16,CO-CH-18,CO-CH-39,CO-CH-40,CO-CH-44,CO-CH-45,CO-CH-32,CO-CH-33,CO-CH-34,CO-CH-35,CO-CH-30,CO-CH-31,CO-CH-25,CO-CH-1,CO-CH-2,CO-CH-20,CO-CH-21,CO-CH-22,CO-CH-23,CO-CH-24,CO-CH-26\n",
      "Written to Kauai-exclusive_samples.txt: CO-CH-4,CO-CH-5,CO-CH-3,CO-CH-6,CO-CH-7,CO-CH-8,CO-CH-9,CO-CH-10,CO-CH-11,CO-CH-12,CO-CH-46,CO-CH-36,CO-CH-37,CO-CH-29,CO-CH-38,CO-CH-14,CO-CH-13,CO-CH-15,CO-CH-16,CO-CH-18,CO-CH-39,CO-CH-40,CO-CH-44,CO-CH-45,CO-CH-32,CO-CH-33,CO-CH-34,CO-CH-35,CO-CH-30,CO-CH-31,CO-CH-25,CO-CH-1,CO-CH-2,CO-CH-20,CO-CH-21,CO-CH-22,CO-CH-23,CO-CH-24,CO-CH-26\n",
      "Written to Kaula-exclusive_samples.txt: CO-CH-4,CO-CH-5,CO-CH-3,CO-CH-6,CO-CH-7,CO-CH-8,CO-CH-9,CO-CH-10,CO-CH-11,CO-CH-12,CO-CH-46,CO-CH-36,CO-CH-37,CO-CH-28,CO-CH-27,CO-CH-38,CO-CH-14,CO-CH-13,CO-CH-15,CO-CH-16,CO-CH-18,CO-CH-39,CO-CH-40,CO-CH-44,CO-CH-45,CO-CH-32,CO-CH-33,CO-CH-34,CO-CH-35,CO-CH-30,CO-CH-31,CO-CH-25,CO-CH-1,CO-CH-2,CO-CH-20,CO-CH-21,CO-CH-22,CO-CH-23,CO-CH-24,CO-CH-26\n",
      "Written to Lisianski-exclusive_samples.txt: CO-CH-4,CO-CH-5,CO-CH-3,CO-CH-6,CO-CH-7,CO-CH-8,CO-CH-9,CO-CH-10,CO-CH-11,CO-CH-12,CO-CH-46,CO-CH-36,CO-CH-37,CO-CH-28,CO-CH-27,CO-CH-29,CO-CH-14,CO-CH-13,CO-CH-15,CO-CH-16,CO-CH-18,CO-CH-39,CO-CH-40,CO-CH-44,CO-CH-45,CO-CH-32,CO-CH-33,CO-CH-34,CO-CH-35,CO-CH-30,CO-CH-31,CO-CH-25,CO-CH-1,CO-CH-2,CO-CH-20,CO-CH-21,CO-CH-22,CO-CH-23,CO-CH-24,CO-CH-26\n",
      "Written to Maui-exclusive_samples.txt: CO-CH-4,CO-CH-5,CO-CH-3,CO-CH-6,CO-CH-7,CO-CH-8,CO-CH-9,CO-CH-10,CO-CH-11,CO-CH-12,CO-CH-46,CO-CH-36,CO-CH-37,CO-CH-28,CO-CH-27,CO-CH-29,CO-CH-38,CO-CH-16,CO-CH-18,CO-CH-39,CO-CH-40,CO-CH-44,CO-CH-45,CO-CH-32,CO-CH-33,CO-CH-34,CO-CH-35,CO-CH-30,CO-CH-31,CO-CH-25,CO-CH-1,CO-CH-2,CO-CH-20,CO-CH-21,CO-CH-22,CO-CH-23,CO-CH-24,CO-CH-26\n",
      "Written to Molokai-exclusive_samples.txt: CO-CH-4,CO-CH-5,CO-CH-3,CO-CH-6,CO-CH-7,CO-CH-8,CO-CH-9,CO-CH-10,CO-CH-11,CO-CH-12,CO-CH-46,CO-CH-36,CO-CH-37,CO-CH-28,CO-CH-27,CO-CH-29,CO-CH-38,CO-CH-14,CO-CH-13,CO-CH-15,CO-CH-32,CO-CH-33,CO-CH-34,CO-CH-35,CO-CH-30,CO-CH-31,CO-CH-25,CO-CH-1,CO-CH-2,CO-CH-20,CO-CH-21,CO-CH-22,CO-CH-23,CO-CH-24,CO-CH-26\n",
      "Written to Necker-exclusive_samples.txt: CO-CH-4,CO-CH-5,CO-CH-3,CO-CH-6,CO-CH-7,CO-CH-8,CO-CH-9,CO-CH-10,CO-CH-11,CO-CH-12,CO-CH-46,CO-CH-36,CO-CH-37,CO-CH-28,CO-CH-27,CO-CH-29,CO-CH-38,CO-CH-14,CO-CH-13,CO-CH-15,CO-CH-16,CO-CH-18,CO-CH-39,CO-CH-40,CO-CH-44,CO-CH-45,CO-CH-30,CO-CH-31,CO-CH-25,CO-CH-1,CO-CH-2,CO-CH-20,CO-CH-21,CO-CH-22,CO-CH-23,CO-CH-24,CO-CH-26\n",
      "Written to Nihoa-exclusive_samples.txt: CO-CH-4,CO-CH-5,CO-CH-3,CO-CH-6,CO-CH-7,CO-CH-8,CO-CH-9,CO-CH-10,CO-CH-11,CO-CH-12,CO-CH-46,CO-CH-36,CO-CH-37,CO-CH-28,CO-CH-27,CO-CH-29,CO-CH-38,CO-CH-14,CO-CH-13,CO-CH-15,CO-CH-16,CO-CH-18,CO-CH-39,CO-CH-40,CO-CH-44,CO-CH-45,CO-CH-32,CO-CH-33,CO-CH-34,CO-CH-35,CO-CH-25,CO-CH-1,CO-CH-2,CO-CH-20,CO-CH-21,CO-CH-22,CO-CH-23,CO-CH-24,CO-CH-26\n",
      "Written to Oahu-exclusive_samples.txt: CO-CH-4,CO-CH-5,CO-CH-3,CO-CH-6,CO-CH-7,CO-CH-8,CO-CH-9,CO-CH-10,CO-CH-11,CO-CH-12,CO-CH-46,CO-CH-36,CO-CH-37,CO-CH-28,CO-CH-27,CO-CH-29,CO-CH-38,CO-CH-14,CO-CH-13,CO-CH-15,CO-CH-16,CO-CH-18,CO-CH-39,CO-CH-40,CO-CH-44,CO-CH-45,CO-CH-32,CO-CH-33,CO-CH-34,CO-CH-35,CO-CH-30,CO-CH-31\n"
     ]
    }
   ],
   "source": [
    "#makes lists of the populations by islands\n",
    "python ../99_misc_scripts/make_lists_of_CH_samples_by_island.py"
   ]
  },
  {
   "cell_type": "code",
   "execution_count": 29,
   "id": "6d73743c-90f3-4268-a210-8101a1c037e0",
   "metadata": {},
   "outputs": [
    {
     "name": "stdout",
     "output_type": "stream",
     "text": [
      "Warn: exclude called for sample that does not exist in header: \"CO-CH-4\"... skipping\n",
      "Warn: exclude called for sample that does not exist in header: \"CO-CH-3\"... skipping\n",
      "Warn: exclude called for sample that does not exist in header: \"CO-CH-7\"... skipping\n",
      "Warn: exclude called for sample that does not exist in header: \"CO-CH-36\"... skipping\n",
      "Warn: exclude called for sample that does not exist in header: \"CO-CH-37\"... skipping\n",
      "Warn: exclude called for sample that does not exist in header: \"CO-CH-27\"... skipping\n",
      "Warn: exclude called for sample that does not exist in header: \"CO-CH-38\"... skipping\n",
      "Warn: exclude called for sample that does not exist in header: \"CO-CH-14\"... skipping\n",
      "Warn: exclude called for sample that does not exist in header: \"CO-CH-13\"... skipping\n",
      "Warn: exclude called for sample that does not exist in header: \"CO-CH-15\"... skipping\n",
      "Warn: exclude called for sample that does not exist in header: \"CO-CH-16\"... skipping\n",
      "Warn: exclude called for sample that does not exist in header: \"CO-CH-44\"... skipping\n",
      "Warn: exclude called for sample that does not exist in header: \"CO-CH-32\"... skipping\n",
      "Warn: exclude called for sample that does not exist in header: \"CO-CH-33\"... skipping\n",
      "Warn: exclude called for sample that does not exist in header: \"CO-CH-34\"... skipping\n",
      "Warn: exclude called for sample that does not exist in header: \"CO-CH-35\"... skipping\n",
      "Warn: exclude called for sample that does not exist in header: \"CO-CH-30\"... skipping\n",
      "Warn: exclude called for sample that does not exist in header: \"CO-CH-31\"... skipping\n",
      "Done!\n"
     ]
    }
   ],
   "source": [
    "# no AR; no CH except OAHU\n",
    "only_OA=$(head -n 1 ../00_data/CH_pop_lists/Oahu-exclusive_samples.txt)\n",
    "bcftools view -s ^${cs_AR_samples}$only_OA \\\n",
    "    $FINAL_VCF_OUTPUT_PATH/$vcf_miss60.vcf.gz \\\n",
    "    --force-samples -Oz -o \\\n",
    "    $SUBSETS_PATH/$vcf_miss60.no-AR.no-CH-except-OA.vcf.gz\n",
    "echo Done!"
   ]
  },
  {
   "cell_type": "code",
   "execution_count": 13,
   "id": "4051ef59-f54b-42f0-82ca-f90bdbc6eb4a",
   "metadata": {},
   "outputs": [
    {
     "name": "stdout",
     "output_type": "stream",
     "text": [
      "\n",
      "VCFtools - 0.1.16\n",
      "(C) Adam Auton and Anthony Marcketta 2009\n",
      "\n",
      "Parameters as interpreted:\n",
      "\t--gzvcf /home/923643692/cheno_pop_tests/00_data/00d_data_subsets/chenopodium_20250304b-tetraploid.indivmiss60.locimiss50.thin10.maf0.01.LD0.8-1000.no-CH-AR.vcf.gz\n",
      "\n",
      "Using zlib version: 1.2.13\n",
      "After filtering, kept 65 out of 65 Individuals\n",
      "After filtering, kept 18208 out of a possible 18208 Sites\n",
      "Run Time = 1.00 seconds\n"
     ]
    }
   ],
   "source": [
    "vcftools --gzvcf $SUBSETS_PATH/$vcf_miss60.no-CH-AR.vcf.gz"
   ]
  }
 ],
 "metadata": {
  "kernelspec": {
   "display_name": "Bash",
   "language": "bash",
   "name": "bash"
  },
  "language_info": {
   "codemirror_mode": "shell",
   "file_extension": ".sh",
   "mimetype": "text/x-sh",
   "name": "bash"
  }
 },
 "nbformat": 4,
 "nbformat_minor": 5
}
